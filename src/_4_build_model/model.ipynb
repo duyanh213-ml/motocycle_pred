{
 "cells": [
  {
   "attachments": {},
   "cell_type": "markdown",
   "metadata": {},
   "source": [
    "# Xây dựng mô hình học máy dự đoán giá xe máy\n",
    "\n",
    "<center>\n",
    "    <img src=\"https://encrypted-tbn0.gstatic.com/images?q=tbn:ANd9GcSCPoABnVguHOm4kEvQhjKlJkX0AGZMur6LSg&usqp=CAU\">\n",
    "</center>"
   ]
  },
  {
   "attachments": {},
   "cell_type": "markdown",
   "metadata": {},
   "source": [
    "Sau khi đã trải qua các bước, từ việc chuẩn bị dữ liệu, làm sạch, đưa ra những sự phân tích, đánh giá cơ bản, thì bây giờ chúng ta sẽ đến với bước quan trọng nhất, cũng chính là bước chính thức của dự án này, đó là chúng ta sẽ xây dựng một mô hình dự đoán giá xe máy, có sự đánh giá, lựa chọn ra mô hình tốt nhất trước khi chúng ta đưa vào hệ thống sản phẩm (có giao diện website).\n",
    "\n",
    "Bài toán lần này là một bài toán về hồi quy, dựa đoán giá trị thực của một thuộc tính, do đó chúng ta cần chọn ra những công cụ, những thuật toán phù hợp để xây dựng tốt mô hình.\n",
    "\n",
    "Trong dự án này, sẽ sử dụng các công cụ hồi quy đang được hướng dẫn căn bản từ khóa học Machine Learning Specialization của công ty DeepLearning.AI, bao gồm Hồi quy tuyến tính (Linear Regression) (Không chỉ gồm hồi quy tuyến tính mà còn có thể sử dụng tới hồi quy đa thức (Polynomial Regression) - một biến thể của hồi quy tuyến tính, Kỹ thuật hiệu chỉnh thông qua Ridge Regression), Rừng ngẫu nhiên (Random Forest) và Mạng Neural với hàm kích hoạt ở lớp (layer) cuối cùng là hàm tuyến tính (linear-activation). "
   ]
  },
  {
   "attachments": {},
   "cell_type": "markdown",
   "metadata": {},
   "source": [
    "## 0. Khai báo các thư viện, framework cần thiết\n"
   ]
  },
  {
   "cell_type": "code",
   "execution_count": 454,
   "metadata": {},
   "outputs": [],
   "source": [
    "import pandas as pd\n",
    "import numpy as np\n",
    "import matplotlib.pyplot as plt\n",
    "import seaborn as sns\n",
    "\n",
    "from copy import deepcopy\n",
    "\n",
    "from sklearn.preprocessing import LabelEncoder\n",
    "from sklearn.model_selection import train_test_split\n",
    "from sklearn.metrics import mean_squared_error\n",
    "from sklearn.linear_model import SGDRegressor\n",
    "from sklearn.model_selection import cross_val_score\n",
    "from sklearn.preprocessing import PolynomialFeatures\n",
    "\n",
    "from xgboost import XGBRegressor\n",
    "from sklearn.ensemble import RandomForestRegressor\n",
    "\n",
    "import tensorflow as tf\n",
    "from tensorflow import keras\n",
    "from tensorflow.keras import layers\n",
    "\n",
    "\n",
    "import pickle\n",
    "\n",
    "#  Các biến đường dẫn được thay đổi tùy thuộc vào local\n",
    "PATH = r\"/home/duyanh/Documents/VS_WorkSpace/projects/programming_for_DS_v1/data/moto_cleaned_EDA.csv\"\n",
    "\n",
    "SAVE_PATH = r'/home/duyanh/Documents/VS_WorkSpace/projects/programming_for_DS_v1/model/model.pkl'"
   ]
  },
  {
   "cell_type": "code",
   "execution_count": 455,
   "metadata": {},
   "outputs": [
    {
     "name": "stdout",
     "output_type": "stream",
     "text": [
      "Số chiều: (11119, 9)\n"
     ]
    },
    {
     "data": {
      "text/html": [
       "<div>\n",
       "<style scoped>\n",
       "    .dataframe tbody tr th:only-of-type {\n",
       "        vertical-align: middle;\n",
       "    }\n",
       "\n",
       "    .dataframe tbody tr th {\n",
       "        vertical-align: top;\n",
       "    }\n",
       "\n",
       "    .dataframe thead th {\n",
       "        text-align: right;\n",
       "    }\n",
       "</style>\n",
       "<table border=\"1\" class=\"dataframe\">\n",
       "  <thead>\n",
       "    <tr style=\"text-align: right;\">\n",
       "      <th></th>\n",
       "      <th>Hang_xe</th>\n",
       "      <th>Tuoi_xe</th>\n",
       "      <th>Nam_dang_ky</th>\n",
       "      <th>Tinh_trang_xe</th>\n",
       "      <th>Dung_tich_xe</th>\n",
       "      <th>Dong_xe</th>\n",
       "      <th>So_km_da_di</th>\n",
       "      <th>Loai_xe</th>\n",
       "      <th>Gia_xe</th>\n",
       "    </tr>\n",
       "  </thead>\n",
       "  <tbody>\n",
       "    <tr>\n",
       "      <th>0</th>\n",
       "      <td>Suzuki</td>\n",
       "      <td>27</td>\n",
       "      <td>1996</td>\n",
       "      <td>Đã sử dụng</td>\n",
       "      <td>Không rõ</td>\n",
       "      <td>Sport/Xipo</td>\n",
       "      <td>1234</td>\n",
       "      <td>Tay côn</td>\n",
       "      <td>25500000.0</td>\n",
       "    </tr>\n",
       "    <tr>\n",
       "      <th>1</th>\n",
       "      <td>Piaggio</td>\n",
       "      <td>9</td>\n",
       "      <td>2014</td>\n",
       "      <td>Đã sử dụng</td>\n",
       "      <td>100 - 175 cc</td>\n",
       "      <td>Vespa</td>\n",
       "      <td>11000</td>\n",
       "      <td>Tay ga</td>\n",
       "      <td>32500000.0</td>\n",
       "    </tr>\n",
       "    <tr>\n",
       "      <th>2</th>\n",
       "      <td>Yamaha</td>\n",
       "      <td>10</td>\n",
       "      <td>2013</td>\n",
       "      <td>Đã sử dụng</td>\n",
       "      <td>100 - 175 cc</td>\n",
       "      <td>Exciter</td>\n",
       "      <td>25</td>\n",
       "      <td>Tay côn</td>\n",
       "      <td>27500000.0</td>\n",
       "    </tr>\n",
       "    <tr>\n",
       "      <th>3</th>\n",
       "      <td>Yamaha</td>\n",
       "      <td>8</td>\n",
       "      <td>2015</td>\n",
       "      <td>Đã sử dụng</td>\n",
       "      <td>100 - 175 cc</td>\n",
       "      <td>Exciter</td>\n",
       "      <td>37</td>\n",
       "      <td>Xe số</td>\n",
       "      <td>26500000.0</td>\n",
       "    </tr>\n",
       "    <tr>\n",
       "      <th>4</th>\n",
       "      <td>Honda</td>\n",
       "      <td>24</td>\n",
       "      <td>1999</td>\n",
       "      <td>Đã sử dụng</td>\n",
       "      <td>100 - 175 cc</td>\n",
       "      <td>Dream</td>\n",
       "      <td>25</td>\n",
       "      <td>Xe số</td>\n",
       "      <td>25000000.0</td>\n",
       "    </tr>\n",
       "    <tr>\n",
       "      <th>5</th>\n",
       "      <td>Yamaha</td>\n",
       "      <td>10</td>\n",
       "      <td>2013</td>\n",
       "      <td>Đã sử dụng</td>\n",
       "      <td>Không rõ</td>\n",
       "      <td>Sirius</td>\n",
       "      <td>30</td>\n",
       "      <td>Xe số</td>\n",
       "      <td>7800000.0</td>\n",
       "    </tr>\n",
       "    <tr>\n",
       "      <th>6</th>\n",
       "      <td>Honda</td>\n",
       "      <td>4</td>\n",
       "      <td>2019</td>\n",
       "      <td>Đã sử dụng</td>\n",
       "      <td>Không rõ</td>\n",
       "      <td>Winner</td>\n",
       "      <td>1000</td>\n",
       "      <td>Tay côn</td>\n",
       "      <td>16500000.0</td>\n",
       "    </tr>\n",
       "    <tr>\n",
       "      <th>7</th>\n",
       "      <td>Honda</td>\n",
       "      <td>3</td>\n",
       "      <td>2020</td>\n",
       "      <td>Đã sử dụng</td>\n",
       "      <td>100 - 175 cc</td>\n",
       "      <td>Vario</td>\n",
       "      <td>1</td>\n",
       "      <td>Tay ga</td>\n",
       "      <td>40500000.0</td>\n",
       "    </tr>\n",
       "    <tr>\n",
       "      <th>8</th>\n",
       "      <td>Yamaha</td>\n",
       "      <td>5</td>\n",
       "      <td>2018</td>\n",
       "      <td>Đã sử dụng</td>\n",
       "      <td>Không rõ</td>\n",
       "      <td>Nvx</td>\n",
       "      <td>46000</td>\n",
       "      <td>Tay ga</td>\n",
       "      <td>26000000.0</td>\n",
       "    </tr>\n",
       "    <tr>\n",
       "      <th>9</th>\n",
       "      <td>Honda</td>\n",
       "      <td>14</td>\n",
       "      <td>2009</td>\n",
       "      <td>Đã sử dụng</td>\n",
       "      <td>100 - 175 cc</td>\n",
       "      <td>AirBlade</td>\n",
       "      <td>15000</td>\n",
       "      <td>Tay ga</td>\n",
       "      <td>12500000.0</td>\n",
       "    </tr>\n",
       "  </tbody>\n",
       "</table>\n",
       "</div>"
      ],
      "text/plain": [
       "   Hang_xe  Tuoi_xe  Nam_dang_ky Tinh_trang_xe  Dung_tich_xe     Dong_xe  \\\n",
       "0   Suzuki       27         1996    Đã sử dụng      Không rõ  Sport/Xipo   \n",
       "1  Piaggio        9         2014    Đã sử dụng  100 - 175 cc       Vespa   \n",
       "2   Yamaha       10         2013    Đã sử dụng  100 - 175 cc     Exciter   \n",
       "3   Yamaha        8         2015    Đã sử dụng  100 - 175 cc     Exciter   \n",
       "4    Honda       24         1999    Đã sử dụng  100 - 175 cc       Dream   \n",
       "5   Yamaha       10         2013    Đã sử dụng      Không rõ      Sirius   \n",
       "6    Honda        4         2019    Đã sử dụng      Không rõ      Winner   \n",
       "7    Honda        3         2020    Đã sử dụng  100 - 175 cc       Vario   \n",
       "8   Yamaha        5         2018    Đã sử dụng      Không rõ         Nvx   \n",
       "9    Honda       14         2009    Đã sử dụng  100 - 175 cc    AirBlade   \n",
       "\n",
       "   So_km_da_di  Loai_xe      Gia_xe  \n",
       "0         1234  Tay côn  25500000.0  \n",
       "1        11000   Tay ga  32500000.0  \n",
       "2           25  Tay côn  27500000.0  \n",
       "3           37    Xe số  26500000.0  \n",
       "4           25    Xe số  25000000.0  \n",
       "5           30    Xe số   7800000.0  \n",
       "6         1000  Tay côn  16500000.0  \n",
       "7            1   Tay ga  40500000.0  \n",
       "8        46000   Tay ga  26000000.0  \n",
       "9        15000   Tay ga  12500000.0  "
      ]
     },
     "execution_count": 455,
     "metadata": {},
     "output_type": "execute_result"
    }
   ],
   "source": [
    "df = pd.read_csv(PATH)\n",
    "print(f'Số chiều: {df.shape}')\n",
    "df.head(10)"
   ]
  },
  {
   "attachments": {},
   "cell_type": "markdown",
   "metadata": {},
   "source": [
    "## 1. Chuẩn hóa dữ liệu"
   ]
  },
  {
   "attachments": {},
   "cell_type": "markdown",
   "metadata": {},
   "source": [
    "Điều đầu tiên, ta cần lựa chọn các cột thuộc tính, như đã phân tích ở bước trước (EDA), ta sẽ loại bỏ đi thuộc tính về hãng xe. Đồng thời, ta cũng sẽ loại bỏ thuộc tính về năm đăng ký xe, do ta đã tạo ra thuộc tính về tuổi xe để lưu thông tin này (Giá trị thuộc tính về tuổi xe rõ ràng thể hiện sự định lượng tốt hơn)"
   ]
  },
  {
   "cell_type": "code",
   "execution_count": 456,
   "metadata": {},
   "outputs": [
    {
     "data": {
      "text/html": [
       "<div>\n",
       "<style scoped>\n",
       "    .dataframe tbody tr th:only-of-type {\n",
       "        vertical-align: middle;\n",
       "    }\n",
       "\n",
       "    .dataframe tbody tr th {\n",
       "        vertical-align: top;\n",
       "    }\n",
       "\n",
       "    .dataframe thead th {\n",
       "        text-align: right;\n",
       "    }\n",
       "</style>\n",
       "<table border=\"1\" class=\"dataframe\">\n",
       "  <thead>\n",
       "    <tr style=\"text-align: right;\">\n",
       "      <th></th>\n",
       "      <th>Tuoi_xe</th>\n",
       "      <th>Tinh_trang_xe</th>\n",
       "      <th>Dung_tich_xe</th>\n",
       "      <th>Dong_xe</th>\n",
       "      <th>So_km_da_di</th>\n",
       "      <th>Loai_xe</th>\n",
       "      <th>Gia_xe</th>\n",
       "    </tr>\n",
       "  </thead>\n",
       "  <tbody>\n",
       "    <tr>\n",
       "      <th>0</th>\n",
       "      <td>27</td>\n",
       "      <td>Đã sử dụng</td>\n",
       "      <td>Không rõ</td>\n",
       "      <td>Sport/Xipo</td>\n",
       "      <td>1234</td>\n",
       "      <td>Tay côn</td>\n",
       "      <td>25500000.0</td>\n",
       "    </tr>\n",
       "    <tr>\n",
       "      <th>1</th>\n",
       "      <td>9</td>\n",
       "      <td>Đã sử dụng</td>\n",
       "      <td>100 - 175 cc</td>\n",
       "      <td>Vespa</td>\n",
       "      <td>11000</td>\n",
       "      <td>Tay ga</td>\n",
       "      <td>32500000.0</td>\n",
       "    </tr>\n",
       "    <tr>\n",
       "      <th>2</th>\n",
       "      <td>10</td>\n",
       "      <td>Đã sử dụng</td>\n",
       "      <td>100 - 175 cc</td>\n",
       "      <td>Exciter</td>\n",
       "      <td>25</td>\n",
       "      <td>Tay côn</td>\n",
       "      <td>27500000.0</td>\n",
       "    </tr>\n",
       "    <tr>\n",
       "      <th>3</th>\n",
       "      <td>8</td>\n",
       "      <td>Đã sử dụng</td>\n",
       "      <td>100 - 175 cc</td>\n",
       "      <td>Exciter</td>\n",
       "      <td>37</td>\n",
       "      <td>Xe số</td>\n",
       "      <td>26500000.0</td>\n",
       "    </tr>\n",
       "    <tr>\n",
       "      <th>4</th>\n",
       "      <td>24</td>\n",
       "      <td>Đã sử dụng</td>\n",
       "      <td>100 - 175 cc</td>\n",
       "      <td>Dream</td>\n",
       "      <td>25</td>\n",
       "      <td>Xe số</td>\n",
       "      <td>25000000.0</td>\n",
       "    </tr>\n",
       "    <tr>\n",
       "      <th>5</th>\n",
       "      <td>10</td>\n",
       "      <td>Đã sử dụng</td>\n",
       "      <td>Không rõ</td>\n",
       "      <td>Sirius</td>\n",
       "      <td>30</td>\n",
       "      <td>Xe số</td>\n",
       "      <td>7800000.0</td>\n",
       "    </tr>\n",
       "    <tr>\n",
       "      <th>6</th>\n",
       "      <td>4</td>\n",
       "      <td>Đã sử dụng</td>\n",
       "      <td>Không rõ</td>\n",
       "      <td>Winner</td>\n",
       "      <td>1000</td>\n",
       "      <td>Tay côn</td>\n",
       "      <td>16500000.0</td>\n",
       "    </tr>\n",
       "    <tr>\n",
       "      <th>7</th>\n",
       "      <td>3</td>\n",
       "      <td>Đã sử dụng</td>\n",
       "      <td>100 - 175 cc</td>\n",
       "      <td>Vario</td>\n",
       "      <td>1</td>\n",
       "      <td>Tay ga</td>\n",
       "      <td>40500000.0</td>\n",
       "    </tr>\n",
       "    <tr>\n",
       "      <th>8</th>\n",
       "      <td>5</td>\n",
       "      <td>Đã sử dụng</td>\n",
       "      <td>Không rõ</td>\n",
       "      <td>Nvx</td>\n",
       "      <td>46000</td>\n",
       "      <td>Tay ga</td>\n",
       "      <td>26000000.0</td>\n",
       "    </tr>\n",
       "    <tr>\n",
       "      <th>9</th>\n",
       "      <td>14</td>\n",
       "      <td>Đã sử dụng</td>\n",
       "      <td>100 - 175 cc</td>\n",
       "      <td>AirBlade</td>\n",
       "      <td>15000</td>\n",
       "      <td>Tay ga</td>\n",
       "      <td>12500000.0</td>\n",
       "    </tr>\n",
       "  </tbody>\n",
       "</table>\n",
       "</div>"
      ],
      "text/plain": [
       "   Tuoi_xe Tinh_trang_xe  Dung_tich_xe     Dong_xe  So_km_da_di  Loai_xe  \\\n",
       "0       27    Đã sử dụng      Không rõ  Sport/Xipo         1234  Tay côn   \n",
       "1        9    Đã sử dụng  100 - 175 cc       Vespa        11000   Tay ga   \n",
       "2       10    Đã sử dụng  100 - 175 cc     Exciter           25  Tay côn   \n",
       "3        8    Đã sử dụng  100 - 175 cc     Exciter           37    Xe số   \n",
       "4       24    Đã sử dụng  100 - 175 cc       Dream           25    Xe số   \n",
       "5       10    Đã sử dụng      Không rõ      Sirius           30    Xe số   \n",
       "6        4    Đã sử dụng      Không rõ      Winner         1000  Tay côn   \n",
       "7        3    Đã sử dụng  100 - 175 cc       Vario            1   Tay ga   \n",
       "8        5    Đã sử dụng      Không rõ         Nvx        46000   Tay ga   \n",
       "9       14    Đã sử dụng  100 - 175 cc    AirBlade        15000   Tay ga   \n",
       "\n",
       "       Gia_xe  \n",
       "0  25500000.0  \n",
       "1  32500000.0  \n",
       "2  27500000.0  \n",
       "3  26500000.0  \n",
       "4  25000000.0  \n",
       "5   7800000.0  \n",
       "6  16500000.0  \n",
       "7  40500000.0  \n",
       "8  26000000.0  \n",
       "9  12500000.0  "
      ]
     },
     "execution_count": 456,
     "metadata": {},
     "output_type": "execute_result"
    }
   ],
   "source": [
    "df.drop(['Hang_xe', 'Nam_dang_ky'], axis=1, inplace=True)\n",
    "df.head(10)"
   ]
  },
  {
   "attachments": {},
   "cell_type": "markdown",
   "metadata": {},
   "source": [
    "Tiếp theo, ta sẽ số hóa các biến dữ liệu định tính"
   ]
  },
  {
   "cell_type": "code",
   "execution_count": 457,
   "metadata": {},
   "outputs": [
    {
     "data": {
      "text/html": [
       "<div>\n",
       "<style scoped>\n",
       "    .dataframe tbody tr th:only-of-type {\n",
       "        vertical-align: middle;\n",
       "    }\n",
       "\n",
       "    .dataframe tbody tr th {\n",
       "        vertical-align: top;\n",
       "    }\n",
       "\n",
       "    .dataframe thead th {\n",
       "        text-align: right;\n",
       "    }\n",
       "</style>\n",
       "<table border=\"1\" class=\"dataframe\">\n",
       "  <thead>\n",
       "    <tr style=\"text-align: right;\">\n",
       "      <th></th>\n",
       "      <th>Tuoi_xe</th>\n",
       "      <th>Tinh_trang_xe</th>\n",
       "      <th>Dung_tich_xe</th>\n",
       "      <th>Dong_xe</th>\n",
       "      <th>So_km_da_di</th>\n",
       "      <th>Loai_xe</th>\n",
       "      <th>Gia_xe</th>\n",
       "    </tr>\n",
       "  </thead>\n",
       "  <tbody>\n",
       "    <tr>\n",
       "      <th>0</th>\n",
       "      <td>27</td>\n",
       "      <td>1</td>\n",
       "      <td>3</td>\n",
       "      <td>140</td>\n",
       "      <td>1234</td>\n",
       "      <td>0</td>\n",
       "      <td>25500000.0</td>\n",
       "    </tr>\n",
       "    <tr>\n",
       "      <th>1</th>\n",
       "      <td>9</td>\n",
       "      <td>1</td>\n",
       "      <td>0</td>\n",
       "      <td>153</td>\n",
       "      <td>11000</td>\n",
       "      <td>1</td>\n",
       "      <td>32500000.0</td>\n",
       "    </tr>\n",
       "    <tr>\n",
       "      <th>2</th>\n",
       "      <td>10</td>\n",
       "      <td>1</td>\n",
       "      <td>0</td>\n",
       "      <td>56</td>\n",
       "      <td>25</td>\n",
       "      <td>0</td>\n",
       "      <td>27500000.0</td>\n",
       "    </tr>\n",
       "    <tr>\n",
       "      <th>3</th>\n",
       "      <td>8</td>\n",
       "      <td>1</td>\n",
       "      <td>0</td>\n",
       "      <td>56</td>\n",
       "      <td>37</td>\n",
       "      <td>2</td>\n",
       "      <td>26500000.0</td>\n",
       "    </tr>\n",
       "    <tr>\n",
       "      <th>4</th>\n",
       "      <td>24</td>\n",
       "      <td>1</td>\n",
       "      <td>0</td>\n",
       "      <td>44</td>\n",
       "      <td>25</td>\n",
       "      <td>2</td>\n",
       "      <td>25000000.0</td>\n",
       "    </tr>\n",
       "    <tr>\n",
       "      <th>5</th>\n",
       "      <td>10</td>\n",
       "      <td>1</td>\n",
       "      <td>3</td>\n",
       "      <td>136</td>\n",
       "      <td>30</td>\n",
       "      <td>2</td>\n",
       "      <td>7800000.0</td>\n",
       "    </tr>\n",
       "    <tr>\n",
       "      <th>6</th>\n",
       "      <td>4</td>\n",
       "      <td>1</td>\n",
       "      <td>3</td>\n",
       "      <td>161</td>\n",
       "      <td>1000</td>\n",
       "      <td>0</td>\n",
       "      <td>16500000.0</td>\n",
       "    </tr>\n",
       "    <tr>\n",
       "      <th>7</th>\n",
       "      <td>3</td>\n",
       "      <td>1</td>\n",
       "      <td>0</td>\n",
       "      <td>151</td>\n",
       "      <td>1</td>\n",
       "      <td>1</td>\n",
       "      <td>40500000.0</td>\n",
       "    </tr>\n",
       "    <tr>\n",
       "      <th>8</th>\n",
       "      <td>5</td>\n",
       "      <td>1</td>\n",
       "      <td>3</td>\n",
       "      <td>110</td>\n",
       "      <td>46000</td>\n",
       "      <td>1</td>\n",
       "      <td>26000000.0</td>\n",
       "    </tr>\n",
       "    <tr>\n",
       "      <th>9</th>\n",
       "      <td>14</td>\n",
       "      <td>1</td>\n",
       "      <td>0</td>\n",
       "      <td>7</td>\n",
       "      <td>15000</td>\n",
       "      <td>1</td>\n",
       "      <td>12500000.0</td>\n",
       "    </tr>\n",
       "  </tbody>\n",
       "</table>\n",
       "</div>"
      ],
      "text/plain": [
       "   Tuoi_xe  Tinh_trang_xe  Dung_tich_xe  Dong_xe  So_km_da_di  Loai_xe  \\\n",
       "0       27              1             3      140         1234        0   \n",
       "1        9              1             0      153        11000        1   \n",
       "2       10              1             0       56           25        0   \n",
       "3        8              1             0       56           37        2   \n",
       "4       24              1             0       44           25        2   \n",
       "5       10              1             3      136           30        2   \n",
       "6        4              1             3      161         1000        0   \n",
       "7        3              1             0      151            1        1   \n",
       "8        5              1             3      110        46000        1   \n",
       "9       14              1             0        7        15000        1   \n",
       "\n",
       "       Gia_xe  \n",
       "0  25500000.0  \n",
       "1  32500000.0  \n",
       "2  27500000.0  \n",
       "3  26500000.0  \n",
       "4  25000000.0  \n",
       "5   7800000.0  \n",
       "6  16500000.0  \n",
       "7  40500000.0  \n",
       "8  26000000.0  \n",
       "9  12500000.0  "
      ]
     },
     "execution_count": 457,
     "metadata": {},
     "output_type": "execute_result"
    }
   ],
   "source": [
    "le_tinh_trg = LabelEncoder()\n",
    "le_dung_tich = LabelEncoder()\n",
    "le_dong_xe = LabelEncoder()\n",
    "le_loai_xe = LabelEncoder()\n",
    "\n",
    "\n",
    "\n",
    "df['Tinh_trang_xe'] = le_tinh_trg.fit_transform(df['Tinh_trang_xe'])\n",
    "df['Dung_tich_xe'] = le_dung_tich.fit_transform(df['Dung_tich_xe'])\n",
    "df['Dong_xe'] = le_dong_xe.fit_transform(df['Dong_xe'])\n",
    "df['Loai_xe'] = le_loai_xe.fit_transform(df['Loai_xe'])\n",
    "\n",
    "\n",
    "df.head(10)\n"
   ]
  },
  {
   "attachments": {},
   "cell_type": "markdown",
   "metadata": {},
   "source": [
    "Tiếp theo, ta sẽ chuẩn hóa các dữ liệu của các thuộc tính đầu vào về khoảng [-1, 1] bằng cách chuẩn hóa theo giá trị trung bình (Mean Normalization) để đảm bảo cho các thuật toán tối ưu được hiệu quả\n",
    "\n",
    "Ví dụ minh họa về tác dụng của việc thực hiện chuẩn hóa dữ liệu khi thực hiện thuật toán Gradient descent:\n",
    "\n",
    "<center>\n",
    "<img src=\"https://www.researchgate.net/publication/357829499/figure/fig4/AS:1134626005368834@1647527328362/Gradient-descent-with-and-without-input-feature-scaling-Geron-2019-On-the-left-are.ppm\">\n",
    "</center>\n"
   ]
  },
  {
   "cell_type": "code",
   "execution_count": 458,
   "metadata": {},
   "outputs": [
    {
     "data": {
      "text/plain": [
       "Index(['Tuoi_xe', 'Tinh_trang_xe', 'Dung_tich_xe', 'Dong_xe', 'So_km_da_di',\n",
       "       'Loai_xe'],\n",
       "      dtype='object')"
      ]
     },
     "execution_count": 458,
     "metadata": {},
     "output_type": "execute_result"
    }
   ],
   "source": [
    "df1 = df.drop(['Gia_xe'], axis=1)\n",
    "df1.columns\n"
   ]
  },
  {
   "cell_type": "code",
   "execution_count": 459,
   "metadata": {},
   "outputs": [
    {
     "data": {
      "text/html": [
       "<div>\n",
       "<style scoped>\n",
       "    .dataframe tbody tr th:only-of-type {\n",
       "        vertical-align: middle;\n",
       "    }\n",
       "\n",
       "    .dataframe tbody tr th {\n",
       "        vertical-align: top;\n",
       "    }\n",
       "\n",
       "    .dataframe thead th {\n",
       "        text-align: right;\n",
       "    }\n",
       "</style>\n",
       "<table border=\"1\" class=\"dataframe\">\n",
       "  <thead>\n",
       "    <tr style=\"text-align: right;\">\n",
       "      <th></th>\n",
       "      <th>Tuoi_xe</th>\n",
       "      <th>Tinh_trang_xe</th>\n",
       "      <th>Dung_tich_xe</th>\n",
       "      <th>Dong_xe</th>\n",
       "      <th>So_km_da_di</th>\n",
       "      <th>Loai_xe</th>\n",
       "      <th>Gia_xe</th>\n",
       "    </tr>\n",
       "  </thead>\n",
       "  <tbody>\n",
       "    <tr>\n",
       "      <th>0</th>\n",
       "      <td>0.434884</td>\n",
       "      <td>0.008274</td>\n",
       "      <td>0.487634</td>\n",
       "      <td>0.245907</td>\n",
       "      <td>-0.189822</td>\n",
       "      <td>-0.536874</td>\n",
       "      <td>25500000.0</td>\n",
       "    </tr>\n",
       "    <tr>\n",
       "      <th>1</th>\n",
       "      <td>0.006313</td>\n",
       "      <td>0.008274</td>\n",
       "      <td>-0.262366</td>\n",
       "      <td>0.319353</td>\n",
       "      <td>-0.050020</td>\n",
       "      <td>-0.036874</td>\n",
       "      <td>32500000.0</td>\n",
       "    </tr>\n",
       "    <tr>\n",
       "      <th>2</th>\n",
       "      <td>0.030122</td>\n",
       "      <td>0.008274</td>\n",
       "      <td>-0.262366</td>\n",
       "      <td>-0.228670</td>\n",
       "      <td>-0.207129</td>\n",
       "      <td>-0.536874</td>\n",
       "      <td>27500000.0</td>\n",
       "    </tr>\n",
       "    <tr>\n",
       "      <th>3</th>\n",
       "      <td>-0.017497</td>\n",
       "      <td>0.008274</td>\n",
       "      <td>-0.262366</td>\n",
       "      <td>-0.228670</td>\n",
       "      <td>-0.206957</td>\n",
       "      <td>0.463126</td>\n",
       "      <td>26500000.0</td>\n",
       "    </tr>\n",
       "    <tr>\n",
       "      <th>4</th>\n",
       "      <td>0.363456</td>\n",
       "      <td>0.008274</td>\n",
       "      <td>-0.262366</td>\n",
       "      <td>-0.296466</td>\n",
       "      <td>-0.207129</td>\n",
       "      <td>0.463126</td>\n",
       "      <td>25000000.0</td>\n",
       "    </tr>\n",
       "    <tr>\n",
       "      <th>5</th>\n",
       "      <td>0.030122</td>\n",
       "      <td>0.008274</td>\n",
       "      <td>0.487634</td>\n",
       "      <td>0.223308</td>\n",
       "      <td>-0.207057</td>\n",
       "      <td>0.463126</td>\n",
       "      <td>7800000.0</td>\n",
       "    </tr>\n",
       "    <tr>\n",
       "      <th>6</th>\n",
       "      <td>-0.112735</td>\n",
       "      <td>0.008274</td>\n",
       "      <td>0.487634</td>\n",
       "      <td>0.364551</td>\n",
       "      <td>-0.193171</td>\n",
       "      <td>-0.536874</td>\n",
       "      <td>16500000.0</td>\n",
       "    </tr>\n",
       "    <tr>\n",
       "      <th>7</th>\n",
       "      <td>-0.136544</td>\n",
       "      <td>0.008274</td>\n",
       "      <td>-0.262366</td>\n",
       "      <td>0.308054</td>\n",
       "      <td>-0.207472</td>\n",
       "      <td>-0.036874</td>\n",
       "      <td>40500000.0</td>\n",
       "    </tr>\n",
       "    <tr>\n",
       "      <th>8</th>\n",
       "      <td>-0.088925</td>\n",
       "      <td>0.008274</td>\n",
       "      <td>0.487634</td>\n",
       "      <td>0.076415</td>\n",
       "      <td>0.451011</td>\n",
       "      <td>-0.036874</td>\n",
       "      <td>26000000.0</td>\n",
       "    </tr>\n",
       "    <tr>\n",
       "      <th>9</th>\n",
       "      <td>0.125360</td>\n",
       "      <td>0.008274</td>\n",
       "      <td>-0.262366</td>\n",
       "      <td>-0.505506</td>\n",
       "      <td>0.007241</td>\n",
       "      <td>-0.036874</td>\n",
       "      <td>12500000.0</td>\n",
       "    </tr>\n",
       "  </tbody>\n",
       "</table>\n",
       "</div>"
      ],
      "text/plain": [
       "    Tuoi_xe  Tinh_trang_xe  Dung_tich_xe   Dong_xe  So_km_da_di   Loai_xe  \\\n",
       "0  0.434884       0.008274      0.487634  0.245907    -0.189822 -0.536874   \n",
       "1  0.006313       0.008274     -0.262366  0.319353    -0.050020 -0.036874   \n",
       "2  0.030122       0.008274     -0.262366 -0.228670    -0.207129 -0.536874   \n",
       "3 -0.017497       0.008274     -0.262366 -0.228670    -0.206957  0.463126   \n",
       "4  0.363456       0.008274     -0.262366 -0.296466    -0.207129  0.463126   \n",
       "5  0.030122       0.008274      0.487634  0.223308    -0.207057  0.463126   \n",
       "6 -0.112735       0.008274      0.487634  0.364551    -0.193171 -0.536874   \n",
       "7 -0.136544       0.008274     -0.262366  0.308054    -0.207472 -0.036874   \n",
       "8 -0.088925       0.008274      0.487634  0.076415     0.451011 -0.036874   \n",
       "9  0.125360       0.008274     -0.262366 -0.505506     0.007241 -0.036874   \n",
       "\n",
       "       Gia_xe  \n",
       "0  25500000.0  \n",
       "1  32500000.0  \n",
       "2  27500000.0  \n",
       "3  26500000.0  \n",
       "4  25000000.0  \n",
       "5   7800000.0  \n",
       "6  16500000.0  \n",
       "7  40500000.0  \n",
       "8  26000000.0  \n",
       "9  12500000.0  "
      ]
     },
     "execution_count": 459,
     "metadata": {},
     "output_type": "execute_result"
    }
   ],
   "source": [
    "# Hàm chuẩn hóa\n",
    "\n",
    "def feature_scale(x):\n",
    "    mean = deepcopy(x.mean())\n",
    "    max = deepcopy(x.max())\n",
    "    min = deepcopy(x.min())\n",
    "\n",
    "\n",
    "    return (x - mean) / (max - min), mean, max, min\n",
    "\n",
    "cols = []\n",
    "\n",
    "for column in df1.columns:\n",
    "    df[column], mean, max, min = feature_scale(df[column])\n",
    "    cols.append((mean, max, min))\n",
    "\n",
    "df.head(10)\n"
   ]
  },
  {
   "attachments": {},
   "cell_type": "markdown",
   "metadata": {},
   "source": [
    "Do giá trị giá xe khá lớn, nên ta cũng sẽ thu nhỏ các giá trị lại bằng cách chia chúng cho một triệu (Giá xe tương ứng sẽ chỉ cần nhân lại với một triệu)"
   ]
  },
  {
   "cell_type": "code",
   "execution_count": 460,
   "metadata": {},
   "outputs": [
    {
     "data": {
      "text/html": [
       "<div>\n",
       "<style scoped>\n",
       "    .dataframe tbody tr th:only-of-type {\n",
       "        vertical-align: middle;\n",
       "    }\n",
       "\n",
       "    .dataframe tbody tr th {\n",
       "        vertical-align: top;\n",
       "    }\n",
       "\n",
       "    .dataframe thead th {\n",
       "        text-align: right;\n",
       "    }\n",
       "</style>\n",
       "<table border=\"1\" class=\"dataframe\">\n",
       "  <thead>\n",
       "    <tr style=\"text-align: right;\">\n",
       "      <th></th>\n",
       "      <th>Tuoi_xe</th>\n",
       "      <th>Tinh_trang_xe</th>\n",
       "      <th>Dung_tich_xe</th>\n",
       "      <th>Dong_xe</th>\n",
       "      <th>So_km_da_di</th>\n",
       "      <th>Loai_xe</th>\n",
       "      <th>Gia_xe</th>\n",
       "    </tr>\n",
       "  </thead>\n",
       "  <tbody>\n",
       "    <tr>\n",
       "      <th>0</th>\n",
       "      <td>0.434884</td>\n",
       "      <td>0.008274</td>\n",
       "      <td>0.487634</td>\n",
       "      <td>0.245907</td>\n",
       "      <td>-0.189822</td>\n",
       "      <td>-0.536874</td>\n",
       "      <td>25.5</td>\n",
       "    </tr>\n",
       "    <tr>\n",
       "      <th>1</th>\n",
       "      <td>0.006313</td>\n",
       "      <td>0.008274</td>\n",
       "      <td>-0.262366</td>\n",
       "      <td>0.319353</td>\n",
       "      <td>-0.050020</td>\n",
       "      <td>-0.036874</td>\n",
       "      <td>32.5</td>\n",
       "    </tr>\n",
       "    <tr>\n",
       "      <th>2</th>\n",
       "      <td>0.030122</td>\n",
       "      <td>0.008274</td>\n",
       "      <td>-0.262366</td>\n",
       "      <td>-0.228670</td>\n",
       "      <td>-0.207129</td>\n",
       "      <td>-0.536874</td>\n",
       "      <td>27.5</td>\n",
       "    </tr>\n",
       "    <tr>\n",
       "      <th>3</th>\n",
       "      <td>-0.017497</td>\n",
       "      <td>0.008274</td>\n",
       "      <td>-0.262366</td>\n",
       "      <td>-0.228670</td>\n",
       "      <td>-0.206957</td>\n",
       "      <td>0.463126</td>\n",
       "      <td>26.5</td>\n",
       "    </tr>\n",
       "    <tr>\n",
       "      <th>4</th>\n",
       "      <td>0.363456</td>\n",
       "      <td>0.008274</td>\n",
       "      <td>-0.262366</td>\n",
       "      <td>-0.296466</td>\n",
       "      <td>-0.207129</td>\n",
       "      <td>0.463126</td>\n",
       "      <td>25.0</td>\n",
       "    </tr>\n",
       "    <tr>\n",
       "      <th>5</th>\n",
       "      <td>0.030122</td>\n",
       "      <td>0.008274</td>\n",
       "      <td>0.487634</td>\n",
       "      <td>0.223308</td>\n",
       "      <td>-0.207057</td>\n",
       "      <td>0.463126</td>\n",
       "      <td>7.8</td>\n",
       "    </tr>\n",
       "    <tr>\n",
       "      <th>6</th>\n",
       "      <td>-0.112735</td>\n",
       "      <td>0.008274</td>\n",
       "      <td>0.487634</td>\n",
       "      <td>0.364551</td>\n",
       "      <td>-0.193171</td>\n",
       "      <td>-0.536874</td>\n",
       "      <td>16.5</td>\n",
       "    </tr>\n",
       "    <tr>\n",
       "      <th>7</th>\n",
       "      <td>-0.136544</td>\n",
       "      <td>0.008274</td>\n",
       "      <td>-0.262366</td>\n",
       "      <td>0.308054</td>\n",
       "      <td>-0.207472</td>\n",
       "      <td>-0.036874</td>\n",
       "      <td>40.5</td>\n",
       "    </tr>\n",
       "    <tr>\n",
       "      <th>8</th>\n",
       "      <td>-0.088925</td>\n",
       "      <td>0.008274</td>\n",
       "      <td>0.487634</td>\n",
       "      <td>0.076415</td>\n",
       "      <td>0.451011</td>\n",
       "      <td>-0.036874</td>\n",
       "      <td>26.0</td>\n",
       "    </tr>\n",
       "    <tr>\n",
       "      <th>9</th>\n",
       "      <td>0.125360</td>\n",
       "      <td>0.008274</td>\n",
       "      <td>-0.262366</td>\n",
       "      <td>-0.505506</td>\n",
       "      <td>0.007241</td>\n",
       "      <td>-0.036874</td>\n",
       "      <td>12.5</td>\n",
       "    </tr>\n",
       "  </tbody>\n",
       "</table>\n",
       "</div>"
      ],
      "text/plain": [
       "    Tuoi_xe  Tinh_trang_xe  Dung_tich_xe   Dong_xe  So_km_da_di   Loai_xe  \\\n",
       "0  0.434884       0.008274      0.487634  0.245907    -0.189822 -0.536874   \n",
       "1  0.006313       0.008274     -0.262366  0.319353    -0.050020 -0.036874   \n",
       "2  0.030122       0.008274     -0.262366 -0.228670    -0.207129 -0.536874   \n",
       "3 -0.017497       0.008274     -0.262366 -0.228670    -0.206957  0.463126   \n",
       "4  0.363456       0.008274     -0.262366 -0.296466    -0.207129  0.463126   \n",
       "5  0.030122       0.008274      0.487634  0.223308    -0.207057  0.463126   \n",
       "6 -0.112735       0.008274      0.487634  0.364551    -0.193171 -0.536874   \n",
       "7 -0.136544       0.008274     -0.262366  0.308054    -0.207472 -0.036874   \n",
       "8 -0.088925       0.008274      0.487634  0.076415     0.451011 -0.036874   \n",
       "9  0.125360       0.008274     -0.262366 -0.505506     0.007241 -0.036874   \n",
       "\n",
       "   Gia_xe  \n",
       "0    25.5  \n",
       "1    32.5  \n",
       "2    27.5  \n",
       "3    26.5  \n",
       "4    25.0  \n",
       "5     7.8  \n",
       "6    16.5  \n",
       "7    40.5  \n",
       "8    26.0  \n",
       "9    12.5  "
      ]
     },
     "execution_count": 460,
     "metadata": {},
     "output_type": "execute_result"
    }
   ],
   "source": [
    "df['Gia_xe'] = df['Gia_xe'] / 1e6\n",
    "\n",
    "df.head(10)"
   ]
  },
  {
   "attachments": {},
   "cell_type": "markdown",
   "metadata": {},
   "source": [
    "## 1. Tách thành các tập huấn luyện (training) và kiểm thử (testing)"
   ]
  },
  {
   "attachments": {},
   "cell_type": "markdown",
   "metadata": {},
   "source": [
    "Tiếp theo ta sẽ tách bộ dữ liệu ra thành các tập huấn luyện và kiểm thử mô hình, trong mỗi tập đó sẽ bao gồm các thành phần input X - chứa các thuộc tính ngoại trừ giá cả, output y chứa thuộc tính về giá cả. \n",
    "\n",
    "Note : Trong tập kiểm thử chúng ta sẽ tách ra thêm thành hai tập \"tập validation\" và tập kiểm thử \"thực sự\", tập này có ý nghĩa để chúng ta kiểm thử mô hình và cố gắng tối ưu hóa các tham số, điều này sẽ giúp cho tập kiểm thử \"thực sự\"của chúng ta là đại diện tốt nhất, mang tính ngẫu nhiên nhất để đánh giá mô hình."
   ]
  },
  {
   "cell_type": "code",
   "execution_count": 461,
   "metadata": {},
   "outputs": [],
   "source": [
    "X = df.drop(['Gia_xe'], axis=1)\n",
    "y = df['Gia_xe']\n",
    "\n",
    "X_train, X_test, y_train, y_test = train_test_split(X, y, test_size=0.2, random_state=28)\n",
    "X_test, X_val, y_test, y_val = train_test_split(X_test, y_test, test_size=0.5, random_state=21)\n"
   ]
  },
  {
   "cell_type": "code",
   "execution_count": 462,
   "metadata": {},
   "outputs": [
    {
     "data": {
      "text/plain": [
       "((8895, 6), (1112, 6), (1112, 6), (8895,), (1112,), (1112,))"
      ]
     },
     "execution_count": 462,
     "metadata": {},
     "output_type": "execute_result"
    }
   ],
   "source": [
    "# Kiểm tra qua số chiều của các tập train test\n",
    "\n",
    "X_train.shape, X_test.shape, X_val.shape, y_train.shape, y_test.shape, y_val.shape"
   ]
  },
  {
   "attachments": {},
   "cell_type": "markdown",
   "metadata": {},
   "source": [
    "Bây giờ chúng ta sẽ cùng thử áp dụng các thuật toán Học máy để tìm giải pháp xây dựng mô hình cho bài toán này"
   ]
  },
  {
   "attachments": {},
   "cell_type": "markdown",
   "metadata": {},
   "source": [
    "## 3. Xây dựng mô hình"
   ]
  },
  {
   "attachments": {},
   "cell_type": "markdown",
   "metadata": {},
   "source": [
    "Như đã nói ở phần giới thiệu, trong phần xây dựng mô hình lần này, chúng ta sẽ sử dụng ba phương pháp:\n",
    "\n",
    "<ul>\n",
    "    <li>Hồi quy tuyến tính</li>\n",
    "    <li>Rừng ngẫu nhiên</li>\n",
    "    <li>Mạng Neural</li>\n",
    "\n",
    "</ul>"
   ]
  },
  {
   "attachments": {},
   "cell_type": "markdown",
   "metadata": {},
   "source": [
    "### 3.1 Hồi quy tuyến tính"
   ]
  },
  {
   "attachments": {},
   "cell_type": "markdown",
   "metadata": {},
   "source": [
    "Với phương pháp hồi quy tuyến tính, chúng ta sẽ đưa ra các mô hình sau:\n",
    "\n",
    "Mô hình đầu tiên của hồi quy tuyến tính: </br>\n",
    "+ Chúng ta sẽ áp dụng phương pháp hồi quy tuyến tính truyền thống, <br>\n",
    "sử dụng thuật toán Gradient Descent để tìm ra tham số tối ưu cho việc dự đoán giá xe\n",
    "\n",
    "Mô hình thứ hai của hồi quy tuyến tính: </br>\n",
    "+ Chúng ta sẽ thay hồi quy tuyến tính bằng hồi quy đa thức,</br>\n",
    "với một đa thức bậc cao bất kỳ, việc lựa chọn này sẽ chọn đa thức bậc cao, để phục vụ cho mô hình thứ 4\n",
    "\n",
    "Mô hình thứ ba của hồi quy tuyến tính: </br>\n",
    "+ Từ mô hình thứ hai, chúng ta sẽ thêm kỹ thuật hiệu chỉnh, </br>\n",
    "hay còn được gọi là hồi quy Ridge để tránh bị Overfitting dữ liệu\n"
   ]
  },
  {
   "cell_type": "code",
   "execution_count": 463,
   "metadata": {},
   "outputs": [
    {
     "data": {
      "text/html": [
       "<style>#sk-container-id-34 {color: black;background-color: white;}#sk-container-id-34 pre{padding: 0;}#sk-container-id-34 div.sk-toggleable {background-color: white;}#sk-container-id-34 label.sk-toggleable__label {cursor: pointer;display: block;width: 100%;margin-bottom: 0;padding: 0.3em;box-sizing: border-box;text-align: center;}#sk-container-id-34 label.sk-toggleable__label-arrow:before {content: \"▸\";float: left;margin-right: 0.25em;color: #696969;}#sk-container-id-34 label.sk-toggleable__label-arrow:hover:before {color: black;}#sk-container-id-34 div.sk-estimator:hover label.sk-toggleable__label-arrow:before {color: black;}#sk-container-id-34 div.sk-toggleable__content {max-height: 0;max-width: 0;overflow: hidden;text-align: left;background-color: #f0f8ff;}#sk-container-id-34 div.sk-toggleable__content pre {margin: 0.2em;color: black;border-radius: 0.25em;background-color: #f0f8ff;}#sk-container-id-34 input.sk-toggleable__control:checked~div.sk-toggleable__content {max-height: 200px;max-width: 100%;overflow: auto;}#sk-container-id-34 input.sk-toggleable__control:checked~label.sk-toggleable__label-arrow:before {content: \"▾\";}#sk-container-id-34 div.sk-estimator input.sk-toggleable__control:checked~label.sk-toggleable__label {background-color: #d4ebff;}#sk-container-id-34 div.sk-label input.sk-toggleable__control:checked~label.sk-toggleable__label {background-color: #d4ebff;}#sk-container-id-34 input.sk-hidden--visually {border: 0;clip: rect(1px 1px 1px 1px);clip: rect(1px, 1px, 1px, 1px);height: 1px;margin: -1px;overflow: hidden;padding: 0;position: absolute;width: 1px;}#sk-container-id-34 div.sk-estimator {font-family: monospace;background-color: #f0f8ff;border: 1px dotted black;border-radius: 0.25em;box-sizing: border-box;margin-bottom: 0.5em;}#sk-container-id-34 div.sk-estimator:hover {background-color: #d4ebff;}#sk-container-id-34 div.sk-parallel-item::after {content: \"\";width: 100%;border-bottom: 1px solid gray;flex-grow: 1;}#sk-container-id-34 div.sk-label:hover label.sk-toggleable__label {background-color: #d4ebff;}#sk-container-id-34 div.sk-serial::before {content: \"\";position: absolute;border-left: 1px solid gray;box-sizing: border-box;top: 0;bottom: 0;left: 50%;z-index: 0;}#sk-container-id-34 div.sk-serial {display: flex;flex-direction: column;align-items: center;background-color: white;padding-right: 0.2em;padding-left: 0.2em;position: relative;}#sk-container-id-34 div.sk-item {position: relative;z-index: 1;}#sk-container-id-34 div.sk-parallel {display: flex;align-items: stretch;justify-content: center;background-color: white;position: relative;}#sk-container-id-34 div.sk-item::before, #sk-container-id-34 div.sk-parallel-item::before {content: \"\";position: absolute;border-left: 1px solid gray;box-sizing: border-box;top: 0;bottom: 0;left: 50%;z-index: -1;}#sk-container-id-34 div.sk-parallel-item {display: flex;flex-direction: column;z-index: 1;position: relative;background-color: white;}#sk-container-id-34 div.sk-parallel-item:first-child::after {align-self: flex-end;width: 50%;}#sk-container-id-34 div.sk-parallel-item:last-child::after {align-self: flex-start;width: 50%;}#sk-container-id-34 div.sk-parallel-item:only-child::after {width: 0;}#sk-container-id-34 div.sk-dashed-wrapped {border: 1px dashed gray;margin: 0 0.4em 0.5em 0.4em;box-sizing: border-box;padding-bottom: 0.4em;background-color: white;}#sk-container-id-34 div.sk-label label {font-family: monospace;font-weight: bold;display: inline-block;line-height: 1.2em;}#sk-container-id-34 div.sk-label-container {text-align: center;}#sk-container-id-34 div.sk-container {/* jupyter's `normalize.less` sets `[hidden] { display: none; }` but bootstrap.min.css set `[hidden] { display: none !important; }` so we also need the `!important` here to be able to override the default hidden behavior on the sphinx rendered scikit-learn.org. See: https://github.com/scikit-learn/scikit-learn/issues/21755 */display: inline-block !important;position: relative;}#sk-container-id-34 div.sk-text-repr-fallback {display: none;}</style><div id=\"sk-container-id-34\" class=\"sk-top-container\"><div class=\"sk-text-repr-fallback\"><pre>SGDRegressor(alpha=0.001, eta0=0.1, max_iter=150)</pre><b>In a Jupyter environment, please rerun this cell to show the HTML representation or trust the notebook. <br />On GitHub, the HTML representation is unable to render, please try loading this page with nbviewer.org.</b></div><div class=\"sk-container\" hidden><div class=\"sk-item\"><div class=\"sk-estimator sk-toggleable\"><input class=\"sk-toggleable__control sk-hidden--visually\" id=\"sk-estimator-id-34\" type=\"checkbox\" checked><label for=\"sk-estimator-id-34\" class=\"sk-toggleable__label sk-toggleable__label-arrow\">SGDRegressor</label><div class=\"sk-toggleable__content\"><pre>SGDRegressor(alpha=0.001, eta0=0.1, max_iter=150)</pre></div></div></div></div></div>"
      ],
      "text/plain": [
       "SGDRegressor(alpha=0.001, eta0=0.1, max_iter=150)"
      ]
     },
     "execution_count": 463,
     "metadata": {},
     "output_type": "execute_result"
    }
   ],
   "source": [
    "ITERATIONS = 150\n",
    "\n",
    "LR_model1 = SGDRegressor(max_iter=ITERATIONS, penalty=None, eta0=0.1)\n",
    "LR_model1.fit(X_train, y_train)\n",
    "\n",
    "poly_features = PolynomialFeatures(degree=10)\n",
    "X_poly_train = poly_features.fit_transform(X_train)\n",
    "\n",
    "LR_model2 = SGDRegressor(max_iter=ITERATIONS, penalty=None, eta0=0.1)\n",
    "LR_model2.fit(X_poly_train, y_train)\n",
    "\n",
    "LR_model3 = SGDRegressor(max_iter=ITERATIONS, eta0=0.1, penalty=\"l2\", alpha=0.001)\n",
    "LR_model3.fit(X_poly_train, y_train)\n",
    "\n",
    "\n",
    "\n"
   ]
  },
  {
   "cell_type": "code",
   "execution_count": 464,
   "metadata": {},
   "outputs": [
    {
     "data": {
      "text/plain": [
       "(8895, 8008)"
      ]
     },
     "execution_count": 464,
     "metadata": {},
     "output_type": "execute_result"
    }
   ],
   "source": [
    "X_poly_train.shape"
   ]
  },
  {
   "attachments": {},
   "cell_type": "markdown",
   "metadata": {},
   "source": [
    "Đối với mô hình thứ hai và mô hình thứ ba, ta phải tạo ra thêm các thuộc tính, số thuộc tính được tạo (Feature Engineering) phụ thuộc vào số bậc của đa thức trong Hồi quy đa thức, với đa thức 11, số thuộc tính mới được tạo cộng với 6 thuộc tính ban đầu lên tới con số 12376"
   ]
  },
  {
   "attachments": {},
   "cell_type": "markdown",
   "metadata": {},
   "source": [
    "Để lựa chọn ra được mô hình tốt nhất, ta sẽ đánh giá thông qua giá trị MSE của hai tập: Huấn luyện (Training), Validation, chúng ta sẽ ưu tiên mô hình có Validation thấp trước rồi tập huấn luyện, sau đó phân tích để chọn mô hình tốt nhất thông qua phương pháp Hồi quy tuyến tính"
   ]
  },
  {
   "cell_type": "code",
   "execution_count": 465,
   "metadata": {},
   "outputs": [],
   "source": [
    "X_poly_val = poly_features.fit_transform(X_val)\n",
    "\n",
    "y1_predict_train = LR_model1.predict(X_train)\n",
    "y2_predict_train = LR_model2.predict(X_poly_train)\n",
    "y3_predict_train = LR_model3.predict(X_poly_train)\n",
    "\n",
    "y1_predict_val = LR_model1.predict(X_val)\n",
    "y2_predict_val = LR_model2.predict(X_poly_val)\n",
    "y3_predict_val = LR_model3.predict(X_poly_val)\n",
    "\n",
    "MSE_train_1 = mean_squared_error(y1_predict_train, y_train)\n",
    "MSE_train_2 = mean_squared_error(y2_predict_train, y_train)\n",
    "MSE_train_3 = mean_squared_error(y3_predict_train, y_train)\n",
    "\n",
    "MSE_val_1 = mean_squared_error(y1_predict_val, y_val)\n",
    "MSE_val_2 = mean_squared_error(y2_predict_val, y_val)\n",
    "MSE_val_3 = mean_squared_error(y3_predict_val, y_val)\n",
    "\n"
   ]
  },
  {
   "cell_type": "code",
   "execution_count": 466,
   "metadata": {},
   "outputs": [
    {
     "data": {
      "text/plain": [
       "(727.0440167929618, 549.8167031335007, 591.8238952752464)"
      ]
     },
     "execution_count": 466,
     "metadata": {},
     "output_type": "execute_result"
    }
   ],
   "source": [
    "MSE_train_1, MSE_train_2, MSE_train_3\n"
   ]
  },
  {
   "cell_type": "code",
   "execution_count": 467,
   "metadata": {},
   "outputs": [
    {
     "data": {
      "text/plain": [
       "(848.5702981842697, 625.7254642986926, 676.8949010105667)"
      ]
     },
     "execution_count": 467,
     "metadata": {},
     "output_type": "execute_result"
    }
   ],
   "source": [
    "MSE_val_1, MSE_val_2, MSE_val_3"
   ]
  },
  {
   "attachments": {},
   "cell_type": "markdown",
   "metadata": {},
   "source": [
    "Biểu đồ thể hiện tương quan giữa các đại lượng MSE của 3 mô hình trong phương pháp Hồi quy tuyến tính"
   ]
  },
  {
   "cell_type": "code",
   "execution_count": 468,
   "metadata": {},
   "outputs": [
    {
     "data": {
      "image/png": "[encoded data removed]",
      "text/plain": [
       "<Figure size 640x480 with 1 Axes>"
      ]
     },
     "metadata": {},
     "output_type": "display_data"
    }
   ],
   "source": [
    "MSE_all = pd.DataFrame({\n",
    "    'Mô hình' : [1, 1, 2, 2, 3, 3],\n",
    "    'MSE' : [MSE_train_1, MSE_val_1, MSE_train_2, MSE_val_2, MSE_train_3, MSE_val_3],\n",
    "    'Tập dữ liệu' : ['Train', 'Validation', 'Train', 'Validation', 'Train', 'Validation']\n",
    "})\n",
    "\n",
    "sns.barplot(data=MSE_all, x=\"Mô hình\", y=\"MSE\", hue=\"Tập dữ liệu\")\n",
    "plt.show()\n"
   ]
  },
  {
   "attachments": {},
   "cell_type": "markdown",
   "metadata": {},
   "source": [
    "Mô hình thứ hai thể hiện tốt nhất khi so sánh tương quan giữa hai mô hình còn lại, nên ta sẽ lựa chọn mô hình này"
   ]
  },
  {
   "cell_type": "code",
   "execution_count": 469,
   "metadata": {},
   "outputs": [],
   "source": [
    "# Decision\n",
    "\n",
    "X_poly_test = poly_features.fit_transform(X_test)\n",
    "y2_predict_test = LR_model2.predict(X_poly_test)\n",
    "MSE_test_LR = mean_squared_error(y2_predict_test, y_test)\n",
    "\n",
    "prop_LR = np.sum(np.abs(y2_predict_test - np.array(y_test)) < 7) / len(y_test)\n",
    "\n",
    "\n",
    "best_LR_model = {\n",
    "    \"Model\" : LR_model2,\n",
    "    \"MSE_test\" : MSE_test_LR,\n",
    "    \"Less_than_5mi_prop\" : prop_LR\n",
    "}\n"
   ]
  },
  {
   "attachments": {},
   "cell_type": "markdown",
   "metadata": {},
   "source": [
    "### 3.2 Rừng ngẫu nhiên "
   ]
  },
  {
   "cell_type": "code",
   "execution_count": 470,
   "metadata": {},
   "outputs": [],
   "source": [
    "ET_model1 = RandomForestRegressor(min_samples_split=7)"
   ]
  },
  {
   "cell_type": "code",
   "execution_count": 471,
   "metadata": {},
   "outputs": [],
   "source": [
    "ET_model2 = XGBRegressor(max_depth=5)"
   ]
  },
  {
   "cell_type": "code",
   "execution_count": 472,
   "metadata": {},
   "outputs": [
    {
     "data": {
      "text/html": [
       "<style>#sk-container-id-35 {color: black;background-color: white;}#sk-container-id-35 pre{padding: 0;}#sk-container-id-35 div.sk-toggleable {background-color: white;}#sk-container-id-35 label.sk-toggleable__label {cursor: pointer;display: block;width: 100%;margin-bottom: 0;padding: 0.3em;box-sizing: border-box;text-align: center;}#sk-container-id-35 label.sk-toggleable__label-arrow:before {content: \"▸\";float: left;margin-right: 0.25em;color: #696969;}#sk-container-id-35 label.sk-toggleable__label-arrow:hover:before {color: black;}#sk-container-id-35 div.sk-estimator:hover label.sk-toggleable__label-arrow:before {color: black;}#sk-container-id-35 div.sk-toggleable__content {max-height: 0;max-width: 0;overflow: hidden;text-align: left;background-color: #f0f8ff;}#sk-container-id-35 div.sk-toggleable__content pre {margin: 0.2em;color: black;border-radius: 0.25em;background-color: #f0f8ff;}#sk-container-id-35 input.sk-toggleable__control:checked~div.sk-toggleable__content {max-height: 200px;max-width: 100%;overflow: auto;}#sk-container-id-35 input.sk-toggleable__control:checked~label.sk-toggleable__label-arrow:before {content: \"▾\";}#sk-container-id-35 div.sk-estimator input.sk-toggleable__control:checked~label.sk-toggleable__label {background-color: #d4ebff;}#sk-container-id-35 div.sk-label input.sk-toggleable__control:checked~label.sk-toggleable__label {background-color: #d4ebff;}#sk-container-id-35 input.sk-hidden--visually {border: 0;clip: rect(1px 1px 1px 1px);clip: rect(1px, 1px, 1px, 1px);height: 1px;margin: -1px;overflow: hidden;padding: 0;position: absolute;width: 1px;}#sk-container-id-35 div.sk-estimator {font-family: monospace;background-color: #f0f8ff;border: 1px dotted black;border-radius: 0.25em;box-sizing: border-box;margin-bottom: 0.5em;}#sk-container-id-35 div.sk-estimator:hover {background-color: #d4ebff;}#sk-container-id-35 div.sk-parallel-item::after {content: \"\";width: 100%;border-bottom: 1px solid gray;flex-grow: 1;}#sk-container-id-35 div.sk-label:hover label.sk-toggleable__label {background-color: #d4ebff;}#sk-container-id-35 div.sk-serial::before {content: \"\";position: absolute;border-left: 1px solid gray;box-sizing: border-box;top: 0;bottom: 0;left: 50%;z-index: 0;}#sk-container-id-35 div.sk-serial {display: flex;flex-direction: column;align-items: center;background-color: white;padding-right: 0.2em;padding-left: 0.2em;position: relative;}#sk-container-id-35 div.sk-item {position: relative;z-index: 1;}#sk-container-id-35 div.sk-parallel {display: flex;align-items: stretch;justify-content: center;background-color: white;position: relative;}#sk-container-id-35 div.sk-item::before, #sk-container-id-35 div.sk-parallel-item::before {content: \"\";position: absolute;border-left: 1px solid gray;box-sizing: border-box;top: 0;bottom: 0;left: 50%;z-index: -1;}#sk-container-id-35 div.sk-parallel-item {display: flex;flex-direction: column;z-index: 1;position: relative;background-color: white;}#sk-container-id-35 div.sk-parallel-item:first-child::after {align-self: flex-end;width: 50%;}#sk-container-id-35 div.sk-parallel-item:last-child::after {align-self: flex-start;width: 50%;}#sk-container-id-35 div.sk-parallel-item:only-child::after {width: 0;}#sk-container-id-35 div.sk-dashed-wrapped {border: 1px dashed gray;margin: 0 0.4em 0.5em 0.4em;box-sizing: border-box;padding-bottom: 0.4em;background-color: white;}#sk-container-id-35 div.sk-label label {font-family: monospace;font-weight: bold;display: inline-block;line-height: 1.2em;}#sk-container-id-35 div.sk-label-container {text-align: center;}#sk-container-id-35 div.sk-container {/* jupyter's `normalize.less` sets `[hidden] { display: none; }` but bootstrap.min.css set `[hidden] { display: none !important; }` so we also need the `!important` here to be able to override the default hidden behavior on the sphinx rendered scikit-learn.org. See: https://github.com/scikit-learn/scikit-learn/issues/21755 */display: inline-block !important;position: relative;}#sk-container-id-35 div.sk-text-repr-fallback {display: none;}</style><div id=\"sk-container-id-35\" class=\"sk-top-container\"><div class=\"sk-text-repr-fallback\"><pre>RandomForestRegressor(min_samples_split=7)</pre><b>In a Jupyter environment, please rerun this cell to show the HTML representation or trust the notebook. <br />On GitHub, the HTML representation is unable to render, please try loading this page with nbviewer.org.</b></div><div class=\"sk-container\" hidden><div class=\"sk-item\"><div class=\"sk-estimator sk-toggleable\"><input class=\"sk-toggleable__control sk-hidden--visually\" id=\"sk-estimator-id-35\" type=\"checkbox\" checked><label for=\"sk-estimator-id-35\" class=\"sk-toggleable__label sk-toggleable__label-arrow\">RandomForestRegressor</label><div class=\"sk-toggleable__content\"><pre>RandomForestRegressor(min_samples_split=7)</pre></div></div></div></div></div>"
      ],
      "text/plain": [
       "RandomForestRegressor(min_samples_split=7)"
      ]
     },
     "execution_count": 472,
     "metadata": {},
     "output_type": "execute_result"
    }
   ],
   "source": [
    "ET_model1.fit(X_train, y_train)"
   ]
  },
  {
   "cell_type": "code",
   "execution_count": 473,
   "metadata": {},
   "outputs": [
    {
     "data": {
      "text/html": [
       "<style>#sk-container-id-36 {color: black;background-color: white;}#sk-container-id-36 pre{padding: 0;}#sk-container-id-36 div.sk-toggleable {background-color: white;}#sk-container-id-36 label.sk-toggleable__label {cursor: pointer;display: block;width: 100%;margin-bottom: 0;padding: 0.3em;box-sizing: border-box;text-align: center;}#sk-container-id-36 label.sk-toggleable__label-arrow:before {content: \"▸\";float: left;margin-right: 0.25em;color: #696969;}#sk-container-id-36 label.sk-toggleable__label-arrow:hover:before {color: black;}#sk-container-id-36 div.sk-estimator:hover label.sk-toggleable__label-arrow:before {color: black;}#sk-container-id-36 div.sk-toggleable__content {max-height: 0;max-width: 0;overflow: hidden;text-align: left;background-color: #f0f8ff;}#sk-container-id-36 div.sk-toggleable__content pre {margin: 0.2em;color: black;border-radius: 0.25em;background-color: #f0f8ff;}#sk-container-id-36 input.sk-toggleable__control:checked~div.sk-toggleable__content {max-height: 200px;max-width: 100%;overflow: auto;}#sk-container-id-36 input.sk-toggleable__control:checked~label.sk-toggleable__label-arrow:before {content: \"▾\";}#sk-container-id-36 div.sk-estimator input.sk-toggleable__control:checked~label.sk-toggleable__label {background-color: #d4ebff;}#sk-container-id-36 div.sk-label input.sk-toggleable__control:checked~label.sk-toggleable__label {background-color: #d4ebff;}#sk-container-id-36 input.sk-hidden--visually {border: 0;clip: rect(1px 1px 1px 1px);clip: rect(1px, 1px, 1px, 1px);height: 1px;margin: -1px;overflow: hidden;padding: 0;position: absolute;width: 1px;}#sk-container-id-36 div.sk-estimator {font-family: monospace;background-color: #f0f8ff;border: 1px dotted black;border-radius: 0.25em;box-sizing: border-box;margin-bottom: 0.5em;}#sk-container-id-36 div.sk-estimator:hover {background-color: #d4ebff;}#sk-container-id-36 div.sk-parallel-item::after {content: \"\";width: 100%;border-bottom: 1px solid gray;flex-grow: 1;}#sk-container-id-36 div.sk-label:hover label.sk-toggleable__label {background-color: #d4ebff;}#sk-container-id-36 div.sk-serial::before {content: \"\";position: absolute;border-left: 1px solid gray;box-sizing: border-box;top: 0;bottom: 0;left: 50%;z-index: 0;}#sk-container-id-36 div.sk-serial {display: flex;flex-direction: column;align-items: center;background-color: white;padding-right: 0.2em;padding-left: 0.2em;position: relative;}#sk-container-id-36 div.sk-item {position: relative;z-index: 1;}#sk-container-id-36 div.sk-parallel {display: flex;align-items: stretch;justify-content: center;background-color: white;position: relative;}#sk-container-id-36 div.sk-item::before, #sk-container-id-36 div.sk-parallel-item::before {content: \"\";position: absolute;border-left: 1px solid gray;box-sizing: border-box;top: 0;bottom: 0;left: 50%;z-index: -1;}#sk-container-id-36 div.sk-parallel-item {display: flex;flex-direction: column;z-index: 1;position: relative;background-color: white;}#sk-container-id-36 div.sk-parallel-item:first-child::after {align-self: flex-end;width: 50%;}#sk-container-id-36 div.sk-parallel-item:last-child::after {align-self: flex-start;width: 50%;}#sk-container-id-36 div.sk-parallel-item:only-child::after {width: 0;}#sk-container-id-36 div.sk-dashed-wrapped {border: 1px dashed gray;margin: 0 0.4em 0.5em 0.4em;box-sizing: border-box;padding-bottom: 0.4em;background-color: white;}#sk-container-id-36 div.sk-label label {font-family: monospace;font-weight: bold;display: inline-block;line-height: 1.2em;}#sk-container-id-36 div.sk-label-container {text-align: center;}#sk-container-id-36 div.sk-container {/* jupyter's `normalize.less` sets `[hidden] { display: none; }` but bootstrap.min.css set `[hidden] { display: none !important; }` so we also need the `!important` here to be able to override the default hidden behavior on the sphinx rendered scikit-learn.org. See: https://github.com/scikit-learn/scikit-learn/issues/21755 */display: inline-block !important;position: relative;}#sk-container-id-36 div.sk-text-repr-fallback {display: none;}</style><div id=\"sk-container-id-36\" class=\"sk-top-container\"><div class=\"sk-text-repr-fallback\"><pre>XGBRegressor(base_score=0.5, booster=&#x27;gbtree&#x27;, callbacks=None,\n",
       "             colsample_bylevel=1, colsample_bynode=1, colsample_bytree=1,\n",
       "             early_stopping_rounds=None, enable_categorical=False,\n",
       "             eval_metric=None, feature_types=None, gamma=0, gpu_id=-1,\n",
       "             grow_policy=&#x27;depthwise&#x27;, importance_type=None,\n",
       "             interaction_constraints=&#x27;&#x27;, learning_rate=0.300000012, max_bin=256,\n",
       "             max_cat_threshold=64, max_cat_to_onehot=4, max_delta_step=0,\n",
       "             max_depth=5, max_leaves=0, min_child_weight=1, missing=nan,\n",
       "             monotone_constraints=&#x27;()&#x27;, n_estimators=100, n_jobs=0,\n",
       "             num_parallel_tree=1, predictor=&#x27;auto&#x27;, random_state=0, ...)</pre><b>In a Jupyter environment, please rerun this cell to show the HTML representation or trust the notebook. <br />On GitHub, the HTML representation is unable to render, please try loading this page with nbviewer.org.</b></div><div class=\"sk-container\" hidden><div class=\"sk-item\"><div class=\"sk-estimator sk-toggleable\"><input class=\"sk-toggleable__control sk-hidden--visually\" id=\"sk-estimator-id-36\" type=\"checkbox\" checked><label for=\"sk-estimator-id-36\" class=\"sk-toggleable__label sk-toggleable__label-arrow\">XGBRegressor</label><div class=\"sk-toggleable__content\"><pre>XGBRegressor(base_score=0.5, booster=&#x27;gbtree&#x27;, callbacks=None,\n",
       "             colsample_bylevel=1, colsample_bynode=1, colsample_bytree=1,\n",
       "             early_stopping_rounds=None, enable_categorical=False,\n",
       "             eval_metric=None, feature_types=None, gamma=0, gpu_id=-1,\n",
       "             grow_policy=&#x27;depthwise&#x27;, importance_type=None,\n",
       "             interaction_constraints=&#x27;&#x27;, learning_rate=0.300000012, max_bin=256,\n",
       "             max_cat_threshold=64, max_cat_to_onehot=4, max_delta_step=0,\n",
       "             max_depth=5, max_leaves=0, min_child_weight=1, missing=nan,\n",
       "             monotone_constraints=&#x27;()&#x27;, n_estimators=100, n_jobs=0,\n",
       "             num_parallel_tree=1, predictor=&#x27;auto&#x27;, random_state=0, ...)</pre></div></div></div></div></div>"
      ],
      "text/plain": [
       "XGBRegressor(base_score=0.5, booster='gbtree', callbacks=None,\n",
       "             colsample_bylevel=1, colsample_bynode=1, colsample_bytree=1,\n",
       "             early_stopping_rounds=None, enable_categorical=False,\n",
       "             eval_metric=None, feature_types=None, gamma=0, gpu_id=-1,\n",
       "             grow_policy='depthwise', importance_type=None,\n",
       "             interaction_constraints='', learning_rate=0.300000012, max_bin=256,\n",
       "             max_cat_threshold=64, max_cat_to_onehot=4, max_delta_step=0,\n",
       "             max_depth=5, max_leaves=0, min_child_weight=1, missing=nan,\n",
       "             monotone_constraints='()', n_estimators=100, n_jobs=0,\n",
       "             num_parallel_tree=1, predictor='auto', random_state=0, ...)"
      ]
     },
     "execution_count": 473,
     "metadata": {},
     "output_type": "execute_result"
    }
   ],
   "source": [
    "ET_model2.fit(X_train, y_train)\n"
   ]
  },
  {
   "cell_type": "code",
   "execution_count": 474,
   "metadata": {},
   "outputs": [],
   "source": [
    "y1_pred_train = ET_model1.predict(X_train)\n",
    "y2_pred_train = ET_model2.predict(X_train)\n",
    "\n",
    "y1_pred_val = ET_model1.predict(X_val)\n",
    "y2_pred_val = ET_model2.predict(X_val)\n",
    "\n",
    "MSE_train1 = mean_squared_error(y1_pred_train, y_train)\n",
    "MSE_train2 = mean_squared_error(y2_pred_train, y_train)\n",
    "\n",
    "MSE_val1 = mean_squared_error(y1_pred_val, y_val)\n",
    "MSE_val2 = mean_squared_error(y2_pred_val, y_val)\n"
   ]
  },
  {
   "cell_type": "code",
   "execution_count": 475,
   "metadata": {},
   "outputs": [
    {
     "data": {
      "text/plain": [
       "(114.4616061036983, 142.8407613853081)"
      ]
     },
     "execution_count": 475,
     "metadata": {},
     "output_type": "execute_result"
    }
   ],
   "source": [
    "MSE_train1, MSE_train2"
   ]
  },
  {
   "cell_type": "code",
   "execution_count": 476,
   "metadata": {},
   "outputs": [
    {
     "data": {
      "text/plain": [
       "(228.8976909816492, 210.42863637024192)"
      ]
     },
     "execution_count": 476,
     "metadata": {},
     "output_type": "execute_result"
    }
   ],
   "source": [
    "MSE_val1, MSE_val2"
   ]
  },
  {
   "cell_type": "code",
   "execution_count": 477,
   "metadata": {},
   "outputs": [
    {
     "data": {
      "image/png": "[encoded data removed]",
      "text/plain": [
       "<Figure size 640x480 with 1 Axes>"
      ]
     },
     "metadata": {},
     "output_type": "display_data"
    }
   ],
   "source": [
    "MSE_all = pd.DataFrame({\n",
    "    'Mô hình' : [1, 1, 2, 2],\n",
    "    'MSE' : [MSE_train1, MSE_val1, MSE_train2, MSE_val2],\n",
    "    'Tập dữ liệu' : ['Train', 'Validation', 'Train', 'Validation']\n",
    "})\n",
    "\n",
    "sns.barplot(data=MSE_all, x=\"Mô hình\", y=\"MSE\", hue=\"Tập dữ liệu\")\n",
    "plt.show()"
   ]
  },
  {
   "cell_type": "code",
   "execution_count": 478,
   "metadata": {},
   "outputs": [],
   "source": [
    "# Decision\n",
    "\n",
    "y2_pred_test = ET_model2.predict(X_test)\n",
    "MSE_test_ET = mean_squared_error(y2_pred_test, y_test)\n",
    "\n",
    "prop_ET = np.sum(np.abs(y2_pred_test - np.array(y_test)) < 7) / len(y_test)\n",
    "\n",
    "\n",
    "best_ET_model = {\n",
    "    \"Model\" : ET_model2,\n",
    "    \"MSE_test\" : MSE_test_ET,\n",
    "    \"Less_than_5mi_prop\" : prop_ET\n",
    "}"
   ]
  },
  {
   "attachments": {},
   "cell_type": "markdown",
   "metadata": {},
   "source": [
    "### 3.3 Mạng Neural"
   ]
  },
  {
   "cell_type": "code",
   "execution_count": 479,
   "metadata": {},
   "outputs": [
    {
     "name": "stdout",
     "output_type": "stream",
     "text": [
      "Model: \"sequential_11\"\n",
      "_________________________________________________________________\n",
      " Layer (type)                Output Shape              Param #   \n",
      "=================================================================\n",
      " layer-1 (Dense)             (None, 32)                224       \n",
      "                                                                 \n",
      " layer-2 (Dense)             (None, 64)                2112      \n",
      "                                                                 \n",
      " layer-3 (Dense)             (None, 128)               8320      \n",
      "                                                                 \n",
      " layer-4 (Dense)             (None, 64)                8256      \n",
      "                                                                 \n",
      " layer-5 (Dense)             (None, 32)                2080      \n",
      "                                                                 \n",
      " layer-6 (Dense)             (None, 16)                528       \n",
      "                                                                 \n",
      " layer-7 (Dense)             (None, 8)                 136       \n",
      "                                                                 \n",
      " Output-layer (Dense)        (None, 1)                 9         \n",
      "                                                                 \n",
      "=================================================================\n",
      "Total params: 21,665\n",
      "Trainable params: 21,665\n",
      "Non-trainable params: 0\n",
      "_________________________________________________________________\n"
     ]
    }
   ],
   "source": [
    "model = keras.Sequential([\n",
    "      layers.InputLayer(input_shape=(X_train.shape[1]), name=\"Input-layer\"),\n",
    "      layers.Dense(32, activation='relu', name=\"layer-1\"),\n",
    "      layers.Dense(64, activation='relu', name=\"layer-2\"),\n",
    "      layers.Dense(128, activation='relu', name=\"layer-3\"),\n",
    "      layers.Dense(64, activation='relu', name=\"layer-4\"),\n",
    "      layers.Dense(32, activation='relu', name=\"layer-5\"),\n",
    "      layers.Dense(16, activation='relu', name=\"layer-6\"),\n",
    "      layers.Dense(8, activation='relu', name=\"layer-7\"),\n",
    "      layers.Dense(1, name='Output-layer')\n",
    "  ])\n",
    "\n",
    "model.compile(loss='mean_squared_error',\n",
    "                optimizer=tf.keras.optimizers.Adam(0.001))\n",
    "\n",
    "model.summary()\n",
    "\n"
   ]
  },
  {
   "cell_type": "code",
   "execution_count": 480,
   "metadata": {},
   "outputs": [
    {
     "name": "stdout",
     "output_type": "stream",
     "text": [
      "Epoch 1/60\n",
      "278/278 [==============================] - 2s 3ms/step - loss: 882.5154 - val_loss: 788.3773\n",
      "Epoch 2/60\n",
      "278/278 [==============================] - 1s 3ms/step - loss: 632.5394 - val_loss: 641.2475\n",
      "Epoch 3/60\n",
      "278/278 [==============================] - 1s 3ms/step - loss: 493.7211 - val_loss: 447.1750\n",
      "Epoch 4/60\n",
      "278/278 [==============================] - 1s 3ms/step - loss: 426.0186 - val_loss: 384.6824\n",
      "Epoch 5/60\n",
      "278/278 [==============================] - 1s 3ms/step - loss: 410.7444 - val_loss: 387.9943\n",
      "Epoch 6/60\n",
      "278/278 [==============================] - 1s 3ms/step - loss: 400.5057 - val_loss: 353.0154\n",
      "Epoch 7/60\n",
      "278/278 [==============================] - 1s 3ms/step - loss: 393.8939 - val_loss: 355.7844\n",
      "Epoch 8/60\n",
      "278/278 [==============================] - 1s 3ms/step - loss: 390.2451 - val_loss: 365.2855\n",
      "Epoch 9/60\n",
      "278/278 [==============================] - 1s 3ms/step - loss: 385.9138 - val_loss: 355.2425\n",
      "Epoch 10/60\n",
      "278/278 [==============================] - 1s 3ms/step - loss: 380.8817 - val_loss: 360.1267\n",
      "Epoch 11/60\n",
      "278/278 [==============================] - 1s 3ms/step - loss: 378.2422 - val_loss: 343.8267\n",
      "Epoch 12/60\n",
      "278/278 [==============================] - 1s 3ms/step - loss: 372.4844 - val_loss: 320.9592\n",
      "Epoch 13/60\n",
      "278/278 [==============================] - 1s 3ms/step - loss: 368.1717 - val_loss: 368.6123\n",
      "Epoch 14/60\n",
      "278/278 [==============================] - 1s 3ms/step - loss: 364.3367 - val_loss: 340.2427\n",
      "Epoch 15/60\n",
      "278/278 [==============================] - 1s 3ms/step - loss: 361.0288 - val_loss: 332.6866\n",
      "Epoch 16/60\n",
      "278/278 [==============================] - 1s 3ms/step - loss: 356.8606 - val_loss: 313.9752\n",
      "Epoch 17/60\n",
      "278/278 [==============================] - 1s 3ms/step - loss: 353.2748 - val_loss: 296.4012\n",
      "Epoch 18/60\n",
      "278/278 [==============================] - 1s 3ms/step - loss: 346.6238 - val_loss: 342.9197\n",
      "Epoch 19/60\n",
      "278/278 [==============================] - 1s 3ms/step - loss: 343.2729 - val_loss: 322.3600\n",
      "Epoch 20/60\n",
      "278/278 [==============================] - 1s 3ms/step - loss: 343.4198 - val_loss: 455.7143\n",
      "Epoch 21/60\n",
      "278/278 [==============================] - 1s 3ms/step - loss: 349.3228 - val_loss: 286.3868\n",
      "Epoch 22/60\n",
      "278/278 [==============================] - 1s 3ms/step - loss: 342.0405 - val_loss: 284.2812\n",
      "Epoch 23/60\n",
      "278/278 [==============================] - 1s 3ms/step - loss: 335.8638 - val_loss: 283.1425\n",
      "Epoch 24/60\n",
      "278/278 [==============================] - 1s 3ms/step - loss: 332.8651 - val_loss: 282.2343\n",
      "Epoch 25/60\n",
      "278/278 [==============================] - 1s 3ms/step - loss: 335.5892 - val_loss: 330.9223\n",
      "Epoch 26/60\n",
      "278/278 [==============================] - 1s 3ms/step - loss: 336.2316 - val_loss: 377.9568\n",
      "Epoch 27/60\n",
      "278/278 [==============================] - 1s 3ms/step - loss: 329.6089 - val_loss: 280.0330\n",
      "Epoch 28/60\n",
      "278/278 [==============================] - 1s 3ms/step - loss: 332.7469 - val_loss: 296.9241\n",
      "Epoch 29/60\n",
      "278/278 [==============================] - 1s 3ms/step - loss: 330.6523 - val_loss: 277.0325\n",
      "Epoch 30/60\n",
      "278/278 [==============================] - 1s 3ms/step - loss: 330.1346 - val_loss: 301.8750\n",
      "Epoch 31/60\n",
      "278/278 [==============================] - 1s 3ms/step - loss: 328.6045 - val_loss: 348.1494\n",
      "Epoch 32/60\n",
      "278/278 [==============================] - 1s 3ms/step - loss: 331.8528 - val_loss: 294.1790\n",
      "Epoch 33/60\n",
      "278/278 [==============================] - 1s 3ms/step - loss: 328.3231 - val_loss: 275.1098\n",
      "Epoch 34/60\n",
      "278/278 [==============================] - 1s 3ms/step - loss: 325.1483 - val_loss: 266.7315\n",
      "Epoch 35/60\n",
      "278/278 [==============================] - 1s 3ms/step - loss: 324.3882 - val_loss: 288.1788\n",
      "Epoch 36/60\n",
      "278/278 [==============================] - 1s 4ms/step - loss: 321.1988 - val_loss: 266.6617\n",
      "Epoch 37/60\n",
      "278/278 [==============================] - 1s 4ms/step - loss: 323.9283 - val_loss: 330.7392\n",
      "Epoch 38/60\n",
      "278/278 [==============================] - 1s 3ms/step - loss: 323.9845 - val_loss: 273.5273\n",
      "Epoch 39/60\n",
      "278/278 [==============================] - 1s 3ms/step - loss: 321.9170 - val_loss: 294.1679\n",
      "Epoch 40/60\n",
      "278/278 [==============================] - 1s 3ms/step - loss: 324.5375 - val_loss: 279.9467\n",
      "Epoch 41/60\n",
      "278/278 [==============================] - 1s 3ms/step - loss: 316.1586 - val_loss: 294.9502\n",
      "Epoch 42/60\n",
      "278/278 [==============================] - 1s 3ms/step - loss: 318.0340 - val_loss: 267.9644\n",
      "Epoch 43/60\n",
      "278/278 [==============================] - 1s 3ms/step - loss: 317.4312 - val_loss: 289.9361\n",
      "Epoch 44/60\n",
      "278/278 [==============================] - 1s 4ms/step - loss: 317.7593 - val_loss: 262.2550\n",
      "Epoch 45/60\n",
      "278/278 [==============================] - 1s 4ms/step - loss: 314.1929 - val_loss: 270.2143\n",
      "Epoch 46/60\n",
      "278/278 [==============================] - 1s 3ms/step - loss: 315.1918 - val_loss: 300.8684\n",
      "Epoch 47/60\n",
      "278/278 [==============================] - 1s 3ms/step - loss: 317.3846 - val_loss: 264.6027\n",
      "Epoch 48/60\n",
      "278/278 [==============================] - 1s 3ms/step - loss: 313.5177 - val_loss: 268.7811\n",
      "Epoch 49/60\n",
      "278/278 [==============================] - 1s 3ms/step - loss: 310.3102 - val_loss: 314.9078\n",
      "Epoch 50/60\n",
      "278/278 [==============================] - 1s 3ms/step - loss: 311.2229 - val_loss: 275.1128\n",
      "Epoch 51/60\n",
      "278/278 [==============================] - 1s 3ms/step - loss: 310.1562 - val_loss: 278.8004\n",
      "Epoch 52/60\n",
      "278/278 [==============================] - 1s 3ms/step - loss: 312.1927 - val_loss: 272.4294\n",
      "Epoch 53/60\n",
      "278/278 [==============================] - 1s 3ms/step - loss: 309.2532 - val_loss: 265.0396\n",
      "Epoch 54/60\n",
      "278/278 [==============================] - 1s 3ms/step - loss: 305.5930 - val_loss: 271.5879\n",
      "Epoch 55/60\n",
      "278/278 [==============================] - 1s 3ms/step - loss: 308.5630 - val_loss: 291.8258\n",
      "Epoch 56/60\n",
      "278/278 [==============================] - 1s 3ms/step - loss: 307.7175 - val_loss: 263.9984\n",
      "Epoch 57/60\n",
      "278/278 [==============================] - 1s 3ms/step - loss: 308.0620 - val_loss: 273.3566\n",
      "Epoch 58/60\n",
      "278/278 [==============================] - 1s 3ms/step - loss: 307.0449 - val_loss: 270.5231\n",
      "Epoch 59/60\n",
      "278/278 [==============================] - 1s 3ms/step - loss: 306.6957 - val_loss: 274.8138\n",
      "Epoch 60/60\n",
      "278/278 [==============================] - 1s 3ms/step - loss: 301.5276 - val_loss: 275.0808\n"
     ]
    }
   ],
   "source": [
    "history = model.fit(\n",
    "    X_train,\n",
    "    y_train,\n",
    "    validation_data=(X_val, y_val),\n",
    "    epochs=60)\n"
   ]
  },
  {
   "cell_type": "code",
   "execution_count": 481,
   "metadata": {},
   "outputs": [
    {
     "data": {
      "image/png": "[encoded data removed]",
      "text/plain": [
       "<Figure size 640x480 with 1 Axes>"
      ]
     },
     "metadata": {},
     "output_type": "display_data"
    }
   ],
   "source": [
    "plt.plot(history.history['loss'], label='loss')\n",
    "plt.plot(history.history['val_loss'], label='val_loss')\n",
    "plt.xlabel('Epoch')\n",
    "plt.ylabel('Error [MPG]')\n",
    "plt.legend()\n",
    "plt.grid(True)\n"
   ]
  },
  {
   "cell_type": "code",
   "execution_count": 482,
   "metadata": {},
   "outputs": [
    {
     "name": "stdout",
     "output_type": "stream",
     "text": [
      "35/35 [==============================] - 0s 2ms/step\n"
     ]
    }
   ],
   "source": [
    "# Decision\n",
    "\n",
    "y_pred = model.predict(X_test)\n",
    "MSE_test_DNN = mean_squared_error(y_pred, y_test)\n",
    "\n",
    "prop_DNN = np.sum(np.abs(y_pred.ravel() - np.array(y_test)) < 7) / len(y_test)\n",
    "\n",
    "\n",
    "best_DNN_model = {\n",
    "    \"Model\" : model,\n",
    "    \"MSE_test\" : MSE_test_DNN,\n",
    "    \"Less_than_5mi_prop\" : prop_DNN\n",
    "}"
   ]
  },
  {
   "cell_type": "code",
   "execution_count": 483,
   "metadata": {},
   "outputs": [
    {
     "data": {
      "text/plain": [
       "(1112, 1)"
      ]
     },
     "execution_count": 483,
     "metadata": {},
     "output_type": "execute_result"
    }
   ],
   "source": [
    "y_pred.shape"
   ]
  },
  {
   "cell_type": "code",
   "execution_count": 484,
   "metadata": {},
   "outputs": [
    {
     "data": {
      "text/plain": [
       "{'Model': SGDRegressor(eta0=0.1, max_iter=150, penalty=None),\n",
       " 'MSE_test': 629.8543311945987,\n",
       " 'Less_than_5mi_prop': 0.35701438848920863}"
      ]
     },
     "execution_count": 484,
     "metadata": {},
     "output_type": "execute_result"
    }
   ],
   "source": [
    "best_LR_model"
   ]
  },
  {
   "cell_type": "code",
   "execution_count": 485,
   "metadata": {},
   "outputs": [
    {
     "data": {
      "text/plain": [
       "{'Model': XGBRegressor(base_score=0.5, booster='gbtree', callbacks=None,\n",
       "              colsample_bylevel=1, colsample_bynode=1, colsample_bytree=1,\n",
       "              early_stopping_rounds=None, enable_categorical=False,\n",
       "              eval_metric=None, feature_types=None, gamma=0, gpu_id=-1,\n",
       "              grow_policy='depthwise', importance_type=None,\n",
       "              interaction_constraints='', learning_rate=0.300000012, max_bin=256,\n",
       "              max_cat_threshold=64, max_cat_to_onehot=4, max_delta_step=0,\n",
       "              max_depth=5, max_leaves=0, min_child_weight=1, missing=nan,\n",
       "              monotone_constraints='()', n_estimators=100, n_jobs=0,\n",
       "              num_parallel_tree=1, predictor='auto', random_state=0, ...),\n",
       " 'MSE_test': 286.4652167093918,\n",
       " 'Less_than_5mi_prop': 0.6474820143884892}"
      ]
     },
     "execution_count": 485,
     "metadata": {},
     "output_type": "execute_result"
    }
   ],
   "source": [
    "best_ET_model"
   ]
  },
  {
   "cell_type": "code",
   "execution_count": 486,
   "metadata": {},
   "outputs": [
    {
     "data": {
      "text/plain": [
       "{'Model': <keras.engine.sequential.Sequential at 0x7f5092b4ce50>,\n",
       " 'MSE_test': 363.7987466972006,\n",
       " 'Less_than_5mi_prop': 0.5674460431654677}"
      ]
     },
     "execution_count": 486,
     "metadata": {},
     "output_type": "execute_result"
    }
   ],
   "source": [
    "best_DNN_model"
   ]
  },
  {
   "cell_type": "code",
   "execution_count": 487,
   "metadata": {},
   "outputs": [
    {
     "data": {
      "image/png": "[encoded data removed]",
      "text/plain": [
       "<Figure size 640x480 with 1 Axes>"
      ]
     },
     "metadata": {},
     "output_type": "display_data"
    }
   ],
   "source": [
    "MSE_all = pd.DataFrame({\n",
    "    'Mô hình' : [\"Hồi quy\", \"Rừng ngẫu nhiên\", \"Mạng Neural\"],\n",
    "    'MSE_test' : [best_LR_model['MSE_test'], best_ET_model['MSE_test'], best_DNN_model['MSE_test']],\n",
    "})\n",
    "\n",
    "sns.barplot(data=MSE_all, x=\"Mô hình\", y=\"MSE_test\")\n",
    "plt.show()"
   ]
  },
  {
   "cell_type": "code",
   "execution_count": 488,
   "metadata": {},
   "outputs": [
    {
     "data": {
      "image/png": "[encoded data removed]",
      "text/plain": [
       "<Figure size 640x480 with 1 Axes>"
      ]
     },
     "metadata": {},
     "output_type": "display_data"
    }
   ],
   "source": [
    "MSE_all = pd.DataFrame({\n",
    "    'Mô hình' : [\"Hồi quy\", \"Rừng ngẫu nhiên\", \"Mạng Neural\"],\n",
    "    'Tỉ lệ sai số ít hơn 7 triệu' : [best_LR_model['Less_than_5mi_prop'], best_ET_model['Less_than_5mi_prop']\\\n",
    "        , best_DNN_model['Less_than_5mi_prop']],\n",
    "})\n",
    "\n",
    "sns.barplot(data=MSE_all, x=\"Mô hình\", y=\"Tỉ lệ sai số ít hơn 7 triệu\")\n",
    "plt.ylim((0, 1))\n",
    "plt.show()"
   ]
  },
  {
   "cell_type": "code",
   "execution_count": 489,
   "metadata": {},
   "outputs": [],
   "source": [
    "# Final decision\n",
    "\n",
    "last_model = best_ET_model['Model']\n",
    "\n",
    "predict_system = {\n",
    "    \"model\" : last_model,\n",
    "    \"le_tinh_trg\" : le_tinh_trg,\n",
    "    \"le_dung_tich\" : le_dung_tich,\n",
    "    \"le_dong_xe\" : le_dong_xe,\n",
    "    \"le_loai_xe\" : le_loai_xe,\n",
    "    \"cols\" : cols\n",
    "}"
   ]
  },
  {
   "cell_type": "code",
   "execution_count": 490,
   "metadata": {},
   "outputs": [],
   "source": [
    "pickle.dump(predict_system, open(SAVE_PATH, 'wb'))\n"
   ]
  },
  {
   "cell_type": "code",
   "execution_count": 491,
   "metadata": {},
   "outputs": [],
   "source": [
    "# x = np.array([[3, 'Đã sử dụng', '100 - 175 cc', 'Vision', 15000, 'Tay ga']])\n",
    "\n",
    "# x[:,1] = le_tinh_trg.transform(x[:,1])\n",
    "# x[:,2] = le_dung_tich.transform(x[:,2])\n",
    "# x[:,3] = le_dong_xe.transform(x[:,3])\n",
    "# x[:,5] = le_loai_xe.transform(x[:,5])\n",
    "\n",
    "# x = x.astype(float)\n",
    "\n",
    "\n",
    "# for i in range(len(x[0])):\n",
    "#     x[:,i] = (x[:,i] - cols[i][0]) / (cols[i][1] - cols[i][2])\n",
    "\n",
    "# x\n",
    "\n"
   ]
  },
  {
   "cell_type": "code",
   "execution_count": 492,
   "metadata": {},
   "outputs": [],
   "source": [
    "# int(last_model.predict(x) * 1e6)"
   ]
  },
  {
   "cell_type": "code",
   "execution_count": 493,
   "metadata": {},
   "outputs": [],
   "source": [
    "# cols"
   ]
  }
 ],
 "metadata": {
  "kernelspec": {
   "display_name": "Python 3",
   "language": "python",
   "name": "python3"
  },
  "language_info": {
   "codemirror_mode": {
    "name": "ipython",
    "version": 3
   },
   "file_extension": ".py",
   "mimetype": "text/x-python",
   "name": "python",
   "nbconvert_exporter": "python",
   "pygments_lexer": "ipython3",
   "version": "3.10.6 (main, Nov 14 2022, 16:10:14) [GCC 11.3.0]"
  },
  "orig_nbformat": 4,
  "vscode": {
   "interpreter": {
    "hash": "916dbcbb3f70747c44a77c7bcd40155683ae19c65e1c03b4aa3499c5328201f1"
   }
  }
 },
 "nbformat": 4,
 "nbformat_minor": 2
}
