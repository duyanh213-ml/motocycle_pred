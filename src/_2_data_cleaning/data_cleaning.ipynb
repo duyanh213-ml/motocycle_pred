{
  "cells": [
    {
      "cell_type": "markdown",
      "metadata": {
        "id": "A-7ICLDAxz5s"
      },
      "source": [
        "# LÀM SẠCH DỮ LIỆU THÔ (DATA CLEANING)\n",
        "\n",
        "<center>\n",
        "<img src=\"https://encrypted-tbn0.gstatic.com/images?q=tbn:ANd9GcSHMqFayILkk4y15yfzfZZtqbXceznpPyZ03Q&usqp=CAU\" />\n",
        "</center>\n",
        "\n"
      ]
    },
    {
      "cell_type": "markdown",
      "metadata": {
        "id": "BgjAL34lx-EE"
      },
      "source": [
        "Trong một quy trình xây dựng một hệ thống học máy, làm sạch dữ liệu là bước thứ 3 sau khi dự án đã được lên ý tưởng và dữ liệu thô đã được thu thập.\n",
        "\n",
        "Việc làm sạch dữ liệu thô giúp cho dữ liệu được cập nhật một cách chính xác, rõ ràng, minh bạch, đảm bảo nguồn dữ liệu của chúng ta không bị hỏng, không bị thiếu trước khi được đưa vào quy trình phân tích, hay chuẩn hóa trước khi đưa vào xây dựng mô hình Học máy. \n",
        "\n",
        "Vì vậy có thể khẳng định, làm sạch dữ liệu là một quy trình hết sức quan trọng. Nếu không được làm sạch, sẽ dẫn đến việc báo cáo của chúng ta bị sai lệch, tệ hơn nữa là mô hình học máy đưa ra kết quả không đáng tin cậy. Ảnh hưởng xấu tới quá trình ra quyết định. Do đó, cần phải thực hiện công việc làm sạch dữ liệu một cách triệt để, đảm bảo đủ các tính chất cần thiết của một \"bộ dữ liệu sạch\".\n"
      ]
    },
    {
      "cell_type": "markdown",
      "metadata": {
        "id": "9U9umI0a0wR0"
      },
      "source": [
        "## 0. Khai báo các thư viện cần thiết"
      ]
    },
    {
      "cell_type": "markdown",
      "metadata": {
        "id": "xQMGnnFq05au"
      },
      "source": [
        "Ta khai báo các thư viện cần thiết sau để phục vụ cho quá trình làm sạch dữ liệu"
      ]
    },
    {
      "cell_type": "code",
      "execution_count": 106,
      "metadata": {
        "id": "8jIwulpgOHVv"
      },
      "outputs": [],
      "source": [
        "import pandas as pd\n",
        "import numpy as np\n",
        "import matplotlib.pyplot as plt\n",
        "\n",
        "# Các biến đường dẫn được thay đổi tùy thuộc vào local\n",
        "PATH = r\"/home/duyanh/Documents/VS_WorkSpace/projects/programming_for_DS_v1/data/moto_raw.csv\"\n",
        "\n",
        "SAVE_PATH = r'/home/duyanh/Documents/VS_WorkSpace/projects/programming_for_DS_v1/data/moto_cleaned.csv'\n",
        "\n",
        "%matplotlib inline"
      ]
    },
    {
      "cell_type": "markdown",
      "metadata": {
        "id": "AHXW7KifQNDu"
      },
      "source": [
        "## 1. Tạo dataframe từ dữ liệu thô với các header tương ứng"
      ]
    },
    {
      "cell_type": "markdown",
      "metadata": {
        "id": "PYoOie8R1QJJ"
      },
      "source": [
        "Ta tiến hành tạo ra một danh sách chứa tên của các cột thuộc tính, sau đó sử dụng thư viện *pandas* tiến hành đọc file có đuôi csv đã được chuẩn bị từ bước trước *(Data Preparation)*"
      ]
    },
    {
      "cell_type": "code",
      "execution_count": 107,
      "metadata": {
        "colab": {
          "base_uri": "https://localhost:8080/",
          "height": 363
        },
        "id": "sche_WK2PRgp",
        "outputId": "a26eb13e-4aaf-4700-efa6-cf2ce26a7fcc"
      },
      "outputs": [
        {
          "data": {
            "text/html": [
              "<div>\n",
              "<style scoped>\n",
              "    .dataframe tbody tr th:only-of-type {\n",
              "        vertical-align: middle;\n",
              "    }\n",
              "\n",
              "    .dataframe tbody tr th {\n",
              "        vertical-align: top;\n",
              "    }\n",
              "\n",
              "    .dataframe thead th {\n",
              "        text-align: right;\n",
              "    }\n",
              "</style>\n",
              "<table border=\"1\" class=\"dataframe\">\n",
              "  <thead>\n",
              "    <tr style=\"text-align: right;\">\n",
              "      <th></th>\n",
              "      <th>Hang_xe</th>\n",
              "      <th>Nam_dang_ky</th>\n",
              "      <th>Tinh_trang_xe</th>\n",
              "      <th>Dung_tich_xe</th>\n",
              "      <th>Dong_xe</th>\n",
              "      <th>So_km_da_di</th>\n",
              "      <th>Loai_xe</th>\n",
              "      <th>Gia_xe</th>\n",
              "    </tr>\n",
              "  </thead>\n",
              "  <tbody>\n",
              "    <tr>\n",
              "      <th>0</th>\n",
              "      <td>Suzuki</td>\n",
              "      <td>1996</td>\n",
              "      <td>Đãsửdụng</td>\n",
              "      <td>Null</td>\n",
              "      <td>Sport/Xipo</td>\n",
              "      <td>1234</td>\n",
              "      <td>Taycôn/Moto</td>\n",
              "      <td>25.500.000đ</td>\n",
              "    </tr>\n",
              "    <tr>\n",
              "      <th>1</th>\n",
              "      <td>Piaggio</td>\n",
              "      <td>2014</td>\n",
              "      <td>Đãsửdụng</td>\n",
              "      <td>100-175cc</td>\n",
              "      <td>Vespa</td>\n",
              "      <td>11000</td>\n",
              "      <td>Tayga</td>\n",
              "      <td>32.500.000đ</td>\n",
              "    </tr>\n",
              "    <tr>\n",
              "      <th>2</th>\n",
              "      <td>Yamaha</td>\n",
              "      <td>2013</td>\n",
              "      <td>Đãsửdụng</td>\n",
              "      <td>100-175cc</td>\n",
              "      <td>Exciter</td>\n",
              "      <td>25</td>\n",
              "      <td>Taycôn/Moto</td>\n",
              "      <td>27.500.000đ</td>\n",
              "    </tr>\n",
              "    <tr>\n",
              "      <th>3</th>\n",
              "      <td>Yamaha</td>\n",
              "      <td>2015</td>\n",
              "      <td>Đãsửdụng</td>\n",
              "      <td>100-175cc</td>\n",
              "      <td>Exciter</td>\n",
              "      <td>37</td>\n",
              "      <td>Xesố</td>\n",
              "      <td>26.500.000đ</td>\n",
              "    </tr>\n",
              "    <tr>\n",
              "      <th>4</th>\n",
              "      <td>Honda</td>\n",
              "      <td>1999</td>\n",
              "      <td>Đãsửdụng</td>\n",
              "      <td>100-175cc</td>\n",
              "      <td>Dream</td>\n",
              "      <td>25</td>\n",
              "      <td>Xesố</td>\n",
              "      <td>25.000.000đ</td>\n",
              "    </tr>\n",
              "    <tr>\n",
              "      <th>5</th>\n",
              "      <td>Honda</td>\n",
              "      <td>2019</td>\n",
              "      <td>Đãsửdụng</td>\n",
              "      <td>100-175cc</td>\n",
              "      <td>Cub</td>\n",
              "      <td>585869</td>\n",
              "      <td>Xesố</td>\n",
              "      <td>3.300.000đ</td>\n",
              "    </tr>\n",
              "    <tr>\n",
              "      <th>6</th>\n",
              "      <td>Yamaha</td>\n",
              "      <td>2013</td>\n",
              "      <td>Đãsửdụng</td>\n",
              "      <td>Null</td>\n",
              "      <td>Sirius</td>\n",
              "      <td>30</td>\n",
              "      <td>Xesố</td>\n",
              "      <td>7.800.000đ</td>\n",
              "    </tr>\n",
              "    <tr>\n",
              "      <th>7</th>\n",
              "      <td>Honda</td>\n",
              "      <td>2019</td>\n",
              "      <td>Đãsửdụng</td>\n",
              "      <td>Null</td>\n",
              "      <td>Winner</td>\n",
              "      <td>1000</td>\n",
              "      <td>Taycôn/Moto</td>\n",
              "      <td>16.500.000đ</td>\n",
              "    </tr>\n",
              "    <tr>\n",
              "      <th>8</th>\n",
              "      <td>Honda</td>\n",
              "      <td>2020</td>\n",
              "      <td>Đãsửdụng</td>\n",
              "      <td>100-175cc</td>\n",
              "      <td>Vario</td>\n",
              "      <td>1</td>\n",
              "      <td>Tayga</td>\n",
              "      <td>40.500.000đ</td>\n",
              "    </tr>\n",
              "    <tr>\n",
              "      <th>9</th>\n",
              "      <td>Yamaha</td>\n",
              "      <td>2018</td>\n",
              "      <td>Đãsửdụng</td>\n",
              "      <td>Null</td>\n",
              "      <td>Nvx</td>\n",
              "      <td>46000</td>\n",
              "      <td>Tayga</td>\n",
              "      <td>26.000.000đ</td>\n",
              "    </tr>\n",
              "  </tbody>\n",
              "</table>\n",
              "</div>"
            ],
            "text/plain": [
              "   Hang_xe Nam_dang_ky Tinh_trang_xe Dung_tich_xe     Dong_xe So_km_da_di  \\\n",
              "0   Suzuki        1996      Đãsửdụng         Null  Sport/Xipo        1234   \n",
              "1  Piaggio        2014      Đãsửdụng    100-175cc       Vespa       11000   \n",
              "2   Yamaha        2013      Đãsửdụng    100-175cc     Exciter          25   \n",
              "3   Yamaha        2015      Đãsửdụng    100-175cc     Exciter          37   \n",
              "4    Honda        1999      Đãsửdụng    100-175cc       Dream          25   \n",
              "5    Honda        2019      Đãsửdụng    100-175cc         Cub      585869   \n",
              "6   Yamaha        2013      Đãsửdụng         Null      Sirius          30   \n",
              "7    Honda        2019      Đãsửdụng         Null      Winner        1000   \n",
              "8    Honda        2020      Đãsửdụng    100-175cc       Vario           1   \n",
              "9   Yamaha        2018      Đãsửdụng         Null         Nvx       46000   \n",
              "\n",
              "       Loai_xe       Gia_xe  \n",
              "0  Taycôn/Moto  25.500.000đ  \n",
              "1        Tayga  32.500.000đ  \n",
              "2  Taycôn/Moto  27.500.000đ  \n",
              "3         Xesố  26.500.000đ  \n",
              "4         Xesố  25.000.000đ  \n",
              "5         Xesố   3.300.000đ  \n",
              "6         Xesố   7.800.000đ  \n",
              "7  Taycôn/Moto  16.500.000đ  \n",
              "8        Tayga  40.500.000đ  \n",
              "9        Tayga  26.000.000đ  "
            ]
          },
          "execution_count": 107,
          "metadata": {},
          "output_type": "execute_result"
        }
      ],
      "source": [
        "headers = [\"Hang_xe\", \"Nam_dang_ky\", \"Tinh_trang_xe\", \n",
        "          \"Dung_tich_xe\", \"Dong_xe\", \"So_km_da_di\"\n",
        "          ,\"Loai_xe\", \"Gia_xe\"]\n",
        "\n",
        "df = pd.read_csv(PATH, names=headers)\n",
        "\n",
        "# Lấy ra 10 dòng đầu tiên của cột dữ liệu\n",
        "df.head(10)"
      ]
    },
    {
      "cell_type": "markdown",
      "metadata": {
        "id": "FZ-0T31Dl6B6"
      },
      "source": [
        "Trước tiên, ta cần phải xóa các cột có dữ liệu trùng"
      ]
    },
    {
      "cell_type": "code",
      "execution_count": 108,
      "metadata": {
        "colab": {
          "base_uri": "https://localhost:8080/"
        },
        "id": "T9El69bql2gh",
        "outputId": "b85c6a3f-60ba-41ef-c438-8b8594cc9d90"
      },
      "outputs": [
        {
          "name": "stdout",
          "output_type": "stream",
          "text": [
            "(43473, 8)\n",
            "(12484, 8)\n"
          ]
        }
      ],
      "source": [
        "# Số chiều của dữ liệu ban đầu\n",
        "print(df.shape)\n",
        "\n",
        "df = df.drop_duplicates(keep='first')\n",
        "\n",
        "# Số chiều của dữ liệu sau khi loại bỏ các dữ liệu trùng\n",
        "print(df.shape)"
      ]
    },
    {
      "cell_type": "markdown",
      "metadata": {
        "id": "Vh6W-ggTS2aL"
      },
      "source": [
        "Khi cào bộ dữ liệu này, các dữ liệu trống đang được gán giá trị là Null, tuy nhiên ta cần chuyển đổi chúng sang NaN để có thể làm việc được với thư viên pandas\n",
        "\n"
      ]
    },
    {
      "cell_type": "code",
      "execution_count": 109,
      "metadata": {
        "colab": {
          "base_uri": "https://localhost:8080/",
          "height": 363
        },
        "id": "OX3L2tXvSzaW",
        "outputId": "39786fb7-b7b5-41fd-c45c-e95729f714e6"
      },
      "outputs": [
        {
          "data": {
            "text/html": [
              "<div>\n",
              "<style scoped>\n",
              "    .dataframe tbody tr th:only-of-type {\n",
              "        vertical-align: middle;\n",
              "    }\n",
              "\n",
              "    .dataframe tbody tr th {\n",
              "        vertical-align: top;\n",
              "    }\n",
              "\n",
              "    .dataframe thead th {\n",
              "        text-align: right;\n",
              "    }\n",
              "</style>\n",
              "<table border=\"1\" class=\"dataframe\">\n",
              "  <thead>\n",
              "    <tr style=\"text-align: right;\">\n",
              "      <th></th>\n",
              "      <th>Hang_xe</th>\n",
              "      <th>Nam_dang_ky</th>\n",
              "      <th>Tinh_trang_xe</th>\n",
              "      <th>Dung_tich_xe</th>\n",
              "      <th>Dong_xe</th>\n",
              "      <th>So_km_da_di</th>\n",
              "      <th>Loai_xe</th>\n",
              "      <th>Gia_xe</th>\n",
              "    </tr>\n",
              "  </thead>\n",
              "  <tbody>\n",
              "    <tr>\n",
              "      <th>0</th>\n",
              "      <td>Suzuki</td>\n",
              "      <td>1996</td>\n",
              "      <td>Đãsửdụng</td>\n",
              "      <td>NaN</td>\n",
              "      <td>Sport/Xipo</td>\n",
              "      <td>1234</td>\n",
              "      <td>Taycôn/Moto</td>\n",
              "      <td>25.500.000đ</td>\n",
              "    </tr>\n",
              "    <tr>\n",
              "      <th>1</th>\n",
              "      <td>Piaggio</td>\n",
              "      <td>2014</td>\n",
              "      <td>Đãsửdụng</td>\n",
              "      <td>100-175cc</td>\n",
              "      <td>Vespa</td>\n",
              "      <td>11000</td>\n",
              "      <td>Tayga</td>\n",
              "      <td>32.500.000đ</td>\n",
              "    </tr>\n",
              "    <tr>\n",
              "      <th>2</th>\n",
              "      <td>Yamaha</td>\n",
              "      <td>2013</td>\n",
              "      <td>Đãsửdụng</td>\n",
              "      <td>100-175cc</td>\n",
              "      <td>Exciter</td>\n",
              "      <td>25</td>\n",
              "      <td>Taycôn/Moto</td>\n",
              "      <td>27.500.000đ</td>\n",
              "    </tr>\n",
              "    <tr>\n",
              "      <th>3</th>\n",
              "      <td>Yamaha</td>\n",
              "      <td>2015</td>\n",
              "      <td>Đãsửdụng</td>\n",
              "      <td>100-175cc</td>\n",
              "      <td>Exciter</td>\n",
              "      <td>37</td>\n",
              "      <td>Xesố</td>\n",
              "      <td>26.500.000đ</td>\n",
              "    </tr>\n",
              "    <tr>\n",
              "      <th>4</th>\n",
              "      <td>Honda</td>\n",
              "      <td>1999</td>\n",
              "      <td>Đãsửdụng</td>\n",
              "      <td>100-175cc</td>\n",
              "      <td>Dream</td>\n",
              "      <td>25</td>\n",
              "      <td>Xesố</td>\n",
              "      <td>25.000.000đ</td>\n",
              "    </tr>\n",
              "    <tr>\n",
              "      <th>5</th>\n",
              "      <td>Honda</td>\n",
              "      <td>2019</td>\n",
              "      <td>Đãsửdụng</td>\n",
              "      <td>100-175cc</td>\n",
              "      <td>Cub</td>\n",
              "      <td>585869</td>\n",
              "      <td>Xesố</td>\n",
              "      <td>3.300.000đ</td>\n",
              "    </tr>\n",
              "    <tr>\n",
              "      <th>6</th>\n",
              "      <td>Yamaha</td>\n",
              "      <td>2013</td>\n",
              "      <td>Đãsửdụng</td>\n",
              "      <td>NaN</td>\n",
              "      <td>Sirius</td>\n",
              "      <td>30</td>\n",
              "      <td>Xesố</td>\n",
              "      <td>7.800.000đ</td>\n",
              "    </tr>\n",
              "    <tr>\n",
              "      <th>7</th>\n",
              "      <td>Honda</td>\n",
              "      <td>2019</td>\n",
              "      <td>Đãsửdụng</td>\n",
              "      <td>NaN</td>\n",
              "      <td>Winner</td>\n",
              "      <td>1000</td>\n",
              "      <td>Taycôn/Moto</td>\n",
              "      <td>16.500.000đ</td>\n",
              "    </tr>\n",
              "    <tr>\n",
              "      <th>8</th>\n",
              "      <td>Honda</td>\n",
              "      <td>2020</td>\n",
              "      <td>Đãsửdụng</td>\n",
              "      <td>100-175cc</td>\n",
              "      <td>Vario</td>\n",
              "      <td>1</td>\n",
              "      <td>Tayga</td>\n",
              "      <td>40.500.000đ</td>\n",
              "    </tr>\n",
              "    <tr>\n",
              "      <th>9</th>\n",
              "      <td>Yamaha</td>\n",
              "      <td>2018</td>\n",
              "      <td>Đãsửdụng</td>\n",
              "      <td>NaN</td>\n",
              "      <td>Nvx</td>\n",
              "      <td>46000</td>\n",
              "      <td>Tayga</td>\n",
              "      <td>26.000.000đ</td>\n",
              "    </tr>\n",
              "  </tbody>\n",
              "</table>\n",
              "</div>"
            ],
            "text/plain": [
              "   Hang_xe Nam_dang_ky Tinh_trang_xe Dung_tich_xe     Dong_xe So_km_da_di  \\\n",
              "0   Suzuki        1996      Đãsửdụng          NaN  Sport/Xipo        1234   \n",
              "1  Piaggio        2014      Đãsửdụng    100-175cc       Vespa       11000   \n",
              "2   Yamaha        2013      Đãsửdụng    100-175cc     Exciter          25   \n",
              "3   Yamaha        2015      Đãsửdụng    100-175cc     Exciter          37   \n",
              "4    Honda        1999      Đãsửdụng    100-175cc       Dream          25   \n",
              "5    Honda        2019      Đãsửdụng    100-175cc         Cub      585869   \n",
              "6   Yamaha        2013      Đãsửdụng          NaN      Sirius          30   \n",
              "7    Honda        2019      Đãsửdụng          NaN      Winner        1000   \n",
              "8    Honda        2020      Đãsửdụng    100-175cc       Vario           1   \n",
              "9   Yamaha        2018      Đãsửdụng          NaN         Nvx       46000   \n",
              "\n",
              "       Loai_xe       Gia_xe  \n",
              "0  Taycôn/Moto  25.500.000đ  \n",
              "1        Tayga  32.500.000đ  \n",
              "2  Taycôn/Moto  27.500.000đ  \n",
              "3         Xesố  26.500.000đ  \n",
              "4         Xesố  25.000.000đ  \n",
              "5         Xesố   3.300.000đ  \n",
              "6         Xesố   7.800.000đ  \n",
              "7  Taycôn/Moto  16.500.000đ  \n",
              "8        Tayga  40.500.000đ  \n",
              "9        Tayga  26.000.000đ  "
            ]
          },
          "execution_count": 109,
          "metadata": {},
          "output_type": "execute_result"
        }
      ],
      "source": [
        "# Thay đổi các value từ \"Null\" sang NaN\n",
        "df = df.replace(\"Null\", np.nan)\n",
        "\n",
        "df.head(10)"
      ]
    },
    {
      "cell_type": "markdown",
      "metadata": {
        "id": "6N_-C0J_Qc9E"
      },
      "source": [
        "## 2. \"Làm sạch\" dữ liệu với cột hãng xe"
      ]
    },
    {
      "cell_type": "markdown",
      "metadata": {
        "id": "-xvru8Nq3QTF"
      },
      "source": [
        "Ta sẽ xem số loại hãng xe có trong bộ dữ liệu"
      ]
    },
    {
      "cell_type": "code",
      "execution_count": 110,
      "metadata": {
        "colab": {
          "base_uri": "https://localhost:8080/"
        },
        "id": "vDIuc1JLQsZp",
        "outputId": "ce771ff7-8915-486c-f825-de27a0b46e8e"
      },
      "outputs": [
        {
          "name": "stdout",
          "output_type": "stream",
          "text": [
            "Tổng số hãng xe: 39\n",
            "Các loại xe:\n",
            "1 Daelim\n",
            "2 Suzuki\n",
            "3 Triumph\n",
            "4 KTM\n",
            "5 Piaggio\n",
            "6 Hyosung\n",
            "7 Kymco\n",
            "8 EuroReibel\n",
            "9 Brixton\n",
            "10 Keeway\n",
            "11 Victory\n",
            "12 GPX\n",
            "13 MVAgusta\n",
            "14 RebelUSA\n",
            "15 Lambretta\n",
            "16 RegalRaptor\n",
            "17 Ducati\n",
            "18 BMW\n",
            "19 Sachs\n",
            "20 nan\n",
            "21 Yamaha\n",
            "22 Hãngkhác\n",
            "23 Bazan\n",
            "24 Sanda\n",
            "25 Detech\n",
            "26 Taya\n",
            "27 Benelli\n",
            "28 Aprilia\n",
            "29 Kawasaki\n",
            "30 Halim\n",
            "31 Kengo\n",
            "32 Peugeot\n",
            "33 SYM\n",
            "34 HarleyDavidson\n",
            "35 Visitor\n",
            "36 Nioshima\n",
            "37 Honda\n",
            "38 RoyalEnfield\n",
            "39 Vento\n"
          ]
        }
      ],
      "source": [
        "print(f'Tổng số hãng xe: {len(set(df[\"Hang_xe\"]))}')\n",
        "\n",
        "hang_xe = list(set(df[\"Hang_xe\"]))\n",
        "\n",
        "print(f'Các loại xe:')\n",
        "\n",
        "for i, xe in enumerate(hang_xe):\n",
        "    print(i + 1, xe)"
      ]
    },
    {
      "cell_type": "markdown",
      "metadata": {
        "id": "dRfMuLBARj1Z"
      },
      "source": [
        "<p> Nhận thấy, trong số các hãng xe, có xuất hiện giá trị rỗng, nên ta sẽ loại đi các hàng có hãng xe là rỗng. </p>\n",
        "\n",
        "Việc bỏ các giá trị rỗng của hãng xe là hết sức cần thiết, bởi đây có thể xem là thuộc tính rất quan trọng, cần phải có khi bán xe máy cũ"
      ]
    },
    {
      "cell_type": "code",
      "execution_count": 111,
      "metadata": {
        "colab": {
          "base_uri": "https://localhost:8080/"
        },
        "id": "QRUmRCdvRuky",
        "outputId": "c95752cc-1955-4769-fafc-c3ebecdf2aa3"
      },
      "outputs": [
        {
          "data": {
            "text/plain": [
              "(11, 8)"
            ]
          },
          "execution_count": 111,
          "metadata": {},
          "output_type": "execute_result"
        }
      ],
      "source": [
        "df[df['Hang_xe'].isnull()].shape"
      ]
    },
    {
      "cell_type": "markdown",
      "metadata": {
        "id": "eRPk-yyxUhdz"
      },
      "source": [
        "Có 11 dòng không có giá trị về hãng xe\n",
        "Rõ ràng, khi xây dựng mô hình dự đoán giá của xe máy, hãng xe là thuộc tính bắt buộc phải có, nên ta sẽ loại những hàng mà hãng xe của nó có giá trị rỗng (np.nan)"
      ]
    },
    {
      "cell_type": "code",
      "execution_count": 112,
      "metadata": {
        "colab": {
          "base_uri": "https://localhost:8080/",
          "height": 49
        },
        "id": "xkI7FWX5U0CB",
        "outputId": "c70c3a51-afe4-4ae1-fcdf-49161ed4fb1f"
      },
      "outputs": [
        {
          "data": {
            "text/html": [
              "<div>\n",
              "<style scoped>\n",
              "    .dataframe tbody tr th:only-of-type {\n",
              "        vertical-align: middle;\n",
              "    }\n",
              "\n",
              "    .dataframe tbody tr th {\n",
              "        vertical-align: top;\n",
              "    }\n",
              "\n",
              "    .dataframe thead th {\n",
              "        text-align: right;\n",
              "    }\n",
              "</style>\n",
              "<table border=\"1\" class=\"dataframe\">\n",
              "  <thead>\n",
              "    <tr style=\"text-align: right;\">\n",
              "      <th></th>\n",
              "      <th>Hang_xe</th>\n",
              "      <th>Nam_dang_ky</th>\n",
              "      <th>Tinh_trang_xe</th>\n",
              "      <th>Dung_tich_xe</th>\n",
              "      <th>Dong_xe</th>\n",
              "      <th>So_km_da_di</th>\n",
              "      <th>Loai_xe</th>\n",
              "      <th>Gia_xe</th>\n",
              "    </tr>\n",
              "  </thead>\n",
              "  <tbody>\n",
              "  </tbody>\n",
              "</table>\n",
              "</div>"
            ],
            "text/plain": [
              "Empty DataFrame\n",
              "Columns: [Hang_xe, Nam_dang_ky, Tinh_trang_xe, Dung_tich_xe, Dong_xe, So_km_da_di, Loai_xe, Gia_xe]\n",
              "Index: []"
            ]
          },
          "execution_count": 112,
          "metadata": {},
          "output_type": "execute_result"
        }
      ],
      "source": [
        "# Xóa đi những dòng mã hãng xe có giá trị rỗng\n",
        "df = df[df['Hang_xe'].notna()]\n",
        "\n",
        "# Kiểm tra xem đã xóa hết chưa\n",
        "df[df['Hang_xe'].isnull()]"
      ]
    },
    {
      "cell_type": "code",
      "execution_count": 113,
      "metadata": {
        "colab": {
          "base_uri": "https://localhost:8080/"
        },
        "id": "1FUvGa9TaDCb",
        "outputId": "c8535d2f-468b-4f6f-a889-38f55e3bed24"
      },
      "outputs": [
        {
          "data": {
            "text/plain": [
              "(12473, 8)"
            ]
          },
          "execution_count": 113,
          "metadata": {},
          "output_type": "execute_result"
        }
      ],
      "source": [
        "# Số chiều của dữ liệu sau khi đã loại bỏ các dữ liệu với giá trị rỗng của hãng xe\n",
        "\n",
        "\n",
        "df.shape    # Đã giảm đi 11 hàng"
      ]
    },
    {
      "cell_type": "markdown",
      "metadata": {
        "id": "Sg_zr7JA2s7j"
      },
      "source": [
        "Trong các giá trị của hãng xe, ta nhận thấy có giá trị \"hãngkhác\"\n",
        "Ta sẽ xem qua giá trị hãng khác"
      ]
    },
    {
      "cell_type": "code",
      "execution_count": 114,
      "metadata": {
        "colab": {
          "base_uri": "https://localhost:8080/",
          "height": 423
        },
        "id": "WlUstWF80g29",
        "outputId": "0f1b00cc-8719-4807-c15f-a78ade185cbd"
      },
      "outputs": [
        {
          "data": {
            "text/html": [
              "<div>\n",
              "<style scoped>\n",
              "    .dataframe tbody tr th:only-of-type {\n",
              "        vertical-align: middle;\n",
              "    }\n",
              "\n",
              "    .dataframe tbody tr th {\n",
              "        vertical-align: top;\n",
              "    }\n",
              "\n",
              "    .dataframe thead th {\n",
              "        text-align: right;\n",
              "    }\n",
              "</style>\n",
              "<table border=\"1\" class=\"dataframe\">\n",
              "  <thead>\n",
              "    <tr style=\"text-align: right;\">\n",
              "      <th></th>\n",
              "      <th>Hang_xe</th>\n",
              "      <th>Nam_dang_ky</th>\n",
              "      <th>Tinh_trang_xe</th>\n",
              "      <th>Dung_tich_xe</th>\n",
              "      <th>Dong_xe</th>\n",
              "      <th>So_km_da_di</th>\n",
              "      <th>Loai_xe</th>\n",
              "      <th>Gia_xe</th>\n",
              "    </tr>\n",
              "  </thead>\n",
              "  <tbody>\n",
              "    <tr>\n",
              "      <th>127</th>\n",
              "      <td>Hãngkhác</td>\n",
              "      <td>2011</td>\n",
              "      <td>Đãsửdụng</td>\n",
              "      <td>50-100cc</td>\n",
              "      <td>Dòngkhác</td>\n",
              "      <td>55</td>\n",
              "      <td>Xesố</td>\n",
              "      <td>4.500.000đ</td>\n",
              "    </tr>\n",
              "    <tr>\n",
              "      <th>185</th>\n",
              "      <td>Hãngkhác</td>\n",
              "      <td>1999</td>\n",
              "      <td>Đãsửdụng</td>\n",
              "      <td>50-100cc</td>\n",
              "      <td>Dòngkhác</td>\n",
              "      <td>12000</td>\n",
              "      <td>Xesố</td>\n",
              "      <td>11.000.000đ</td>\n",
              "    </tr>\n",
              "    <tr>\n",
              "      <th>425</th>\n",
              "      <td>Hãngkhác</td>\n",
              "      <td>2012</td>\n",
              "      <td>Đãsửdụng</td>\n",
              "      <td>100-175cc</td>\n",
              "      <td>Dòngkhác</td>\n",
              "      <td>2222</td>\n",
              "      <td>Xesố</td>\n",
              "      <td>5.900.000đ</td>\n",
              "    </tr>\n",
              "    <tr>\n",
              "      <th>581</th>\n",
              "      <td>Hãngkhác</td>\n",
              "      <td>2009</td>\n",
              "      <td>Đãsửdụng</td>\n",
              "      <td>50-100cc</td>\n",
              "      <td>Dòngkhác</td>\n",
              "      <td>25000</td>\n",
              "      <td>Xesố</td>\n",
              "      <td>5.900.000đ</td>\n",
              "    </tr>\n",
              "    <tr>\n",
              "      <th>582</th>\n",
              "      <td>Hãngkhác</td>\n",
              "      <td>2002</td>\n",
              "      <td>Đãsửdụng</td>\n",
              "      <td>NaN</td>\n",
              "      <td>Dòngkhác</td>\n",
              "      <td>10000</td>\n",
              "      <td>Tayga</td>\n",
              "      <td>1.200.000đ</td>\n",
              "    </tr>\n",
              "    <tr>\n",
              "      <th>...</th>\n",
              "      <td>...</td>\n",
              "      <td>...</td>\n",
              "      <td>...</td>\n",
              "      <td>...</td>\n",
              "      <td>...</td>\n",
              "      <td>...</td>\n",
              "      <td>...</td>\n",
              "      <td>...</td>\n",
              "    </tr>\n",
              "    <tr>\n",
              "      <th>42532</th>\n",
              "      <td>Hãngkhác</td>\n",
              "      <td>2012</td>\n",
              "      <td>Đãsửdụng</td>\n",
              "      <td>100-175cc</td>\n",
              "      <td>Dòngkhác</td>\n",
              "      <td>200000</td>\n",
              "      <td>Xesố</td>\n",
              "      <td>3.900.000đ</td>\n",
              "    </tr>\n",
              "    <tr>\n",
              "      <th>42534</th>\n",
              "      <td>Hãngkhác</td>\n",
              "      <td>2012</td>\n",
              "      <td>Đãsửdụng</td>\n",
              "      <td>Dưới50cc</td>\n",
              "      <td>Dòngkhác</td>\n",
              "      <td>99999</td>\n",
              "      <td>Xesố</td>\n",
              "      <td>2.800.000đ</td>\n",
              "    </tr>\n",
              "    <tr>\n",
              "      <th>43275</th>\n",
              "      <td>Hãngkhác</td>\n",
              "      <td>2004</td>\n",
              "      <td>Đãsửdụng</td>\n",
              "      <td>100-175cc</td>\n",
              "      <td>Dòngkhác</td>\n",
              "      <td>55555</td>\n",
              "      <td>Xesố</td>\n",
              "      <td>2.200.000đ</td>\n",
              "    </tr>\n",
              "    <tr>\n",
              "      <th>43279</th>\n",
              "      <td>Hãngkhác</td>\n",
              "      <td>2009</td>\n",
              "      <td>Đãsửdụng</td>\n",
              "      <td>100-175cc</td>\n",
              "      <td>Dòngkhác</td>\n",
              "      <td>25000</td>\n",
              "      <td>Xesố</td>\n",
              "      <td>2.900.000đ</td>\n",
              "    </tr>\n",
              "    <tr>\n",
              "      <th>43304</th>\n",
              "      <td>Hãngkhác</td>\n",
              "      <td>2008</td>\n",
              "      <td>Đãsửdụng</td>\n",
              "      <td>NaN</td>\n",
              "      <td>Dòngkhác</td>\n",
              "      <td>644646</td>\n",
              "      <td>Xesố</td>\n",
              "      <td>8.300.000đ</td>\n",
              "    </tr>\n",
              "  </tbody>\n",
              "</table>\n",
              "<p>241 rows × 8 columns</p>\n",
              "</div>"
            ],
            "text/plain": [
              "        Hang_xe Nam_dang_ky Tinh_trang_xe Dung_tich_xe   Dong_xe So_km_da_di  \\\n",
              "127    Hãngkhác        2011      Đãsửdụng     50-100cc  Dòngkhác          55   \n",
              "185    Hãngkhác        1999      Đãsửdụng     50-100cc  Dòngkhác       12000   \n",
              "425    Hãngkhác        2012      Đãsửdụng    100-175cc  Dòngkhác        2222   \n",
              "581    Hãngkhác        2009      Đãsửdụng     50-100cc  Dòngkhác       25000   \n",
              "582    Hãngkhác        2002      Đãsửdụng          NaN  Dòngkhác       10000   \n",
              "...         ...         ...           ...          ...       ...         ...   \n",
              "42532  Hãngkhác        2012      Đãsửdụng    100-175cc  Dòngkhác      200000   \n",
              "42534  Hãngkhác        2012      Đãsửdụng     Dưới50cc  Dòngkhác       99999   \n",
              "43275  Hãngkhác        2004      Đãsửdụng    100-175cc  Dòngkhác       55555   \n",
              "43279  Hãngkhác        2009      Đãsửdụng    100-175cc  Dòngkhác       25000   \n",
              "43304  Hãngkhác        2008      Đãsửdụng          NaN  Dòngkhác      644646   \n",
              "\n",
              "      Loai_xe       Gia_xe  \n",
              "127      Xesố   4.500.000đ  \n",
              "185      Xesố  11.000.000đ  \n",
              "425      Xesố   5.900.000đ  \n",
              "581      Xesố   5.900.000đ  \n",
              "582     Tayga   1.200.000đ  \n",
              "...       ...          ...  \n",
              "42532    Xesố   3.900.000đ  \n",
              "42534    Xesố   2.800.000đ  \n",
              "43275    Xesố   2.200.000đ  \n",
              "43279    Xesố   2.900.000đ  \n",
              "43304    Xesố   8.300.000đ  \n",
              "\n",
              "[241 rows x 8 columns]"
            ]
          },
          "execution_count": 114,
          "metadata": {},
          "output_type": "execute_result"
        }
      ],
      "source": [
        "df[df[\"Hang_xe\"] == \"Hãngkhác\"]"
      ]
    },
    {
      "cell_type": "markdown",
      "metadata": {
        "id": "xdU-SNsu2-19"
      },
      "source": [
        "Các giá trị hãng xe khác đều có dòng không rõ, giá trị dao động của chúng có thể tùy thuộc vào các trường dữ liệu khác, và cũng chiếm một số lượng đáng kể, do đó ta sẽ không loại bỏ chúng, mà chỉ thay thế lại tên thành \"Hãng khác\""
      ]
    },
    {
      "cell_type": "code",
      "execution_count": 115,
      "metadata": {
        "id": "IdvmAxsi33Eu"
      },
      "outputs": [],
      "source": [
        "df['Hang_xe'] = df['Hang_xe'].replace([\"Hãngkhác\"], \"Hãng khác\")"
      ]
    },
    {
      "cell_type": "markdown",
      "metadata": {
        "id": "0NBCtpIaaZ32"
      },
      "source": [
        "## 3. \"Làm sạch\" dữ liệu với cột năm đăng ký\n",
        "\n",
        "<p>\n",
        "Với cột năm đăng ký xe, ta có thể tạo thêm một cột mới chứa thông tin về tuổi của xe tính đến thời điểm hiện tại bằng cách lấy năm hiện tại (2023) trừ đi năm đăng ký xe\n",
        "\n",
        "---\n",
        "\n",
        "\n",
        "</p>"
      ]
    },
    {
      "cell_type": "markdown",
      "metadata": {
        "id": "79iYP44ybr44"
      },
      "source": [
        "Nhưng trước đó, ta sẽ kiểm tra dữ liệu của cột năm đăng ký xe\n",
        "\n"
      ]
    },
    {
      "cell_type": "code",
      "execution_count": 116,
      "metadata": {
        "colab": {
          "base_uri": "https://localhost:8080/"
        },
        "id": "S3v0XWahbphd",
        "outputId": "3005ebe5-f3af-4bf8-8478-1b9fe83aa525"
      },
      "outputs": [
        {
          "name": "stdout",
          "output_type": "stream",
          "text": [
            "Các năm đăng ký: \n",
            "1. 1987\n",
            "2. 1994\n",
            "3. 2015\n",
            "4. 2016\n",
            "5. 2008\n",
            "6. 2000\n",
            "7. 1997\n",
            "8. 2022\n",
            "9. 2010\n",
            "10. 1992\n",
            "11. 2011\n",
            "12. 1983\n",
            "13. 1986\n",
            "14. 2014\n",
            "15. 1990\n",
            "16. 2018\n",
            "17. 1993\n",
            "18. 2019\n",
            "19. 2001\n",
            "20. 2013\n",
            "21. 2002\n",
            "22. 1982\n",
            "23. 1996\n",
            "24. 2004\n",
            "25. 1999\n",
            "26. 1981\n",
            "27. 2020\n",
            "28. 2007\n",
            "29. 1989\n",
            "30. 1995\n",
            "31. 2006\n",
            "32. 1988\n",
            "33. 1984\n",
            "34. 2009\n",
            "35. 2012\n",
            "36. 2003\n",
            "37. 2021\n",
            "38. 1991\n",
            "39. 2005\n",
            "40. trướcnăm1980\n",
            "41. 2017\n",
            "42. 1985\n",
            "43. 1998\n"
          ]
        }
      ],
      "source": [
        "print(\"Các năm đăng ký: \")\n",
        "\n",
        "years = list(set(df['Nam_dang_ky']))\n",
        "\n",
        "for i, year in enumerate(years):\n",
        "    print(f'{i + 1}. {year}')"
      ]
    },
    {
      "cell_type": "markdown",
      "metadata": {
        "id": "eHVHJbeHcfM1"
      },
      "source": [
        "Để quy về tuổi của xe, ca cần chuyển kiểu dữ liệu của cột năm đăng ký xe về kiểu dữ liệu số nguyên int, do đó, ta cần chuẩn hóa dữ liệu 'trướcnăm1980' về thành 1980"
      ]
    },
    {
      "cell_type": "code",
      "execution_count": 117,
      "metadata": {
        "colab": {
          "base_uri": "https://localhost:8080/"
        },
        "id": "rP71yw4rc7fP",
        "outputId": "bf4daa77-cf70-46c9-d75f-079f4a183668"
      },
      "outputs": [
        {
          "name": "stdout",
          "output_type": "stream",
          "text": [
            "1. 1987\n",
            "2. 1994\n",
            "3. 2015\n",
            "4. 2016\n",
            "5. 2008\n",
            "6. 2000\n",
            "7. 1980\n",
            "8. 1997\n",
            "9. 2022\n",
            "10. 2010\n",
            "11. 1992\n",
            "12. 2011\n",
            "13. 1983\n",
            "14. 1986\n",
            "15. 2014\n",
            "16. 1990\n",
            "17. 2018\n",
            "18. 1993\n",
            "19. 2019\n",
            "20. 2001\n",
            "21. 2013\n",
            "22. 2002\n",
            "23. 1982\n",
            "24. 1996\n",
            "25. 2004\n",
            "26. 1999\n",
            "27. 1981\n",
            "28. 2020\n",
            "29. 2007\n",
            "30. 1989\n",
            "31. 1995\n",
            "32. 2006\n",
            "33. 1988\n",
            "34. 1984\n",
            "35. 2009\n",
            "36. 2012\n",
            "37. 2003\n",
            "38. 2021\n",
            "39. 1991\n",
            "40. 2005\n",
            "41. 2017\n",
            "42. 1985\n",
            "43. 1998\n"
          ]
        }
      ],
      "source": [
        "df['Nam_dang_ky'] = df['Nam_dang_ky'].replace(['trướcnăm1980'], '1980')\n",
        "\n",
        "\n",
        "years = list(set(df['Nam_dang_ky']))\n",
        "\n",
        "for i, year in enumerate(years):\n",
        "    print(f'{i + 1}. {year}')"
      ]
    },
    {
      "cell_type": "markdown",
      "metadata": {
        "id": "ZGfwmp_2dnED"
      },
      "source": [
        "Bây giờ, ta sẽ thêm cột tuổi của xe vào ngay sau cột năm đăng ký"
      ]
    },
    {
      "cell_type": "code",
      "execution_count": 118,
      "metadata": {
        "colab": {
          "base_uri": "https://localhost:8080/",
          "height": 427
        },
        "id": "utQEH1mAdxxT",
        "outputId": "a0178846-d61d-4dc5-b568-697f808c750f"
      },
      "outputs": [
        {
          "data": {
            "text/html": [
              "<div>\n",
              "<style scoped>\n",
              "    .dataframe tbody tr th:only-of-type {\n",
              "        vertical-align: middle;\n",
              "    }\n",
              "\n",
              "    .dataframe tbody tr th {\n",
              "        vertical-align: top;\n",
              "    }\n",
              "\n",
              "    .dataframe thead th {\n",
              "        text-align: right;\n",
              "    }\n",
              "</style>\n",
              "<table border=\"1\" class=\"dataframe\">\n",
              "  <thead>\n",
              "    <tr style=\"text-align: right;\">\n",
              "      <th></th>\n",
              "      <th>Hang_xe</th>\n",
              "      <th>Tuoi_xe</th>\n",
              "      <th>Nam_dang_ky</th>\n",
              "      <th>Tinh_trang_xe</th>\n",
              "      <th>Dung_tich_xe</th>\n",
              "      <th>Dong_xe</th>\n",
              "      <th>So_km_da_di</th>\n",
              "      <th>Loai_xe</th>\n",
              "      <th>Gia_xe</th>\n",
              "    </tr>\n",
              "  </thead>\n",
              "  <tbody>\n",
              "    <tr>\n",
              "      <th>0</th>\n",
              "      <td>Suzuki</td>\n",
              "      <td>27</td>\n",
              "      <td>1996</td>\n",
              "      <td>Đãsửdụng</td>\n",
              "      <td>NaN</td>\n",
              "      <td>Sport/Xipo</td>\n",
              "      <td>1234</td>\n",
              "      <td>Taycôn/Moto</td>\n",
              "      <td>25.500.000đ</td>\n",
              "    </tr>\n",
              "    <tr>\n",
              "      <th>1</th>\n",
              "      <td>Piaggio</td>\n",
              "      <td>9</td>\n",
              "      <td>2014</td>\n",
              "      <td>Đãsửdụng</td>\n",
              "      <td>100-175cc</td>\n",
              "      <td>Vespa</td>\n",
              "      <td>11000</td>\n",
              "      <td>Tayga</td>\n",
              "      <td>32.500.000đ</td>\n",
              "    </tr>\n",
              "    <tr>\n",
              "      <th>2</th>\n",
              "      <td>Yamaha</td>\n",
              "      <td>10</td>\n",
              "      <td>2013</td>\n",
              "      <td>Đãsửdụng</td>\n",
              "      <td>100-175cc</td>\n",
              "      <td>Exciter</td>\n",
              "      <td>25</td>\n",
              "      <td>Taycôn/Moto</td>\n",
              "      <td>27.500.000đ</td>\n",
              "    </tr>\n",
              "    <tr>\n",
              "      <th>3</th>\n",
              "      <td>Yamaha</td>\n",
              "      <td>8</td>\n",
              "      <td>2015</td>\n",
              "      <td>Đãsửdụng</td>\n",
              "      <td>100-175cc</td>\n",
              "      <td>Exciter</td>\n",
              "      <td>37</td>\n",
              "      <td>Xesố</td>\n",
              "      <td>26.500.000đ</td>\n",
              "    </tr>\n",
              "    <tr>\n",
              "      <th>4</th>\n",
              "      <td>Honda</td>\n",
              "      <td>24</td>\n",
              "      <td>1999</td>\n",
              "      <td>Đãsửdụng</td>\n",
              "      <td>100-175cc</td>\n",
              "      <td>Dream</td>\n",
              "      <td>25</td>\n",
              "      <td>Xesố</td>\n",
              "      <td>25.000.000đ</td>\n",
              "    </tr>\n",
              "    <tr>\n",
              "      <th>5</th>\n",
              "      <td>Honda</td>\n",
              "      <td>4</td>\n",
              "      <td>2019</td>\n",
              "      <td>Đãsửdụng</td>\n",
              "      <td>100-175cc</td>\n",
              "      <td>Cub</td>\n",
              "      <td>585869</td>\n",
              "      <td>Xesố</td>\n",
              "      <td>3.300.000đ</td>\n",
              "    </tr>\n",
              "    <tr>\n",
              "      <th>6</th>\n",
              "      <td>Yamaha</td>\n",
              "      <td>10</td>\n",
              "      <td>2013</td>\n",
              "      <td>Đãsửdụng</td>\n",
              "      <td>NaN</td>\n",
              "      <td>Sirius</td>\n",
              "      <td>30</td>\n",
              "      <td>Xesố</td>\n",
              "      <td>7.800.000đ</td>\n",
              "    </tr>\n",
              "    <tr>\n",
              "      <th>7</th>\n",
              "      <td>Honda</td>\n",
              "      <td>4</td>\n",
              "      <td>2019</td>\n",
              "      <td>Đãsửdụng</td>\n",
              "      <td>NaN</td>\n",
              "      <td>Winner</td>\n",
              "      <td>1000</td>\n",
              "      <td>Taycôn/Moto</td>\n",
              "      <td>16.500.000đ</td>\n",
              "    </tr>\n",
              "    <tr>\n",
              "      <th>8</th>\n",
              "      <td>Honda</td>\n",
              "      <td>3</td>\n",
              "      <td>2020</td>\n",
              "      <td>Đãsửdụng</td>\n",
              "      <td>100-175cc</td>\n",
              "      <td>Vario</td>\n",
              "      <td>1</td>\n",
              "      <td>Tayga</td>\n",
              "      <td>40.500.000đ</td>\n",
              "    </tr>\n",
              "    <tr>\n",
              "      <th>9</th>\n",
              "      <td>Yamaha</td>\n",
              "      <td>5</td>\n",
              "      <td>2018</td>\n",
              "      <td>Đãsửdụng</td>\n",
              "      <td>NaN</td>\n",
              "      <td>Nvx</td>\n",
              "      <td>46000</td>\n",
              "      <td>Tayga</td>\n",
              "      <td>26.000.000đ</td>\n",
              "    </tr>\n",
              "  </tbody>\n",
              "</table>\n",
              "</div>"
            ],
            "text/plain": [
              "   Hang_xe  Tuoi_xe  Nam_dang_ky Tinh_trang_xe Dung_tich_xe     Dong_xe  \\\n",
              "0   Suzuki       27         1996      Đãsửdụng          NaN  Sport/Xipo   \n",
              "1  Piaggio        9         2014      Đãsửdụng    100-175cc       Vespa   \n",
              "2   Yamaha       10         2013      Đãsửdụng    100-175cc     Exciter   \n",
              "3   Yamaha        8         2015      Đãsửdụng    100-175cc     Exciter   \n",
              "4    Honda       24         1999      Đãsửdụng    100-175cc       Dream   \n",
              "5    Honda        4         2019      Đãsửdụng    100-175cc         Cub   \n",
              "6   Yamaha       10         2013      Đãsửdụng          NaN      Sirius   \n",
              "7    Honda        4         2019      Đãsửdụng          NaN      Winner   \n",
              "8    Honda        3         2020      Đãsửdụng    100-175cc       Vario   \n",
              "9   Yamaha        5         2018      Đãsửdụng          NaN         Nvx   \n",
              "\n",
              "  So_km_da_di      Loai_xe       Gia_xe  \n",
              "0        1234  Taycôn/Moto  25.500.000đ  \n",
              "1       11000        Tayga  32.500.000đ  \n",
              "2          25  Taycôn/Moto  27.500.000đ  \n",
              "3          37         Xesố  26.500.000đ  \n",
              "4          25         Xesố  25.000.000đ  \n",
              "5      585869         Xesố   3.300.000đ  \n",
              "6          30         Xesố   7.800.000đ  \n",
              "7        1000  Taycôn/Moto  16.500.000đ  \n",
              "8           1        Tayga  40.500.000đ  \n",
              "9       46000        Tayga  26.000.000đ  "
            ]
          },
          "execution_count": 118,
          "metadata": {},
          "output_type": "execute_result"
        }
      ],
      "source": [
        "THIS_YEAR = 2023\n",
        "\n",
        "df[\"Nam_dang_ky\"] = df[\"Nam_dang_ky\"].astype(int)\n",
        "\n",
        "df.insert(1,'Tuoi_xe', THIS_YEAR - df[\"Nam_dang_ky\"])\n",
        "df.head(10)"
      ]
    },
    {
      "cell_type": "markdown",
      "metadata": {
        "id": "byLa2y86eme_"
      },
      "source": [
        "## 4. \"Làm sạch\" dữ liệu với cột tình trạng xe\n"
      ]
    },
    {
      "cell_type": "markdown",
      "metadata": {
        "id": "jRsGZ8LNeqQh"
      },
      "source": [
        "Trước tiên, ta sẽ xem xem cột tình trạng xe có bao nhiêu loại dữ liệu"
      ]
    },
    {
      "cell_type": "code",
      "execution_count": 119,
      "metadata": {
        "colab": {
          "base_uri": "https://localhost:8080/"
        },
        "id": "L8toKpExeoNK",
        "outputId": "07da2527-cd41-4654-f1d7-413b2c61c624"
      },
      "outputs": [
        {
          "data": {
            "text/plain": [
              "Đãsửdụng    12378\n",
              "Mới            95\n",
              "Name: Tinh_trang_xe, dtype: int64"
            ]
          },
          "execution_count": 119,
          "metadata": {},
          "output_type": "execute_result"
        }
      ],
      "source": [
        "df[\"Tinh_trang_xe\"].value_counts()"
      ]
    },
    {
      "cell_type": "markdown",
      "metadata": {
        "id": "q_LhOVdUsntO"
      },
      "source": [
        "Ta sẽ xem qua về các dữ liệu những xe có tình trạng sử dụng là mới"
      ]
    },
    {
      "cell_type": "code",
      "execution_count": 120,
      "metadata": {
        "colab": {
          "base_uri": "https://localhost:8080/",
          "height": 487
        },
        "id": "Iya-2NFIfZad",
        "outputId": "6b60049a-8b21-4f54-b881-a13836a73478"
      },
      "outputs": [
        {
          "data": {
            "text/html": [
              "<div>\n",
              "<style scoped>\n",
              "    .dataframe tbody tr th:only-of-type {\n",
              "        vertical-align: middle;\n",
              "    }\n",
              "\n",
              "    .dataframe tbody tr th {\n",
              "        vertical-align: top;\n",
              "    }\n",
              "\n",
              "    .dataframe thead th {\n",
              "        text-align: right;\n",
              "    }\n",
              "</style>\n",
              "<table border=\"1\" class=\"dataframe\">\n",
              "  <thead>\n",
              "    <tr style=\"text-align: right;\">\n",
              "      <th></th>\n",
              "      <th>Hang_xe</th>\n",
              "      <th>Tuoi_xe</th>\n",
              "      <th>Nam_dang_ky</th>\n",
              "      <th>Tinh_trang_xe</th>\n",
              "      <th>Dung_tich_xe</th>\n",
              "      <th>Dong_xe</th>\n",
              "      <th>So_km_da_di</th>\n",
              "      <th>Loai_xe</th>\n",
              "      <th>Gia_xe</th>\n",
              "    </tr>\n",
              "  </thead>\n",
              "  <tbody>\n",
              "    <tr>\n",
              "      <th>529</th>\n",
              "      <td>Honda</td>\n",
              "      <td>1</td>\n",
              "      <td>2022</td>\n",
              "      <td>Mới</td>\n",
              "      <td>100-175cc</td>\n",
              "      <td>Vision</td>\n",
              "      <td>NaN</td>\n",
              "      <td>Tayga</td>\n",
              "      <td>29.900.000đ</td>\n",
              "    </tr>\n",
              "    <tr>\n",
              "      <th>728</th>\n",
              "      <td>Honda</td>\n",
              "      <td>1</td>\n",
              "      <td>2022</td>\n",
              "      <td>Mới</td>\n",
              "      <td>100-175cc</td>\n",
              "      <td>AirBlade</td>\n",
              "      <td>NaN</td>\n",
              "      <td>Tayga</td>\n",
              "      <td>47.000.000đ</td>\n",
              "    </tr>\n",
              "    <tr>\n",
              "      <th>2628</th>\n",
              "      <td>Honda</td>\n",
              "      <td>1</td>\n",
              "      <td>2022</td>\n",
              "      <td>Mới</td>\n",
              "      <td>100-175cc</td>\n",
              "      <td>AirBlade</td>\n",
              "      <td>NaN</td>\n",
              "      <td>Tayga</td>\n",
              "      <td>41.700.000đ</td>\n",
              "    </tr>\n",
              "    <tr>\n",
              "      <th>5381</th>\n",
              "      <td>Yamaha</td>\n",
              "      <td>13</td>\n",
              "      <td>2010</td>\n",
              "      <td>Mới</td>\n",
              "      <td>Trên175cc</td>\n",
              "      <td>Nouvo</td>\n",
              "      <td>NaN</td>\n",
              "      <td>Tayga</td>\n",
              "      <td>6.500.000đ</td>\n",
              "    </tr>\n",
              "    <tr>\n",
              "      <th>8582</th>\n",
              "      <td>Honda</td>\n",
              "      <td>1</td>\n",
              "      <td>2022</td>\n",
              "      <td>Mới</td>\n",
              "      <td>NaN</td>\n",
              "      <td>Vision</td>\n",
              "      <td>NaN</td>\n",
              "      <td>Tayga</td>\n",
              "      <td>4.999.999đ</td>\n",
              "    </tr>\n",
              "    <tr>\n",
              "      <th>...</th>\n",
              "      <td>...</td>\n",
              "      <td>...</td>\n",
              "      <td>...</td>\n",
              "      <td>...</td>\n",
              "      <td>...</td>\n",
              "      <td>...</td>\n",
              "      <td>...</td>\n",
              "      <td>...</td>\n",
              "      <td>...</td>\n",
              "    </tr>\n",
              "    <tr>\n",
              "      <th>41623</th>\n",
              "      <td>Yamaha</td>\n",
              "      <td>1</td>\n",
              "      <td>2022</td>\n",
              "      <td>Mới</td>\n",
              "      <td>NaN</td>\n",
              "      <td>Mio</td>\n",
              "      <td>NaN</td>\n",
              "      <td>Tayga</td>\n",
              "      <td>2.000.000đ</td>\n",
              "    </tr>\n",
              "    <tr>\n",
              "      <th>41681</th>\n",
              "      <td>Honda</td>\n",
              "      <td>1</td>\n",
              "      <td>2022</td>\n",
              "      <td>Mới</td>\n",
              "      <td>NaN</td>\n",
              "      <td>Winner</td>\n",
              "      <td>NaN</td>\n",
              "      <td>Taycôn/Moto</td>\n",
              "      <td>38.000.000đ</td>\n",
              "    </tr>\n",
              "    <tr>\n",
              "      <th>42604</th>\n",
              "      <td>Honda</td>\n",
              "      <td>6</td>\n",
              "      <td>2017</td>\n",
              "      <td>Mới</td>\n",
              "      <td>100-175cc</td>\n",
              "      <td>Winner</td>\n",
              "      <td>NaN</td>\n",
              "      <td>Taycôn/Moto</td>\n",
              "      <td>22.000.000đ</td>\n",
              "    </tr>\n",
              "    <tr>\n",
              "      <th>42658</th>\n",
              "      <td>Honda</td>\n",
              "      <td>2</td>\n",
              "      <td>2021</td>\n",
              "      <td>Mới</td>\n",
              "      <td>NaN</td>\n",
              "      <td>Vario</td>\n",
              "      <td>NaN</td>\n",
              "      <td>Tayga</td>\n",
              "      <td>38.000.000đ</td>\n",
              "    </tr>\n",
              "    <tr>\n",
              "      <th>42932</th>\n",
              "      <td>Honda</td>\n",
              "      <td>1</td>\n",
              "      <td>2022</td>\n",
              "      <td>Mới</td>\n",
              "      <td>100-175cc</td>\n",
              "      <td>AirBlade</td>\n",
              "      <td>NaN</td>\n",
              "      <td>Tayga</td>\n",
              "      <td>53.200.000đ</td>\n",
              "    </tr>\n",
              "  </tbody>\n",
              "</table>\n",
              "<p>95 rows × 9 columns</p>\n",
              "</div>"
            ],
            "text/plain": [
              "      Hang_xe  Tuoi_xe  Nam_dang_ky Tinh_trang_xe Dung_tich_xe   Dong_xe  \\\n",
              "529     Honda        1         2022           Mới    100-175cc    Vision   \n",
              "728     Honda        1         2022           Mới    100-175cc  AirBlade   \n",
              "2628    Honda        1         2022           Mới    100-175cc  AirBlade   \n",
              "5381   Yamaha       13         2010           Mới    Trên175cc     Nouvo   \n",
              "8582    Honda        1         2022           Mới          NaN    Vision   \n",
              "...       ...      ...          ...           ...          ...       ...   \n",
              "41623  Yamaha        1         2022           Mới          NaN       Mio   \n",
              "41681   Honda        1         2022           Mới          NaN    Winner   \n",
              "42604   Honda        6         2017           Mới    100-175cc    Winner   \n",
              "42658   Honda        2         2021           Mới          NaN     Vario   \n",
              "42932   Honda        1         2022           Mới    100-175cc  AirBlade   \n",
              "\n",
              "      So_km_da_di      Loai_xe       Gia_xe  \n",
              "529           NaN        Tayga  29.900.000đ  \n",
              "728           NaN        Tayga  47.000.000đ  \n",
              "2628          NaN        Tayga  41.700.000đ  \n",
              "5381          NaN        Tayga   6.500.000đ  \n",
              "8582          NaN        Tayga   4.999.999đ  \n",
              "...           ...          ...          ...  \n",
              "41623         NaN        Tayga   2.000.000đ  \n",
              "41681         NaN  Taycôn/Moto  38.000.000đ  \n",
              "42604         NaN  Taycôn/Moto  22.000.000đ  \n",
              "42658         NaN        Tayga  38.000.000đ  \n",
              "42932         NaN        Tayga  53.200.000đ  \n",
              "\n",
              "[95 rows x 9 columns]"
            ]
          },
          "execution_count": 120,
          "metadata": {},
          "output_type": "execute_result"
        }
      ],
      "source": [
        "df[df[\"Tinh_trang_xe\"].apply(lambda x : \"Mới\" in x)]"
      ]
    },
    {
      "cell_type": "markdown",
      "metadata": {
        "id": "CSnCDGarszfx"
      },
      "source": [
        "Ta sẽ thay thế số km đã đi được của các xe này về thành 0"
      ]
    },
    {
      "cell_type": "code",
      "execution_count": 121,
      "metadata": {
        "id": "OQmgV3O_s5tb"
      },
      "outputs": [],
      "source": [
        "df['So_km_da_di'] = np.where(df['Tinh_trang_xe'].apply(lambda x: \"Mới\" in x)\\\n",
        "                             , 0, df['So_km_da_di'])\n",
        "\n",
        "\n",
        "# Ta có thể chạy lại câu lệnh phía trên câu lệnh này một lần nữa để xem sự thay đổi."
      ]
    },
    {
      "cell_type": "markdown",
      "metadata": {
        "id": "LBIz-dcOirZq"
      },
      "source": [
        "Ta sẽ thay đổi dữ liệu từ 'Đãsửdụng' về thành 'Đã sử dụng'"
      ]
    },
    {
      "cell_type": "code",
      "execution_count": 122,
      "metadata": {
        "colab": {
          "base_uri": "https://localhost:8080/",
          "height": 427
        },
        "id": "Atq2dzAYhoDL",
        "outputId": "2800996b-b203-4151-cfe4-11f5fbb98833"
      },
      "outputs": [
        {
          "data": {
            "text/html": [
              "<div>\n",
              "<style scoped>\n",
              "    .dataframe tbody tr th:only-of-type {\n",
              "        vertical-align: middle;\n",
              "    }\n",
              "\n",
              "    .dataframe tbody tr th {\n",
              "        vertical-align: top;\n",
              "    }\n",
              "\n",
              "    .dataframe thead th {\n",
              "        text-align: right;\n",
              "    }\n",
              "</style>\n",
              "<table border=\"1\" class=\"dataframe\">\n",
              "  <thead>\n",
              "    <tr style=\"text-align: right;\">\n",
              "      <th></th>\n",
              "      <th>Hang_xe</th>\n",
              "      <th>Tuoi_xe</th>\n",
              "      <th>Nam_dang_ky</th>\n",
              "      <th>Tinh_trang_xe</th>\n",
              "      <th>Dung_tich_xe</th>\n",
              "      <th>Dong_xe</th>\n",
              "      <th>So_km_da_di</th>\n",
              "      <th>Loai_xe</th>\n",
              "      <th>Gia_xe</th>\n",
              "    </tr>\n",
              "  </thead>\n",
              "  <tbody>\n",
              "    <tr>\n",
              "      <th>0</th>\n",
              "      <td>Suzuki</td>\n",
              "      <td>27</td>\n",
              "      <td>1996</td>\n",
              "      <td>Đã sử dụng</td>\n",
              "      <td>NaN</td>\n",
              "      <td>Sport/Xipo</td>\n",
              "      <td>1234</td>\n",
              "      <td>Taycôn/Moto</td>\n",
              "      <td>25.500.000đ</td>\n",
              "    </tr>\n",
              "    <tr>\n",
              "      <th>1</th>\n",
              "      <td>Piaggio</td>\n",
              "      <td>9</td>\n",
              "      <td>2014</td>\n",
              "      <td>Đã sử dụng</td>\n",
              "      <td>100-175cc</td>\n",
              "      <td>Vespa</td>\n",
              "      <td>11000</td>\n",
              "      <td>Tayga</td>\n",
              "      <td>32.500.000đ</td>\n",
              "    </tr>\n",
              "    <tr>\n",
              "      <th>2</th>\n",
              "      <td>Yamaha</td>\n",
              "      <td>10</td>\n",
              "      <td>2013</td>\n",
              "      <td>Đã sử dụng</td>\n",
              "      <td>100-175cc</td>\n",
              "      <td>Exciter</td>\n",
              "      <td>25</td>\n",
              "      <td>Taycôn/Moto</td>\n",
              "      <td>27.500.000đ</td>\n",
              "    </tr>\n",
              "    <tr>\n",
              "      <th>3</th>\n",
              "      <td>Yamaha</td>\n",
              "      <td>8</td>\n",
              "      <td>2015</td>\n",
              "      <td>Đã sử dụng</td>\n",
              "      <td>100-175cc</td>\n",
              "      <td>Exciter</td>\n",
              "      <td>37</td>\n",
              "      <td>Xesố</td>\n",
              "      <td>26.500.000đ</td>\n",
              "    </tr>\n",
              "    <tr>\n",
              "      <th>4</th>\n",
              "      <td>Honda</td>\n",
              "      <td>24</td>\n",
              "      <td>1999</td>\n",
              "      <td>Đã sử dụng</td>\n",
              "      <td>100-175cc</td>\n",
              "      <td>Dream</td>\n",
              "      <td>25</td>\n",
              "      <td>Xesố</td>\n",
              "      <td>25.000.000đ</td>\n",
              "    </tr>\n",
              "    <tr>\n",
              "      <th>5</th>\n",
              "      <td>Honda</td>\n",
              "      <td>4</td>\n",
              "      <td>2019</td>\n",
              "      <td>Đã sử dụng</td>\n",
              "      <td>100-175cc</td>\n",
              "      <td>Cub</td>\n",
              "      <td>585869</td>\n",
              "      <td>Xesố</td>\n",
              "      <td>3.300.000đ</td>\n",
              "    </tr>\n",
              "    <tr>\n",
              "      <th>6</th>\n",
              "      <td>Yamaha</td>\n",
              "      <td>10</td>\n",
              "      <td>2013</td>\n",
              "      <td>Đã sử dụng</td>\n",
              "      <td>NaN</td>\n",
              "      <td>Sirius</td>\n",
              "      <td>30</td>\n",
              "      <td>Xesố</td>\n",
              "      <td>7.800.000đ</td>\n",
              "    </tr>\n",
              "    <tr>\n",
              "      <th>7</th>\n",
              "      <td>Honda</td>\n",
              "      <td>4</td>\n",
              "      <td>2019</td>\n",
              "      <td>Đã sử dụng</td>\n",
              "      <td>NaN</td>\n",
              "      <td>Winner</td>\n",
              "      <td>1000</td>\n",
              "      <td>Taycôn/Moto</td>\n",
              "      <td>16.500.000đ</td>\n",
              "    </tr>\n",
              "    <tr>\n",
              "      <th>8</th>\n",
              "      <td>Honda</td>\n",
              "      <td>3</td>\n",
              "      <td>2020</td>\n",
              "      <td>Đã sử dụng</td>\n",
              "      <td>100-175cc</td>\n",
              "      <td>Vario</td>\n",
              "      <td>1</td>\n",
              "      <td>Tayga</td>\n",
              "      <td>40.500.000đ</td>\n",
              "    </tr>\n",
              "    <tr>\n",
              "      <th>9</th>\n",
              "      <td>Yamaha</td>\n",
              "      <td>5</td>\n",
              "      <td>2018</td>\n",
              "      <td>Đã sử dụng</td>\n",
              "      <td>NaN</td>\n",
              "      <td>Nvx</td>\n",
              "      <td>46000</td>\n",
              "      <td>Tayga</td>\n",
              "      <td>26.000.000đ</td>\n",
              "    </tr>\n",
              "  </tbody>\n",
              "</table>\n",
              "</div>"
            ],
            "text/plain": [
              "   Hang_xe  Tuoi_xe  Nam_dang_ky Tinh_trang_xe Dung_tich_xe     Dong_xe  \\\n",
              "0   Suzuki       27         1996    Đã sử dụng          NaN  Sport/Xipo   \n",
              "1  Piaggio        9         2014    Đã sử dụng    100-175cc       Vespa   \n",
              "2   Yamaha       10         2013    Đã sử dụng    100-175cc     Exciter   \n",
              "3   Yamaha        8         2015    Đã sử dụng    100-175cc     Exciter   \n",
              "4    Honda       24         1999    Đã sử dụng    100-175cc       Dream   \n",
              "5    Honda        4         2019    Đã sử dụng    100-175cc         Cub   \n",
              "6   Yamaha       10         2013    Đã sử dụng          NaN      Sirius   \n",
              "7    Honda        4         2019    Đã sử dụng          NaN      Winner   \n",
              "8    Honda        3         2020    Đã sử dụng    100-175cc       Vario   \n",
              "9   Yamaha        5         2018    Đã sử dụng          NaN         Nvx   \n",
              "\n",
              "  So_km_da_di      Loai_xe       Gia_xe  \n",
              "0        1234  Taycôn/Moto  25.500.000đ  \n",
              "1       11000        Tayga  32.500.000đ  \n",
              "2          25  Taycôn/Moto  27.500.000đ  \n",
              "3          37         Xesố  26.500.000đ  \n",
              "4          25         Xesố  25.000.000đ  \n",
              "5      585869         Xesố   3.300.000đ  \n",
              "6          30         Xesố   7.800.000đ  \n",
              "7        1000  Taycôn/Moto  16.500.000đ  \n",
              "8           1        Tayga  40.500.000đ  \n",
              "9       46000        Tayga  26.000.000đ  "
            ]
          },
          "execution_count": 122,
          "metadata": {},
          "output_type": "execute_result"
        }
      ],
      "source": [
        "df['Tinh_trang_xe'] = df['Tinh_trang_xe'].replace(['Đãsửdụng' ], 'Đã sử dụng')\n",
        "df.head(10)"
      ]
    },
    {
      "cell_type": "markdown",
      "metadata": {
        "id": "CtqPGPGuj0wn"
      },
      "source": [
        "## 5. \"Làm sạch\" dữ liệu với cột dung tích xe\n",
        "\n",
        "\n",
        "Tương tự như tình trạng xe, trước tiên, ta cũng sẽ xem xem cột dung tích xe có bao nhiêu loại dữ liệu\n"
      ]
    },
    {
      "cell_type": "code",
      "execution_count": 123,
      "metadata": {
        "colab": {
          "base_uri": "https://localhost:8080/"
        },
        "id": "B_IgtJr5jq_Q",
        "outputId": "8baf6537-1f1e-4218-cc34-63a10aa9bfb0"
      },
      "outputs": [
        {
          "name": "stdout",
          "output_type": "stream",
          "text": [
            "Phân loại dung tích xe:\n",
            "Loại 1: 100-175cc\n",
            "Loại 2: Dưới50cc\n",
            "Loại 3: nan\n",
            "Loại 4: Khôngbiếtrõ\n",
            "Loại 5: 50-100cc\n",
            "Loại 6: Trên175cc\n"
          ]
        }
      ],
      "source": [
        "motor_caps = list(set(df['Dung_tich_xe']))\n",
        "\n",
        "print(\"Phân loại dung tích xe:\")\n",
        "\n",
        "for i, cap in enumerate(motor_caps):\n",
        "    print(f\"Loại {i + 1}: {cap}\")"
      ]
    },
    {
      "cell_type": "code",
      "execution_count": 124,
      "metadata": {
        "colab": {
          "base_uri": "https://localhost:8080/"
        },
        "id": "02pjXaDPkLPj",
        "outputId": "ab68b6b9-eb03-4050-d63b-8f159f2e4aea"
      },
      "outputs": [
        {
          "data": {
            "text/plain": [
              "100-175cc      7607\n",
              "50-100cc        628\n",
              "Trên175cc       400\n",
              "Dưới50cc        209\n",
              "Khôngbiếtrõ      30\n",
              "Name: Dung_tich_xe, dtype: int64"
            ]
          },
          "execution_count": 124,
          "metadata": {},
          "output_type": "execute_result"
        }
      ],
      "source": [
        "df[\"Dung_tich_xe\"].value_counts()"
      ]
    },
    {
      "cell_type": "markdown",
      "metadata": {
        "id": "YYa_PqSNoVK5"
      },
      "source": [
        "Ta sẽ tách các cụm từ ra thành các từ rõ ràng như 100-175 cc, Trên 175 cc, 50 - 100 cc, Dưới 50 cc, Không biết rõ "
      ]
    },
    {
      "cell_type": "code",
      "execution_count": 125,
      "metadata": {
        "colab": {
          "base_uri": "https://localhost:8080/",
          "height": 427
        },
        "id": "cxwmTtUVoofL",
        "outputId": "e71c6362-0c7f-4bb4-a93d-085c2d736941"
      },
      "outputs": [
        {
          "data": {
            "text/html": [
              "<div>\n",
              "<style scoped>\n",
              "    .dataframe tbody tr th:only-of-type {\n",
              "        vertical-align: middle;\n",
              "    }\n",
              "\n",
              "    .dataframe tbody tr th {\n",
              "        vertical-align: top;\n",
              "    }\n",
              "\n",
              "    .dataframe thead th {\n",
              "        text-align: right;\n",
              "    }\n",
              "</style>\n",
              "<table border=\"1\" class=\"dataframe\">\n",
              "  <thead>\n",
              "    <tr style=\"text-align: right;\">\n",
              "      <th></th>\n",
              "      <th>Hang_xe</th>\n",
              "      <th>Tuoi_xe</th>\n",
              "      <th>Nam_dang_ky</th>\n",
              "      <th>Tinh_trang_xe</th>\n",
              "      <th>Dung_tich_xe</th>\n",
              "      <th>Dong_xe</th>\n",
              "      <th>So_km_da_di</th>\n",
              "      <th>Loai_xe</th>\n",
              "      <th>Gia_xe</th>\n",
              "    </tr>\n",
              "  </thead>\n",
              "  <tbody>\n",
              "    <tr>\n",
              "      <th>0</th>\n",
              "      <td>Suzuki</td>\n",
              "      <td>27</td>\n",
              "      <td>1996</td>\n",
              "      <td>Đã sử dụng</td>\n",
              "      <td>NaN</td>\n",
              "      <td>Sport/Xipo</td>\n",
              "      <td>1234</td>\n",
              "      <td>Taycôn/Moto</td>\n",
              "      <td>25.500.000đ</td>\n",
              "    </tr>\n",
              "    <tr>\n",
              "      <th>1</th>\n",
              "      <td>Piaggio</td>\n",
              "      <td>9</td>\n",
              "      <td>2014</td>\n",
              "      <td>Đã sử dụng</td>\n",
              "      <td>100 - 175 cc</td>\n",
              "      <td>Vespa</td>\n",
              "      <td>11000</td>\n",
              "      <td>Tayga</td>\n",
              "      <td>32.500.000đ</td>\n",
              "    </tr>\n",
              "    <tr>\n",
              "      <th>2</th>\n",
              "      <td>Yamaha</td>\n",
              "      <td>10</td>\n",
              "      <td>2013</td>\n",
              "      <td>Đã sử dụng</td>\n",
              "      <td>100 - 175 cc</td>\n",
              "      <td>Exciter</td>\n",
              "      <td>25</td>\n",
              "      <td>Taycôn/Moto</td>\n",
              "      <td>27.500.000đ</td>\n",
              "    </tr>\n",
              "    <tr>\n",
              "      <th>3</th>\n",
              "      <td>Yamaha</td>\n",
              "      <td>8</td>\n",
              "      <td>2015</td>\n",
              "      <td>Đã sử dụng</td>\n",
              "      <td>100 - 175 cc</td>\n",
              "      <td>Exciter</td>\n",
              "      <td>37</td>\n",
              "      <td>Xesố</td>\n",
              "      <td>26.500.000đ</td>\n",
              "    </tr>\n",
              "    <tr>\n",
              "      <th>4</th>\n",
              "      <td>Honda</td>\n",
              "      <td>24</td>\n",
              "      <td>1999</td>\n",
              "      <td>Đã sử dụng</td>\n",
              "      <td>100 - 175 cc</td>\n",
              "      <td>Dream</td>\n",
              "      <td>25</td>\n",
              "      <td>Xesố</td>\n",
              "      <td>25.000.000đ</td>\n",
              "    </tr>\n",
              "    <tr>\n",
              "      <th>5</th>\n",
              "      <td>Honda</td>\n",
              "      <td>4</td>\n",
              "      <td>2019</td>\n",
              "      <td>Đã sử dụng</td>\n",
              "      <td>100 - 175 cc</td>\n",
              "      <td>Cub</td>\n",
              "      <td>585869</td>\n",
              "      <td>Xesố</td>\n",
              "      <td>3.300.000đ</td>\n",
              "    </tr>\n",
              "    <tr>\n",
              "      <th>6</th>\n",
              "      <td>Yamaha</td>\n",
              "      <td>10</td>\n",
              "      <td>2013</td>\n",
              "      <td>Đã sử dụng</td>\n",
              "      <td>NaN</td>\n",
              "      <td>Sirius</td>\n",
              "      <td>30</td>\n",
              "      <td>Xesố</td>\n",
              "      <td>7.800.000đ</td>\n",
              "    </tr>\n",
              "    <tr>\n",
              "      <th>7</th>\n",
              "      <td>Honda</td>\n",
              "      <td>4</td>\n",
              "      <td>2019</td>\n",
              "      <td>Đã sử dụng</td>\n",
              "      <td>NaN</td>\n",
              "      <td>Winner</td>\n",
              "      <td>1000</td>\n",
              "      <td>Taycôn/Moto</td>\n",
              "      <td>16.500.000đ</td>\n",
              "    </tr>\n",
              "    <tr>\n",
              "      <th>8</th>\n",
              "      <td>Honda</td>\n",
              "      <td>3</td>\n",
              "      <td>2020</td>\n",
              "      <td>Đã sử dụng</td>\n",
              "      <td>100 - 175 cc</td>\n",
              "      <td>Vario</td>\n",
              "      <td>1</td>\n",
              "      <td>Tayga</td>\n",
              "      <td>40.500.000đ</td>\n",
              "    </tr>\n",
              "    <tr>\n",
              "      <th>9</th>\n",
              "      <td>Yamaha</td>\n",
              "      <td>5</td>\n",
              "      <td>2018</td>\n",
              "      <td>Đã sử dụng</td>\n",
              "      <td>NaN</td>\n",
              "      <td>Nvx</td>\n",
              "      <td>46000</td>\n",
              "      <td>Tayga</td>\n",
              "      <td>26.000.000đ</td>\n",
              "    </tr>\n",
              "  </tbody>\n",
              "</table>\n",
              "</div>"
            ],
            "text/plain": [
              "   Hang_xe  Tuoi_xe  Nam_dang_ky Tinh_trang_xe  Dung_tich_xe     Dong_xe  \\\n",
              "0   Suzuki       27         1996    Đã sử dụng           NaN  Sport/Xipo   \n",
              "1  Piaggio        9         2014    Đã sử dụng  100 - 175 cc       Vespa   \n",
              "2   Yamaha       10         2013    Đã sử dụng  100 - 175 cc     Exciter   \n",
              "3   Yamaha        8         2015    Đã sử dụng  100 - 175 cc     Exciter   \n",
              "4    Honda       24         1999    Đã sử dụng  100 - 175 cc       Dream   \n",
              "5    Honda        4         2019    Đã sử dụng  100 - 175 cc         Cub   \n",
              "6   Yamaha       10         2013    Đã sử dụng           NaN      Sirius   \n",
              "7    Honda        4         2019    Đã sử dụng           NaN      Winner   \n",
              "8    Honda        3         2020    Đã sử dụng  100 - 175 cc       Vario   \n",
              "9   Yamaha        5         2018    Đã sử dụng           NaN         Nvx   \n",
              "\n",
              "  So_km_da_di      Loai_xe       Gia_xe  \n",
              "0        1234  Taycôn/Moto  25.500.000đ  \n",
              "1       11000        Tayga  32.500.000đ  \n",
              "2          25  Taycôn/Moto  27.500.000đ  \n",
              "3          37         Xesố  26.500.000đ  \n",
              "4          25         Xesố  25.000.000đ  \n",
              "5      585869         Xesố   3.300.000đ  \n",
              "6          30         Xesố   7.800.000đ  \n",
              "7        1000  Taycôn/Moto  16.500.000đ  \n",
              "8           1        Tayga  40.500.000đ  \n",
              "9       46000        Tayga  26.000.000đ  "
            ]
          },
          "execution_count": 125,
          "metadata": {},
          "output_type": "execute_result"
        }
      ],
      "source": [
        "df['Dung_tich_xe'] = df['Dung_tich_xe'].replace(['100-175cc'], '100 - 175 cc')\n",
        "df['Dung_tich_xe'] = df['Dung_tich_xe'].replace(['Trên175cc'], 'Trên 175 cc')\n",
        "df['Dung_tich_xe'] = df['Dung_tich_xe'].replace(['50-100cc'], '50 - 100 cc')\n",
        "df['Dung_tich_xe'] = df['Dung_tich_xe'].replace(['Dưới50cc'], 'Dưới 50 cc')\n",
        "df['Dung_tich_xe'] = df['Dung_tich_xe'].replace(['Khôngbiếtrõ'], 'Không rõ')\n",
        "df.head(10)\n"
      ]
    },
    {
      "cell_type": "markdown",
      "metadata": {
        "id": "DvoaR9dTpdlU"
      },
      "source": [
        "Đếm dữ liệu rỗng của dung tích xe\n"
      ]
    },
    {
      "cell_type": "code",
      "execution_count": 126,
      "metadata": {
        "colab": {
          "base_uri": "https://localhost:8080/"
        },
        "id": "aoy8jwRtpOs0",
        "outputId": "408fa624-efd1-4ba7-8e35-8fb5c5e6afac"
      },
      "outputs": [
        {
          "data": {
            "text/plain": [
              "(3599, 9)"
            ]
          },
          "execution_count": 126,
          "metadata": {},
          "output_type": "execute_result"
        }
      ],
      "source": [
        "df[df['Dung_tich_xe'].isnull()].shape"
      ]
    },
    {
      "cell_type": "markdown",
      "metadata": {
        "id": "Nw2vINjRquB7"
      },
      "source": [
        "Do số lượng dữ liệu rỗng của dung tích xe là quá lớn, nên ta sẽ thay thế giá trị rỗng bằng \"Không rõ\" đối với các giá trị rỗng của dung tích xe"
      ]
    },
    {
      "cell_type": "code",
      "execution_count": 127,
      "metadata": {
        "colab": {
          "base_uri": "https://localhost:8080/"
        },
        "id": "jljXufueq8nS",
        "outputId": "e46ef67c-6db4-42b6-b40a-de3ff05e83b6"
      },
      "outputs": [
        {
          "data": {
            "text/plain": [
              "(0, 9)"
            ]
          },
          "execution_count": 127,
          "metadata": {},
          "output_type": "execute_result"
        }
      ],
      "source": [
        "df['Dung_tich_xe'] = df['Dung_tich_xe'].replace([np.nan], 'Không rõ')\n",
        "\n",
        "# Kiểm tra lại số lượng dung tích xe có giá trị rỗng sau khi đã được \n",
        "# thay bằng giá trị \"Không rõ\"\n",
        "df[df['Dung_tich_xe'].isnull()].shape\n"
      ]
    },
    {
      "cell_type": "code",
      "execution_count": 128,
      "metadata": {
        "colab": {
          "base_uri": "https://localhost:8080/",
          "height": 427
        },
        "id": "pfHbC3oGrGqG",
        "outputId": "31796b64-c876-4584-c338-8b731e8a2702"
      },
      "outputs": [
        {
          "data": {
            "text/html": [
              "<div>\n",
              "<style scoped>\n",
              "    .dataframe tbody tr th:only-of-type {\n",
              "        vertical-align: middle;\n",
              "    }\n",
              "\n",
              "    .dataframe tbody tr th {\n",
              "        vertical-align: top;\n",
              "    }\n",
              "\n",
              "    .dataframe thead th {\n",
              "        text-align: right;\n",
              "    }\n",
              "</style>\n",
              "<table border=\"1\" class=\"dataframe\">\n",
              "  <thead>\n",
              "    <tr style=\"text-align: right;\">\n",
              "      <th></th>\n",
              "      <th>Hang_xe</th>\n",
              "      <th>Tuoi_xe</th>\n",
              "      <th>Nam_dang_ky</th>\n",
              "      <th>Tinh_trang_xe</th>\n",
              "      <th>Dung_tich_xe</th>\n",
              "      <th>Dong_xe</th>\n",
              "      <th>So_km_da_di</th>\n",
              "      <th>Loai_xe</th>\n",
              "      <th>Gia_xe</th>\n",
              "    </tr>\n",
              "  </thead>\n",
              "  <tbody>\n",
              "    <tr>\n",
              "      <th>0</th>\n",
              "      <td>Suzuki</td>\n",
              "      <td>27</td>\n",
              "      <td>1996</td>\n",
              "      <td>Đã sử dụng</td>\n",
              "      <td>Không rõ</td>\n",
              "      <td>Sport/Xipo</td>\n",
              "      <td>1234</td>\n",
              "      <td>Taycôn/Moto</td>\n",
              "      <td>25.500.000đ</td>\n",
              "    </tr>\n",
              "    <tr>\n",
              "      <th>1</th>\n",
              "      <td>Piaggio</td>\n",
              "      <td>9</td>\n",
              "      <td>2014</td>\n",
              "      <td>Đã sử dụng</td>\n",
              "      <td>100 - 175 cc</td>\n",
              "      <td>Vespa</td>\n",
              "      <td>11000</td>\n",
              "      <td>Tayga</td>\n",
              "      <td>32.500.000đ</td>\n",
              "    </tr>\n",
              "    <tr>\n",
              "      <th>2</th>\n",
              "      <td>Yamaha</td>\n",
              "      <td>10</td>\n",
              "      <td>2013</td>\n",
              "      <td>Đã sử dụng</td>\n",
              "      <td>100 - 175 cc</td>\n",
              "      <td>Exciter</td>\n",
              "      <td>25</td>\n",
              "      <td>Taycôn/Moto</td>\n",
              "      <td>27.500.000đ</td>\n",
              "    </tr>\n",
              "    <tr>\n",
              "      <th>3</th>\n",
              "      <td>Yamaha</td>\n",
              "      <td>8</td>\n",
              "      <td>2015</td>\n",
              "      <td>Đã sử dụng</td>\n",
              "      <td>100 - 175 cc</td>\n",
              "      <td>Exciter</td>\n",
              "      <td>37</td>\n",
              "      <td>Xesố</td>\n",
              "      <td>26.500.000đ</td>\n",
              "    </tr>\n",
              "    <tr>\n",
              "      <th>4</th>\n",
              "      <td>Honda</td>\n",
              "      <td>24</td>\n",
              "      <td>1999</td>\n",
              "      <td>Đã sử dụng</td>\n",
              "      <td>100 - 175 cc</td>\n",
              "      <td>Dream</td>\n",
              "      <td>25</td>\n",
              "      <td>Xesố</td>\n",
              "      <td>25.000.000đ</td>\n",
              "    </tr>\n",
              "    <tr>\n",
              "      <th>5</th>\n",
              "      <td>Honda</td>\n",
              "      <td>4</td>\n",
              "      <td>2019</td>\n",
              "      <td>Đã sử dụng</td>\n",
              "      <td>100 - 175 cc</td>\n",
              "      <td>Cub</td>\n",
              "      <td>585869</td>\n",
              "      <td>Xesố</td>\n",
              "      <td>3.300.000đ</td>\n",
              "    </tr>\n",
              "    <tr>\n",
              "      <th>6</th>\n",
              "      <td>Yamaha</td>\n",
              "      <td>10</td>\n",
              "      <td>2013</td>\n",
              "      <td>Đã sử dụng</td>\n",
              "      <td>Không rõ</td>\n",
              "      <td>Sirius</td>\n",
              "      <td>30</td>\n",
              "      <td>Xesố</td>\n",
              "      <td>7.800.000đ</td>\n",
              "    </tr>\n",
              "    <tr>\n",
              "      <th>7</th>\n",
              "      <td>Honda</td>\n",
              "      <td>4</td>\n",
              "      <td>2019</td>\n",
              "      <td>Đã sử dụng</td>\n",
              "      <td>Không rõ</td>\n",
              "      <td>Winner</td>\n",
              "      <td>1000</td>\n",
              "      <td>Taycôn/Moto</td>\n",
              "      <td>16.500.000đ</td>\n",
              "    </tr>\n",
              "    <tr>\n",
              "      <th>8</th>\n",
              "      <td>Honda</td>\n",
              "      <td>3</td>\n",
              "      <td>2020</td>\n",
              "      <td>Đã sử dụng</td>\n",
              "      <td>100 - 175 cc</td>\n",
              "      <td>Vario</td>\n",
              "      <td>1</td>\n",
              "      <td>Tayga</td>\n",
              "      <td>40.500.000đ</td>\n",
              "    </tr>\n",
              "    <tr>\n",
              "      <th>9</th>\n",
              "      <td>Yamaha</td>\n",
              "      <td>5</td>\n",
              "      <td>2018</td>\n",
              "      <td>Đã sử dụng</td>\n",
              "      <td>Không rõ</td>\n",
              "      <td>Nvx</td>\n",
              "      <td>46000</td>\n",
              "      <td>Tayga</td>\n",
              "      <td>26.000.000đ</td>\n",
              "    </tr>\n",
              "  </tbody>\n",
              "</table>\n",
              "</div>"
            ],
            "text/plain": [
              "   Hang_xe  Tuoi_xe  Nam_dang_ky Tinh_trang_xe  Dung_tich_xe     Dong_xe  \\\n",
              "0   Suzuki       27         1996    Đã sử dụng      Không rõ  Sport/Xipo   \n",
              "1  Piaggio        9         2014    Đã sử dụng  100 - 175 cc       Vespa   \n",
              "2   Yamaha       10         2013    Đã sử dụng  100 - 175 cc     Exciter   \n",
              "3   Yamaha        8         2015    Đã sử dụng  100 - 175 cc     Exciter   \n",
              "4    Honda       24         1999    Đã sử dụng  100 - 175 cc       Dream   \n",
              "5    Honda        4         2019    Đã sử dụng  100 - 175 cc         Cub   \n",
              "6   Yamaha       10         2013    Đã sử dụng      Không rõ      Sirius   \n",
              "7    Honda        4         2019    Đã sử dụng      Không rõ      Winner   \n",
              "8    Honda        3         2020    Đã sử dụng  100 - 175 cc       Vario   \n",
              "9   Yamaha        5         2018    Đã sử dụng      Không rõ         Nvx   \n",
              "\n",
              "  So_km_da_di      Loai_xe       Gia_xe  \n",
              "0        1234  Taycôn/Moto  25.500.000đ  \n",
              "1       11000        Tayga  32.500.000đ  \n",
              "2          25  Taycôn/Moto  27.500.000đ  \n",
              "3          37         Xesố  26.500.000đ  \n",
              "4          25         Xesố  25.000.000đ  \n",
              "5      585869         Xesố   3.300.000đ  \n",
              "6          30         Xesố   7.800.000đ  \n",
              "7        1000  Taycôn/Moto  16.500.000đ  \n",
              "8           1        Tayga  40.500.000đ  \n",
              "9       46000        Tayga  26.000.000đ  "
            ]
          },
          "execution_count": 128,
          "metadata": {},
          "output_type": "execute_result"
        }
      ],
      "source": [
        "df.head(10)\n"
      ]
    },
    {
      "cell_type": "markdown",
      "metadata": {
        "id": "1KJ8Q-TqrcGa"
      },
      "source": [
        "##6. \"Làm sạch\" cột dữ liệu dòng xe"
      ]
    },
    {
      "cell_type": "markdown",
      "metadata": {
        "id": "xpc0ltTxxYDX"
      },
      "source": [
        "Cũng hoàn toàn giống với các trường dữ liệu khác, ta sẽ xem xem có bao nhiêu dòng xe khác nhau trong bộ dữ liệu này"
      ]
    },
    {
      "cell_type": "code",
      "execution_count": 129,
      "metadata": {
        "colab": {
          "base_uri": "https://localhost:8080/"
        },
        "id": "erzdidqGrZEI",
        "outputId": "526ea3a6-5c4f-4ef9-b444-df84e970f308"
      },
      "outputs": [
        {
          "name": "stdout",
          "output_type": "stream",
          "text": [
            "Các dòng xe:\n",
            "Dòng xe 1: Future\n",
            "Dòng xe 2: EN\n",
            "Dòng xe 3: Nouvo\n",
            "Dòng xe 4: CandyHi\n",
            "Dòng xe 5: KPR\n",
            "Dòng xe 6: F3\n",
            "Dòng xe 7: Angela\n",
            "Dòng xe 8: Spacy\n",
            "Dòng xe 9: Duke200\n",
            "Dòng xe 10: Cruiser\n",
            "Dòng xe 11: Vision\n",
            "Dòng xe 12: FatBob\n",
            "Dòng xe 13: TFX\n",
            "Dòng xe 14: RFS\n",
            "Dòng xe 15: Best\n",
            "Dòng xe 16: Attila\n",
            "Dòng xe 17: Demon150GN\n",
            "Dòng xe 18: K-Pipe\n",
            "Dòng xe 19: Stinger\n",
            "Dòng xe 20: Raider\n",
            "Dòng xe 21: Star\n",
            "Dòng xe 22: Z1000\n",
            "Dòng xe 23: Yass\n",
            "Dòng xe 24: Intruder\n",
            "Dòng xe 25: Dream\n",
            "Dòng xe 26: Fly\n",
            "Dòng xe 27: Bonus\n",
            "Dòng xe 28: FZ\n",
            "Dòng xe 29: Amici\n",
            "Dòng xe 30: Vario\n",
            "Dòng xe 31: Blade\n",
            "Dòng xe 32: TuonoV41100FactoryABS\n",
            "Dòng xe 33: PanigaleV4\n",
            "Dòng xe 34: Exciter\n",
            "Dòng xe 35: EZ\n",
            "Dòng xe 36: Husky\n",
            "Dòng xe 37: Smash\n",
            "Dòng xe 38: Monkey\n",
            "Dòng xe 39: Phoenix\n",
            "Dòng xe 40: Mio\n",
            "Dòng xe 41: Cello\n",
            "Dòng xe 42: SandaBoss\n",
            "Dòng xe 43: RnineT\n",
            "Dòng xe 44: Espero\n",
            "Dòng xe 45: Dylan\n",
            "Dòng xe 46: YB125\n",
            "Dòng xe 47: SH\n",
            "Dòng xe 48: CB\n",
            "Dòng xe 49: FX125\n",
            "Dòng xe 50: @\n",
            "Dòng xe 51: StreetTwin\n",
            "Dòng xe 52: Z800\n",
            "Dòng xe 53: 67\n",
            "Dòng xe 54: Taurus\n",
            "Dòng xe 55: PS\n",
            "Dòng xe 56: KSR\n",
            "Dòng xe 57: JockeyFi\n",
            "Dòng xe 58: Beverly\n",
            "Dòng xe 59: WinnerX\n",
            "Dòng xe 60: Notus\n",
            "Dòng xe 61: SHMode\n",
            "Dòng xe 62: Z300\n",
            "Dòng xe 63: Rebellian\n",
            "Dòng xe 64: MSX125\n",
            "Dòng xe 65: Citi\n",
            "Dòng xe 66: 103\n",
            "Dòng xe 67: Giorno\n",
            "Dòng xe 68: Wolf\n",
            "Dòng xe 69: Z900\n",
            "Dòng xe 70: BN600i\n",
            "Dòng xe 71: Sportster\n",
            "Dòng xe 72: Vulcan\n",
            "Dòng xe 73: MT\n",
            "Dòng xe 74: Cuxi\n",
            "Dòng xe 75: Galaxy\n",
            "Dòng xe 76: Latte\n",
            "Dòng xe 77: Xbike\n",
            "Dòng xe 78: LegendGentleman200\n",
            "Dòng xe 79: Medley\n",
            "Dòng xe 80: SCR\n",
            "Dòng xe 81: CandyS\n",
            "Dòng xe 82: CBR\n",
            "Dòng xe 83: XMAX\n",
            "Dòng xe 84: X350\n",
            "Dòng xe 85: Rebell\n",
            "Dòng xe 86: TNT\n",
            "Dòng xe 87: Streetfighter\n",
            "Dòng xe 88: Elite\n",
            "Dòng xe 89: GT\n",
            "Dòng xe 90: Primavera\n",
            "Dòng xe 91: Forza300\n",
            "Dòng xe 92: Dòngkhác\n",
            "Dòng xe 93: Satria\n",
            "Dòng xe 94: Sirius\n",
            "Dòng xe 95: NM-X\n",
            "Dòng xe 96: Click\n",
            "Dòng xe 97: Kawasaki\n",
            "Dòng xe 98: ZX10R\n",
            "Dòng xe 99: Sapphire\n",
            "Dòng xe 100: Chaly\n",
            "Dòng xe 101: Cub\n",
            "Dòng xe 102: LX\n",
            "Dòng xe 103: Rebel\n",
            "Dòng xe 104: Acruzo\n",
            "Dòng xe 105: S1000RR\n",
            "Dòng xe 106: C400GT\n",
            "Dòng xe 107: Win\n",
            "Dòng xe 108: Softail\n",
            "Dòng xe 109: Freego\n",
            "Dòng xe 110: NioFi50cc\n",
            "Dòng xe 111: Elegant\n",
            "Dòng xe 112: Liberty\n",
            "Dòng xe 113: Rivale\n",
            "Dòng xe 114: CG125Fi\n",
            "Dòng xe 115: Hypermotard\n",
            "Dòng xe 116: VS125\n",
            "Dòng xe 117: DemonX125cc\n",
            "Dòng xe 118: A-4\n",
            "Dòng xe 119: Wave\n",
            "Dòng xe 120: Hayate\n",
            "Dòng xe 121: Nvx\n",
            "Dòng xe 122: R\n",
            "Dòng xe 123: W175\n",
            "Dòng xe 124: VLM\n",
            "Dòng xe 125: BS\n",
            "Dòng xe 126: Grande\n",
            "Dòng xe 127: ZX6R\n",
            "Dòng xe 128: nan\n",
            "Dòng xe 129: YAZ\n",
            "Dòng xe 130: Viva\n",
            "Dòng xe 131: Axelo\n",
            "Dòng xe 132: GN\n",
            "Dòng xe 133: Jupiter\n",
            "Dòng xe 134: Scrambler\n",
            "Dòng xe 135: Nozza\n",
            "Dòng xe 136: Shadow\n",
            "Dòng xe 137: 48\n",
            "Dòng xe 138: 899panigale\n",
            "Dòng xe 139: Nova\n",
            "Dòng xe 140: FatBoy\n",
            "Dòng xe 141: Magic\n",
            "Dòng xe 142: Scoopy\n",
            "Dòng xe 143: Bios\n",
            "Dòng xe 144: Shark\n",
            "Dòng xe 145: AirBlade\n",
            "Dòng xe 146: Touring\n",
            "Dòng xe 147: Monster\n",
            "Dòng xe 148: Django\n",
            "Dòng xe 149: Ninja\n",
            "Dòng xe 150: Impulse\n",
            "Dòng xe 151: PCX\n",
            "Dòng xe 152: Lead\n",
            "Dòng xe 153: Rock\n",
            "Dòng xe 154: Duke390\n",
            "Dòng xe 155: Luvias\n",
            "Dòng xe 156: Demon150GR\n",
            "Dòng xe 157: T15\n",
            "Dòng xe 158: GSX\n",
            "Dòng xe 159: Vespa\n",
            "Dòng xe 160: Deluxe\n",
            "Dòng xe 161: GTS\n",
            "Dòng xe 162: Winner\n",
            "Dòng xe 163: Interceptor650\n",
            "Dòng xe 164: Sonic\n",
            "Dòng xe 165: VespaS125\n",
            "Dòng xe 166: Legend200\n",
            "Dòng xe 167: Mini\n",
            "Dòng xe 168: BN302\n",
            "Dòng xe 169: Joyride\n",
            "Dòng xe 170: Bella\n",
            "Dòng xe 171: Max\n",
            "Dòng xe 172: Venus\n",
            "Dòng xe 173: Dragster\n",
            "Dòng xe 174: Crystal\n",
            "Dòng xe 175: Beat\n",
            "Dòng xe 176: Elizabeth\n",
            "Dòng xe 177: ADV150\n",
            "Dòng xe 178: BX150\n",
            "Dòng xe 179: Symphony\n",
            "Dòng xe 180: CD\n",
            "Dòng xe 181: People16Fi\n",
            "Dòng xe 182: Zip\n",
            "Dòng xe 183: Z650\n",
            "Dòng xe 184: Sprint\n",
            "Dòng xe 185: GZ\n",
            "Dòng xe 186: 390\n",
            "Dòng xe 187: Revo\n",
            "Dòng xe 188: C400X\n",
            "Dòng xe 189: Enjoy\n",
            "Dòng xe 190: R250\n",
            "Dòng xe 191: B-bone\n",
            "Dòng xe 192: Janus\n",
            "Dòng xe 193: Sport/Xipo\n",
            "Dòng xe 194: Legend150S\n",
            "Dòng xe 195: Dyna\n",
            "Dòng xe 196: GD\n"
          ]
        }
      ],
      "source": [
        "models = list(set(df[\"Dong_xe\"]))\n",
        "\n",
        "print(\"Các dòng xe:\")\n",
        "for i, model in enumerate(models):\n",
        "    print(f\"Dòng xe {i + 1}: {model}\")"
      ]
    },
    {
      "cell_type": "markdown",
      "metadata": {
        "id": "EbW0Uee1yEe6"
      },
      "source": [
        "Do số lượng dòng xe khá lớn (196 dòng xe), nên ta sẽ chạy lệnh để kiểm tra có giá trị rỗng trong dòng xe không"
      ]
    },
    {
      "cell_type": "code",
      "execution_count": 130,
      "metadata": {
        "colab": {
          "base_uri": "https://localhost:8080/",
          "height": 319
        },
        "id": "0a1T1_7lxz0N",
        "outputId": "53a61c51-e115-4387-aaaa-10b7a78d26cc"
      },
      "outputs": [
        {
          "data": {
            "text/html": [
              "<div>\n",
              "<style scoped>\n",
              "    .dataframe tbody tr th:only-of-type {\n",
              "        vertical-align: middle;\n",
              "    }\n",
              "\n",
              "    .dataframe tbody tr th {\n",
              "        vertical-align: top;\n",
              "    }\n",
              "\n",
              "    .dataframe thead th {\n",
              "        text-align: right;\n",
              "    }\n",
              "</style>\n",
              "<table border=\"1\" class=\"dataframe\">\n",
              "  <thead>\n",
              "    <tr style=\"text-align: right;\">\n",
              "      <th></th>\n",
              "      <th>Hang_xe</th>\n",
              "      <th>Tuoi_xe</th>\n",
              "      <th>Nam_dang_ky</th>\n",
              "      <th>Tinh_trang_xe</th>\n",
              "      <th>Dung_tich_xe</th>\n",
              "      <th>Dong_xe</th>\n",
              "      <th>So_km_da_di</th>\n",
              "      <th>Loai_xe</th>\n",
              "      <th>Gia_xe</th>\n",
              "    </tr>\n",
              "  </thead>\n",
              "  <tbody>\n",
              "    <tr>\n",
              "      <th>23269</th>\n",
              "      <td>Honda</td>\n",
              "      <td>6</td>\n",
              "      <td>2017</td>\n",
              "      <td>Đã sử dụng</td>\n",
              "      <td>100 - 175 cc</td>\n",
              "      <td>NaN</td>\n",
              "      <td>21000</td>\n",
              "      <td>Tayga</td>\n",
              "      <td>58.800.000đ</td>\n",
              "    </tr>\n",
              "    <tr>\n",
              "      <th>24680</th>\n",
              "      <td>Yamaha</td>\n",
              "      <td>1</td>\n",
              "      <td>2022</td>\n",
              "      <td>Đã sử dụng</td>\n",
              "      <td>Không rõ</td>\n",
              "      <td>NaN</td>\n",
              "      <td>519</td>\n",
              "      <td>Xesố</td>\n",
              "      <td>18.000.000đ</td>\n",
              "    </tr>\n",
              "    <tr>\n",
              "      <th>32795</th>\n",
              "      <td>Hãng khác</td>\n",
              "      <td>1</td>\n",
              "      <td>2022</td>\n",
              "      <td>Mới</td>\n",
              "      <td>Dưới 50 cc</td>\n",
              "      <td>NaN</td>\n",
              "      <td>0</td>\n",
              "      <td>Tayga</td>\n",
              "      <td>20.500.000đ</td>\n",
              "    </tr>\n",
              "    <tr>\n",
              "      <th>40352</th>\n",
              "      <td>Keeway</td>\n",
              "      <td>3</td>\n",
              "      <td>2020</td>\n",
              "      <td>Đã sử dụng</td>\n",
              "      <td>Không rõ</td>\n",
              "      <td>NaN</td>\n",
              "      <td>9200</td>\n",
              "      <td>Taycôn/Moto</td>\n",
              "      <td>90.000.000đ</td>\n",
              "    </tr>\n",
              "    <tr>\n",
              "      <th>40889</th>\n",
              "      <td>Honda</td>\n",
              "      <td>19</td>\n",
              "      <td>2004</td>\n",
              "      <td>Đã sử dụng</td>\n",
              "      <td>Trên 175 cc</td>\n",
              "      <td>NaN</td>\n",
              "      <td>17189</td>\n",
              "      <td>Taycôn/Moto</td>\n",
              "      <td>12.345.678đ</td>\n",
              "    </tr>\n",
              "    <tr>\n",
              "      <th>42184</th>\n",
              "      <td>Benelli</td>\n",
              "      <td>6</td>\n",
              "      <td>2017</td>\n",
              "      <td>Đã sử dụng</td>\n",
              "      <td>Không rõ</td>\n",
              "      <td>NaN</td>\n",
              "      <td>18000</td>\n",
              "      <td>Taycôn/Moto</td>\n",
              "      <td>14.500.000đ</td>\n",
              "    </tr>\n",
              "  </tbody>\n",
              "</table>\n",
              "</div>"
            ],
            "text/plain": [
              "         Hang_xe  Tuoi_xe  Nam_dang_ky Tinh_trang_xe  Dung_tich_xe Dong_xe  \\\n",
              "23269      Honda        6         2017    Đã sử dụng  100 - 175 cc     NaN   \n",
              "24680     Yamaha        1         2022    Đã sử dụng      Không rõ     NaN   \n",
              "32795  Hãng khác        1         2022           Mới    Dưới 50 cc     NaN   \n",
              "40352     Keeway        3         2020    Đã sử dụng      Không rõ     NaN   \n",
              "40889      Honda       19         2004    Đã sử dụng   Trên 175 cc     NaN   \n",
              "42184    Benelli        6         2017    Đã sử dụng      Không rõ     NaN   \n",
              "\n",
              "      So_km_da_di      Loai_xe       Gia_xe  \n",
              "23269       21000        Tayga  58.800.000đ  \n",
              "24680         519         Xesố  18.000.000đ  \n",
              "32795           0        Tayga  20.500.000đ  \n",
              "40352        9200  Taycôn/Moto  90.000.000đ  \n",
              "40889       17189  Taycôn/Moto  12.345.678đ  \n",
              "42184       18000  Taycôn/Moto  14.500.000đ  "
            ]
          },
          "execution_count": 130,
          "metadata": {},
          "output_type": "execute_result"
        }
      ],
      "source": [
        "df[df[\"Dong_xe\"].isnull()]"
      ]
    },
    {
      "cell_type": "markdown",
      "metadata": {
        "id": "3_qKy04dyu-8"
      },
      "source": [
        "Cũng tương tự với hãng xe, dòng xe là một trong những thuộc tính quan trọng cần phải biết, cùng với đó, số lượng dữ liệu rỗng cũng không phải quá lớn (Quan sát bằng mắt thường ta đếm được chỉ có lượng nhỏ) nên ta sẽ loại bỏ đi những hàng này"
      ]
    },
    {
      "cell_type": "code",
      "execution_count": 131,
      "metadata": {
        "colab": {
          "base_uri": "https://localhost:8080/"
        },
        "id": "deTKRUrLyijV",
        "outputId": "e154a84d-c064-4ba7-edbc-e33b7c59f4a1"
      },
      "outputs": [
        {
          "data": {
            "text/plain": [
              "(12467, 9)"
            ]
          },
          "execution_count": 131,
          "metadata": {},
          "output_type": "execute_result"
        }
      ],
      "source": [
        "df = df[df[\"Dong_xe\"].notna()]\n",
        "\n",
        "# Đồng thời cũng thay đổi lại khoảng cách từ\n",
        "df['Dong_xe'] = df['Dong_xe'].replace(['Dòngkhác'], \"Dòng khác\")\n",
        "\n",
        "df.shape\n",
        "\n"
      ]
    },
    {
      "cell_type": "markdown",
      "metadata": {
        "id": "QTsNJlKz5Nnz"
      },
      "source": [
        "## 7. \"Làm sạch\" cột dữ liệu về số km đã đi"
      ]
    },
    {
      "cell_type": "markdown",
      "metadata": {
        "id": "d3LFQ3Gh5mPa"
      },
      "source": [
        "Ta sẽ ép kiểu các giá trị của số km đã đi sang kiểu int, đồng thời, loại đi các giá trị rỗng, do số km là giá trị định lượng nên không thể tìm được giá trị thay thế nên cần loại bỏ."
      ]
    },
    {
      "cell_type": "code",
      "execution_count": 132,
      "metadata": {
        "colab": {
          "base_uri": "https://localhost:8080/"
        },
        "id": "nzc0lpY85Dm5",
        "outputId": "e25333d1-8556-49f3-de9f-a5ae35b94b48"
      },
      "outputs": [
        {
          "data": {
            "text/plain": [
              "dtype('int64')"
            ]
          },
          "execution_count": 132,
          "metadata": {},
          "output_type": "execute_result"
        }
      ],
      "source": [
        "df = df[df['So_km_da_di'].notna()]\n",
        "df['So_km_da_di'] = df['So_km_da_di'].astype(int)\n",
        "\n",
        "df['So_km_da_di'].dtypes"
      ]
    },
    {
      "cell_type": "code",
      "execution_count": 133,
      "metadata": {
        "colab": {
          "base_uri": "https://localhost:8080/",
          "height": 427
        },
        "id": "We9Lr8N16usV",
        "outputId": "455665d5-37c6-407f-9cb4-3a6652fc9dac"
      },
      "outputs": [
        {
          "data": {
            "text/html": [
              "<div>\n",
              "<style scoped>\n",
              "    .dataframe tbody tr th:only-of-type {\n",
              "        vertical-align: middle;\n",
              "    }\n",
              "\n",
              "    .dataframe tbody tr th {\n",
              "        vertical-align: top;\n",
              "    }\n",
              "\n",
              "    .dataframe thead th {\n",
              "        text-align: right;\n",
              "    }\n",
              "</style>\n",
              "<table border=\"1\" class=\"dataframe\">\n",
              "  <thead>\n",
              "    <tr style=\"text-align: right;\">\n",
              "      <th></th>\n",
              "      <th>Hang_xe</th>\n",
              "      <th>Tuoi_xe</th>\n",
              "      <th>Nam_dang_ky</th>\n",
              "      <th>Tinh_trang_xe</th>\n",
              "      <th>Dung_tich_xe</th>\n",
              "      <th>Dong_xe</th>\n",
              "      <th>So_km_da_di</th>\n",
              "      <th>Loai_xe</th>\n",
              "      <th>Gia_xe</th>\n",
              "    </tr>\n",
              "  </thead>\n",
              "  <tbody>\n",
              "    <tr>\n",
              "      <th>0</th>\n",
              "      <td>Suzuki</td>\n",
              "      <td>27</td>\n",
              "      <td>1996</td>\n",
              "      <td>Đã sử dụng</td>\n",
              "      <td>Không rõ</td>\n",
              "      <td>Sport/Xipo</td>\n",
              "      <td>1234</td>\n",
              "      <td>Taycôn/Moto</td>\n",
              "      <td>25.500.000đ</td>\n",
              "    </tr>\n",
              "    <tr>\n",
              "      <th>1</th>\n",
              "      <td>Piaggio</td>\n",
              "      <td>9</td>\n",
              "      <td>2014</td>\n",
              "      <td>Đã sử dụng</td>\n",
              "      <td>100 - 175 cc</td>\n",
              "      <td>Vespa</td>\n",
              "      <td>11000</td>\n",
              "      <td>Tayga</td>\n",
              "      <td>32.500.000đ</td>\n",
              "    </tr>\n",
              "    <tr>\n",
              "      <th>2</th>\n",
              "      <td>Yamaha</td>\n",
              "      <td>10</td>\n",
              "      <td>2013</td>\n",
              "      <td>Đã sử dụng</td>\n",
              "      <td>100 - 175 cc</td>\n",
              "      <td>Exciter</td>\n",
              "      <td>25</td>\n",
              "      <td>Taycôn/Moto</td>\n",
              "      <td>27.500.000đ</td>\n",
              "    </tr>\n",
              "    <tr>\n",
              "      <th>3</th>\n",
              "      <td>Yamaha</td>\n",
              "      <td>8</td>\n",
              "      <td>2015</td>\n",
              "      <td>Đã sử dụng</td>\n",
              "      <td>100 - 175 cc</td>\n",
              "      <td>Exciter</td>\n",
              "      <td>37</td>\n",
              "      <td>Xesố</td>\n",
              "      <td>26.500.000đ</td>\n",
              "    </tr>\n",
              "    <tr>\n",
              "      <th>4</th>\n",
              "      <td>Honda</td>\n",
              "      <td>24</td>\n",
              "      <td>1999</td>\n",
              "      <td>Đã sử dụng</td>\n",
              "      <td>100 - 175 cc</td>\n",
              "      <td>Dream</td>\n",
              "      <td>25</td>\n",
              "      <td>Xesố</td>\n",
              "      <td>25.000.000đ</td>\n",
              "    </tr>\n",
              "    <tr>\n",
              "      <th>5</th>\n",
              "      <td>Honda</td>\n",
              "      <td>4</td>\n",
              "      <td>2019</td>\n",
              "      <td>Đã sử dụng</td>\n",
              "      <td>100 - 175 cc</td>\n",
              "      <td>Cub</td>\n",
              "      <td>585869</td>\n",
              "      <td>Xesố</td>\n",
              "      <td>3.300.000đ</td>\n",
              "    </tr>\n",
              "    <tr>\n",
              "      <th>6</th>\n",
              "      <td>Yamaha</td>\n",
              "      <td>10</td>\n",
              "      <td>2013</td>\n",
              "      <td>Đã sử dụng</td>\n",
              "      <td>Không rõ</td>\n",
              "      <td>Sirius</td>\n",
              "      <td>30</td>\n",
              "      <td>Xesố</td>\n",
              "      <td>7.800.000đ</td>\n",
              "    </tr>\n",
              "    <tr>\n",
              "      <th>7</th>\n",
              "      <td>Honda</td>\n",
              "      <td>4</td>\n",
              "      <td>2019</td>\n",
              "      <td>Đã sử dụng</td>\n",
              "      <td>Không rõ</td>\n",
              "      <td>Winner</td>\n",
              "      <td>1000</td>\n",
              "      <td>Taycôn/Moto</td>\n",
              "      <td>16.500.000đ</td>\n",
              "    </tr>\n",
              "    <tr>\n",
              "      <th>8</th>\n",
              "      <td>Honda</td>\n",
              "      <td>3</td>\n",
              "      <td>2020</td>\n",
              "      <td>Đã sử dụng</td>\n",
              "      <td>100 - 175 cc</td>\n",
              "      <td>Vario</td>\n",
              "      <td>1</td>\n",
              "      <td>Tayga</td>\n",
              "      <td>40.500.000đ</td>\n",
              "    </tr>\n",
              "    <tr>\n",
              "      <th>9</th>\n",
              "      <td>Yamaha</td>\n",
              "      <td>5</td>\n",
              "      <td>2018</td>\n",
              "      <td>Đã sử dụng</td>\n",
              "      <td>Không rõ</td>\n",
              "      <td>Nvx</td>\n",
              "      <td>46000</td>\n",
              "      <td>Tayga</td>\n",
              "      <td>26.000.000đ</td>\n",
              "    </tr>\n",
              "  </tbody>\n",
              "</table>\n",
              "</div>"
            ],
            "text/plain": [
              "   Hang_xe  Tuoi_xe  Nam_dang_ky Tinh_trang_xe  Dung_tich_xe     Dong_xe  \\\n",
              "0   Suzuki       27         1996    Đã sử dụng      Không rõ  Sport/Xipo   \n",
              "1  Piaggio        9         2014    Đã sử dụng  100 - 175 cc       Vespa   \n",
              "2   Yamaha       10         2013    Đã sử dụng  100 - 175 cc     Exciter   \n",
              "3   Yamaha        8         2015    Đã sử dụng  100 - 175 cc     Exciter   \n",
              "4    Honda       24         1999    Đã sử dụng  100 - 175 cc       Dream   \n",
              "5    Honda        4         2019    Đã sử dụng  100 - 175 cc         Cub   \n",
              "6   Yamaha       10         2013    Đã sử dụng      Không rõ      Sirius   \n",
              "7    Honda        4         2019    Đã sử dụng      Không rõ      Winner   \n",
              "8    Honda        3         2020    Đã sử dụng  100 - 175 cc       Vario   \n",
              "9   Yamaha        5         2018    Đã sử dụng      Không rõ         Nvx   \n",
              "\n",
              "   So_km_da_di      Loai_xe       Gia_xe  \n",
              "0         1234  Taycôn/Moto  25.500.000đ  \n",
              "1        11000        Tayga  32.500.000đ  \n",
              "2           25  Taycôn/Moto  27.500.000đ  \n",
              "3           37         Xesố  26.500.000đ  \n",
              "4           25         Xesố  25.000.000đ  \n",
              "5       585869         Xesố   3.300.000đ  \n",
              "6           30         Xesố   7.800.000đ  \n",
              "7         1000  Taycôn/Moto  16.500.000đ  \n",
              "8            1        Tayga  40.500.000đ  \n",
              "9        46000        Tayga  26.000.000đ  "
            ]
          },
          "execution_count": 133,
          "metadata": {},
          "output_type": "execute_result"
        }
      ],
      "source": [
        "df.head(10)"
      ]
    },
    {
      "cell_type": "markdown",
      "metadata": {
        "id": "Q3iezGX8_Jgu"
      },
      "source": [
        "Một yếu tố nữa cũng cần kiểm tra, dù nó rất hiếm xảy ra, đó là ta sẽ kiểm tra xem các giá trị của số km đảm bảo không bị âm"
      ]
    },
    {
      "cell_type": "code",
      "execution_count": 134,
      "metadata": {
        "colab": {
          "base_uri": "https://localhost:8080/",
          "height": 49
        },
        "id": "ELUjD9F-_Iqg",
        "outputId": "24d29f3c-d3ee-471d-8271-aacc20d986b9"
      },
      "outputs": [
        {
          "data": {
            "text/html": [
              "<div>\n",
              "<style scoped>\n",
              "    .dataframe tbody tr th:only-of-type {\n",
              "        vertical-align: middle;\n",
              "    }\n",
              "\n",
              "    .dataframe tbody tr th {\n",
              "        vertical-align: top;\n",
              "    }\n",
              "\n",
              "    .dataframe thead th {\n",
              "        text-align: right;\n",
              "    }\n",
              "</style>\n",
              "<table border=\"1\" class=\"dataframe\">\n",
              "  <thead>\n",
              "    <tr style=\"text-align: right;\">\n",
              "      <th></th>\n",
              "      <th>Hang_xe</th>\n",
              "      <th>Tuoi_xe</th>\n",
              "      <th>Nam_dang_ky</th>\n",
              "      <th>Tinh_trang_xe</th>\n",
              "      <th>Dung_tich_xe</th>\n",
              "      <th>Dong_xe</th>\n",
              "      <th>So_km_da_di</th>\n",
              "      <th>Loai_xe</th>\n",
              "      <th>Gia_xe</th>\n",
              "    </tr>\n",
              "  </thead>\n",
              "  <tbody>\n",
              "  </tbody>\n",
              "</table>\n",
              "</div>"
            ],
            "text/plain": [
              "Empty DataFrame\n",
              "Columns: [Hang_xe, Tuoi_xe, Nam_dang_ky, Tinh_trang_xe, Dung_tich_xe, Dong_xe, So_km_da_di, Loai_xe, Gia_xe]\n",
              "Index: []"
            ]
          },
          "execution_count": 134,
          "metadata": {},
          "output_type": "execute_result"
        }
      ],
      "source": [
        "df[df[\"So_km_da_di\"] < 0]"
      ]
    },
    {
      "cell_type": "markdown",
      "metadata": {
        "id": "99kTeJ708QGD"
      },
      "source": [
        "## 8. \"Làm sạch\" dữ liệu về loại xe"
      ]
    },
    {
      "cell_type": "markdown",
      "metadata": {
        "id": "tB7xKlL68i0s"
      },
      "source": [
        "Với dữ liệu này, ta sẽ xem các loại xe và tìm các giá trị rỗng, tùy thuộc vào giá trị các loại xe mà ta sẽ quyết định cách thức xử lý giá trị rỗng"
      ]
    },
    {
      "cell_type": "code",
      "execution_count": 135,
      "metadata": {
        "colab": {
          "base_uri": "https://localhost:8080/"
        },
        "id": "0raYQSgB8T1X",
        "outputId": "a8e04818-706e-4f4f-e1d6-cfcac2a2a73f"
      },
      "outputs": [
        {
          "data": {
            "text/plain": [
              "0        Taycôn/Moto\n",
              "1              Tayga\n",
              "2        Taycôn/Moto\n",
              "3               Xesố\n",
              "4               Xesố\n",
              "            ...     \n",
              "43319           Xesố\n",
              "43370           Xesố\n",
              "43386           Xesố\n",
              "43471    Taycôn/Moto\n",
              "43472          Tayga\n",
              "Name: Loai_xe, Length: 12226, dtype: object"
            ]
          },
          "execution_count": 135,
          "metadata": {},
          "output_type": "execute_result"
        }
      ],
      "source": [
        "# Ta đếm số loại xe\n",
        "\n",
        "df[\"Loai_xe\"]"
      ]
    },
    {
      "cell_type": "code",
      "execution_count": 136,
      "metadata": {
        "colab": {
          "base_uri": "https://localhost:8080/",
          "height": 49
        },
        "id": "5ZXRE6FQ8bq1",
        "outputId": "1d7616c9-f6b7-4e50-9f5b-885207146230"
      },
      "outputs": [
        {
          "data": {
            "text/html": [
              "<div>\n",
              "<style scoped>\n",
              "    .dataframe tbody tr th:only-of-type {\n",
              "        vertical-align: middle;\n",
              "    }\n",
              "\n",
              "    .dataframe tbody tr th {\n",
              "        vertical-align: top;\n",
              "    }\n",
              "\n",
              "    .dataframe thead th {\n",
              "        text-align: right;\n",
              "    }\n",
              "</style>\n",
              "<table border=\"1\" class=\"dataframe\">\n",
              "  <thead>\n",
              "    <tr style=\"text-align: right;\">\n",
              "      <th></th>\n",
              "      <th>Hang_xe</th>\n",
              "      <th>Tuoi_xe</th>\n",
              "      <th>Nam_dang_ky</th>\n",
              "      <th>Tinh_trang_xe</th>\n",
              "      <th>Dung_tich_xe</th>\n",
              "      <th>Dong_xe</th>\n",
              "      <th>So_km_da_di</th>\n",
              "      <th>Loai_xe</th>\n",
              "      <th>Gia_xe</th>\n",
              "    </tr>\n",
              "  </thead>\n",
              "  <tbody>\n",
              "  </tbody>\n",
              "</table>\n",
              "</div>"
            ],
            "text/plain": [
              "Empty DataFrame\n",
              "Columns: [Hang_xe, Tuoi_xe, Nam_dang_ky, Tinh_trang_xe, Dung_tich_xe, Dong_xe, So_km_da_di, Loai_xe, Gia_xe]\n",
              "Index: []"
            ]
          },
          "execution_count": 136,
          "metadata": {},
          "output_type": "execute_result"
        }
      ],
      "source": [
        "# Xem các giá trị rỗng:\n",
        "df[df[\"Loai_xe\"].isnull()]"
      ]
    },
    {
      "cell_type": "markdown",
      "metadata": {
        "id": "OeSmXP3R9AGV"
      },
      "source": [
        "May mắn rằng không tồn tại giá trị rỗng tại Loại xe, cuối cùng ta sẽ phân tách các từ của loại xe"
      ]
    },
    {
      "cell_type": "code",
      "execution_count": 137,
      "metadata": {
        "colab": {
          "base_uri": "https://localhost:8080/",
          "height": 739
        },
        "id": "K7jYNanC9Oym",
        "outputId": "39862612-d149-40ed-8637-c694ead4f713"
      },
      "outputs": [
        {
          "data": {
            "text/html": [
              "<div>\n",
              "<style scoped>\n",
              "    .dataframe tbody tr th:only-of-type {\n",
              "        vertical-align: middle;\n",
              "    }\n",
              "\n",
              "    .dataframe tbody tr th {\n",
              "        vertical-align: top;\n",
              "    }\n",
              "\n",
              "    .dataframe thead th {\n",
              "        text-align: right;\n",
              "    }\n",
              "</style>\n",
              "<table border=\"1\" class=\"dataframe\">\n",
              "  <thead>\n",
              "    <tr style=\"text-align: right;\">\n",
              "      <th></th>\n",
              "      <th>Hang_xe</th>\n",
              "      <th>Tuoi_xe</th>\n",
              "      <th>Nam_dang_ky</th>\n",
              "      <th>Tinh_trang_xe</th>\n",
              "      <th>Dung_tich_xe</th>\n",
              "      <th>Dong_xe</th>\n",
              "      <th>So_km_da_di</th>\n",
              "      <th>Loai_xe</th>\n",
              "      <th>Gia_xe</th>\n",
              "    </tr>\n",
              "  </thead>\n",
              "  <tbody>\n",
              "    <tr>\n",
              "      <th>0</th>\n",
              "      <td>Suzuki</td>\n",
              "      <td>27</td>\n",
              "      <td>1996</td>\n",
              "      <td>Đã sử dụng</td>\n",
              "      <td>Không rõ</td>\n",
              "      <td>Sport/Xipo</td>\n",
              "      <td>1234</td>\n",
              "      <td>Tay côn</td>\n",
              "      <td>25.500.000đ</td>\n",
              "    </tr>\n",
              "    <tr>\n",
              "      <th>1</th>\n",
              "      <td>Piaggio</td>\n",
              "      <td>9</td>\n",
              "      <td>2014</td>\n",
              "      <td>Đã sử dụng</td>\n",
              "      <td>100 - 175 cc</td>\n",
              "      <td>Vespa</td>\n",
              "      <td>11000</td>\n",
              "      <td>Tay ga</td>\n",
              "      <td>32.500.000đ</td>\n",
              "    </tr>\n",
              "    <tr>\n",
              "      <th>2</th>\n",
              "      <td>Yamaha</td>\n",
              "      <td>10</td>\n",
              "      <td>2013</td>\n",
              "      <td>Đã sử dụng</td>\n",
              "      <td>100 - 175 cc</td>\n",
              "      <td>Exciter</td>\n",
              "      <td>25</td>\n",
              "      <td>Tay côn</td>\n",
              "      <td>27.500.000đ</td>\n",
              "    </tr>\n",
              "    <tr>\n",
              "      <th>3</th>\n",
              "      <td>Yamaha</td>\n",
              "      <td>8</td>\n",
              "      <td>2015</td>\n",
              "      <td>Đã sử dụng</td>\n",
              "      <td>100 - 175 cc</td>\n",
              "      <td>Exciter</td>\n",
              "      <td>37</td>\n",
              "      <td>Xe số</td>\n",
              "      <td>26.500.000đ</td>\n",
              "    </tr>\n",
              "    <tr>\n",
              "      <th>4</th>\n",
              "      <td>Honda</td>\n",
              "      <td>24</td>\n",
              "      <td>1999</td>\n",
              "      <td>Đã sử dụng</td>\n",
              "      <td>100 - 175 cc</td>\n",
              "      <td>Dream</td>\n",
              "      <td>25</td>\n",
              "      <td>Xe số</td>\n",
              "      <td>25.000.000đ</td>\n",
              "    </tr>\n",
              "    <tr>\n",
              "      <th>5</th>\n",
              "      <td>Honda</td>\n",
              "      <td>4</td>\n",
              "      <td>2019</td>\n",
              "      <td>Đã sử dụng</td>\n",
              "      <td>100 - 175 cc</td>\n",
              "      <td>Cub</td>\n",
              "      <td>585869</td>\n",
              "      <td>Xe số</td>\n",
              "      <td>3.300.000đ</td>\n",
              "    </tr>\n",
              "    <tr>\n",
              "      <th>6</th>\n",
              "      <td>Yamaha</td>\n",
              "      <td>10</td>\n",
              "      <td>2013</td>\n",
              "      <td>Đã sử dụng</td>\n",
              "      <td>Không rõ</td>\n",
              "      <td>Sirius</td>\n",
              "      <td>30</td>\n",
              "      <td>Xe số</td>\n",
              "      <td>7.800.000đ</td>\n",
              "    </tr>\n",
              "    <tr>\n",
              "      <th>7</th>\n",
              "      <td>Honda</td>\n",
              "      <td>4</td>\n",
              "      <td>2019</td>\n",
              "      <td>Đã sử dụng</td>\n",
              "      <td>Không rõ</td>\n",
              "      <td>Winner</td>\n",
              "      <td>1000</td>\n",
              "      <td>Tay côn</td>\n",
              "      <td>16.500.000đ</td>\n",
              "    </tr>\n",
              "    <tr>\n",
              "      <th>8</th>\n",
              "      <td>Honda</td>\n",
              "      <td>3</td>\n",
              "      <td>2020</td>\n",
              "      <td>Đã sử dụng</td>\n",
              "      <td>100 - 175 cc</td>\n",
              "      <td>Vario</td>\n",
              "      <td>1</td>\n",
              "      <td>Tay ga</td>\n",
              "      <td>40.500.000đ</td>\n",
              "    </tr>\n",
              "    <tr>\n",
              "      <th>9</th>\n",
              "      <td>Yamaha</td>\n",
              "      <td>5</td>\n",
              "      <td>2018</td>\n",
              "      <td>Đã sử dụng</td>\n",
              "      <td>Không rõ</td>\n",
              "      <td>Nvx</td>\n",
              "      <td>46000</td>\n",
              "      <td>Tay ga</td>\n",
              "      <td>26.000.000đ</td>\n",
              "    </tr>\n",
              "  </tbody>\n",
              "</table>\n",
              "</div>"
            ],
            "text/plain": [
              "   Hang_xe  Tuoi_xe  Nam_dang_ky Tinh_trang_xe  Dung_tich_xe     Dong_xe  \\\n",
              "0   Suzuki       27         1996    Đã sử dụng      Không rõ  Sport/Xipo   \n",
              "1  Piaggio        9         2014    Đã sử dụng  100 - 175 cc       Vespa   \n",
              "2   Yamaha       10         2013    Đã sử dụng  100 - 175 cc     Exciter   \n",
              "3   Yamaha        8         2015    Đã sử dụng  100 - 175 cc     Exciter   \n",
              "4    Honda       24         1999    Đã sử dụng  100 - 175 cc       Dream   \n",
              "5    Honda        4         2019    Đã sử dụng  100 - 175 cc         Cub   \n",
              "6   Yamaha       10         2013    Đã sử dụng      Không rõ      Sirius   \n",
              "7    Honda        4         2019    Đã sử dụng      Không rõ      Winner   \n",
              "8    Honda        3         2020    Đã sử dụng  100 - 175 cc       Vario   \n",
              "9   Yamaha        5         2018    Đã sử dụng      Không rõ         Nvx   \n",
              "\n",
              "   So_km_da_di  Loai_xe       Gia_xe  \n",
              "0         1234  Tay côn  25.500.000đ  \n",
              "1        11000   Tay ga  32.500.000đ  \n",
              "2           25  Tay côn  27.500.000đ  \n",
              "3           37    Xe số  26.500.000đ  \n",
              "4           25    Xe số  25.000.000đ  \n",
              "5       585869    Xe số   3.300.000đ  \n",
              "6           30    Xe số   7.800.000đ  \n",
              "7         1000  Tay côn  16.500.000đ  \n",
              "8            1   Tay ga  40.500.000đ  \n",
              "9        46000   Tay ga  26.000.000đ  "
            ]
          },
          "execution_count": 137,
          "metadata": {},
          "output_type": "execute_result"
        }
      ],
      "source": [
        "df['Loai_xe'] = df['Loai_xe'].replace(['Tayga'], 'Tay ga')\n",
        "df['Loai_xe'] = df['Loai_xe'].replace(['Xesố'], 'Xe số')\n",
        "df['Loai_xe'] = df['Loai_xe'].replace(['Taycôn/Moto'], 'Tay côn')\n",
        "df.head(10)\n",
        "\n"
      ]
    },
    {
      "cell_type": "markdown",
      "metadata": {
        "id": "7acHbAMe-NYD"
      },
      "source": [
        "## 9. \"Làm sạch\" dữ liệu về giá"
      ]
    },
    {
      "cell_type": "markdown",
      "metadata": {
        "id": "bOqvK92--Xku"
      },
      "source": [
        "Giá trị của giá xe phải đảm bảo không được phép rỗng, bởi đó là yếu tố quan trọng nhất, là output của mô hình học máy.\n",
        "\n",
        "Ta sẽ tiến hành kiểm tra xem có giá trị rỗng trong giá xe hay không và sẽ loại bỏ nếu có, đồng thời thay đổi thay đổi về format của các giá trị trong giá xe (Cụ thể, bỏ ký tự đ ở cuối, bỏ các dấu .) sau đó chuyển đổi kiểu dữ liệu cho chúng sang float."
      ]
    },
    {
      "cell_type": "code",
      "execution_count": 138,
      "metadata": {
        "colab": {
          "base_uri": "https://localhost:8080/",
          "height": 407
        },
        "id": "wzPYe3Yl9fol",
        "outputId": "d5048d6d-c012-4ff7-b24f-441efa6d6afa"
      },
      "outputs": [
        {
          "data": {
            "text/html": [
              "<div>\n",
              "<style scoped>\n",
              "    .dataframe tbody tr th:only-of-type {\n",
              "        vertical-align: middle;\n",
              "    }\n",
              "\n",
              "    .dataframe tbody tr th {\n",
              "        vertical-align: top;\n",
              "    }\n",
              "\n",
              "    .dataframe thead th {\n",
              "        text-align: right;\n",
              "    }\n",
              "</style>\n",
              "<table border=\"1\" class=\"dataframe\">\n",
              "  <thead>\n",
              "    <tr style=\"text-align: right;\">\n",
              "      <th></th>\n",
              "      <th>Hang_xe</th>\n",
              "      <th>Tuoi_xe</th>\n",
              "      <th>Nam_dang_ky</th>\n",
              "      <th>Tinh_trang_xe</th>\n",
              "      <th>Dung_tich_xe</th>\n",
              "      <th>Dong_xe</th>\n",
              "      <th>So_km_da_di</th>\n",
              "      <th>Loai_xe</th>\n",
              "      <th>Gia_xe</th>\n",
              "    </tr>\n",
              "  </thead>\n",
              "  <tbody>\n",
              "    <tr>\n",
              "      <th>0</th>\n",
              "      <td>Suzuki</td>\n",
              "      <td>27</td>\n",
              "      <td>1996</td>\n",
              "      <td>Đã sử dụng</td>\n",
              "      <td>Không rõ</td>\n",
              "      <td>Sport/Xipo</td>\n",
              "      <td>1234</td>\n",
              "      <td>Tay côn</td>\n",
              "      <td>25500000.0</td>\n",
              "    </tr>\n",
              "    <tr>\n",
              "      <th>1</th>\n",
              "      <td>Piaggio</td>\n",
              "      <td>9</td>\n",
              "      <td>2014</td>\n",
              "      <td>Đã sử dụng</td>\n",
              "      <td>100 - 175 cc</td>\n",
              "      <td>Vespa</td>\n",
              "      <td>11000</td>\n",
              "      <td>Tay ga</td>\n",
              "      <td>32500000.0</td>\n",
              "    </tr>\n",
              "    <tr>\n",
              "      <th>2</th>\n",
              "      <td>Yamaha</td>\n",
              "      <td>10</td>\n",
              "      <td>2013</td>\n",
              "      <td>Đã sử dụng</td>\n",
              "      <td>100 - 175 cc</td>\n",
              "      <td>Exciter</td>\n",
              "      <td>25</td>\n",
              "      <td>Tay côn</td>\n",
              "      <td>27500000.0</td>\n",
              "    </tr>\n",
              "    <tr>\n",
              "      <th>3</th>\n",
              "      <td>Yamaha</td>\n",
              "      <td>8</td>\n",
              "      <td>2015</td>\n",
              "      <td>Đã sử dụng</td>\n",
              "      <td>100 - 175 cc</td>\n",
              "      <td>Exciter</td>\n",
              "      <td>37</td>\n",
              "      <td>Xe số</td>\n",
              "      <td>26500000.0</td>\n",
              "    </tr>\n",
              "    <tr>\n",
              "      <th>4</th>\n",
              "      <td>Honda</td>\n",
              "      <td>24</td>\n",
              "      <td>1999</td>\n",
              "      <td>Đã sử dụng</td>\n",
              "      <td>100 - 175 cc</td>\n",
              "      <td>Dream</td>\n",
              "      <td>25</td>\n",
              "      <td>Xe số</td>\n",
              "      <td>25000000.0</td>\n",
              "    </tr>\n",
              "    <tr>\n",
              "      <th>5</th>\n",
              "      <td>Honda</td>\n",
              "      <td>4</td>\n",
              "      <td>2019</td>\n",
              "      <td>Đã sử dụng</td>\n",
              "      <td>100 - 175 cc</td>\n",
              "      <td>Cub</td>\n",
              "      <td>585869</td>\n",
              "      <td>Xe số</td>\n",
              "      <td>3300000.0</td>\n",
              "    </tr>\n",
              "    <tr>\n",
              "      <th>6</th>\n",
              "      <td>Yamaha</td>\n",
              "      <td>10</td>\n",
              "      <td>2013</td>\n",
              "      <td>Đã sử dụng</td>\n",
              "      <td>Không rõ</td>\n",
              "      <td>Sirius</td>\n",
              "      <td>30</td>\n",
              "      <td>Xe số</td>\n",
              "      <td>7800000.0</td>\n",
              "    </tr>\n",
              "    <tr>\n",
              "      <th>7</th>\n",
              "      <td>Honda</td>\n",
              "      <td>4</td>\n",
              "      <td>2019</td>\n",
              "      <td>Đã sử dụng</td>\n",
              "      <td>Không rõ</td>\n",
              "      <td>Winner</td>\n",
              "      <td>1000</td>\n",
              "      <td>Tay côn</td>\n",
              "      <td>16500000.0</td>\n",
              "    </tr>\n",
              "    <tr>\n",
              "      <th>8</th>\n",
              "      <td>Honda</td>\n",
              "      <td>3</td>\n",
              "      <td>2020</td>\n",
              "      <td>Đã sử dụng</td>\n",
              "      <td>100 - 175 cc</td>\n",
              "      <td>Vario</td>\n",
              "      <td>1</td>\n",
              "      <td>Tay ga</td>\n",
              "      <td>40500000.0</td>\n",
              "    </tr>\n",
              "    <tr>\n",
              "      <th>9</th>\n",
              "      <td>Yamaha</td>\n",
              "      <td>5</td>\n",
              "      <td>2018</td>\n",
              "      <td>Đã sử dụng</td>\n",
              "      <td>Không rõ</td>\n",
              "      <td>Nvx</td>\n",
              "      <td>46000</td>\n",
              "      <td>Tay ga</td>\n",
              "      <td>26000000.0</td>\n",
              "    </tr>\n",
              "  </tbody>\n",
              "</table>\n",
              "</div>"
            ],
            "text/plain": [
              "   Hang_xe  Tuoi_xe  Nam_dang_ky Tinh_trang_xe  Dung_tich_xe     Dong_xe  \\\n",
              "0   Suzuki       27         1996    Đã sử dụng      Không rõ  Sport/Xipo   \n",
              "1  Piaggio        9         2014    Đã sử dụng  100 - 175 cc       Vespa   \n",
              "2   Yamaha       10         2013    Đã sử dụng  100 - 175 cc     Exciter   \n",
              "3   Yamaha        8         2015    Đã sử dụng  100 - 175 cc     Exciter   \n",
              "4    Honda       24         1999    Đã sử dụng  100 - 175 cc       Dream   \n",
              "5    Honda        4         2019    Đã sử dụng  100 - 175 cc         Cub   \n",
              "6   Yamaha       10         2013    Đã sử dụng      Không rõ      Sirius   \n",
              "7    Honda        4         2019    Đã sử dụng      Không rõ      Winner   \n",
              "8    Honda        3         2020    Đã sử dụng  100 - 175 cc       Vario   \n",
              "9   Yamaha        5         2018    Đã sử dụng      Không rõ         Nvx   \n",
              "\n",
              "   So_km_da_di  Loai_xe      Gia_xe  \n",
              "0         1234  Tay côn  25500000.0  \n",
              "1        11000   Tay ga  32500000.0  \n",
              "2           25  Tay côn  27500000.0  \n",
              "3           37    Xe số  26500000.0  \n",
              "4           25    Xe số  25000000.0  \n",
              "5       585869    Xe số   3300000.0  \n",
              "6           30    Xe số   7800000.0  \n",
              "7         1000  Tay côn  16500000.0  \n",
              "8            1   Tay ga  40500000.0  \n",
              "9        46000   Tay ga  26000000.0  "
            ]
          },
          "execution_count": 138,
          "metadata": {},
          "output_type": "execute_result"
        }
      ],
      "source": [
        "# Loại bỏ giá trị rỗng ngay nếu có\n",
        "df = df[df['Gia_xe'].notna()]\n",
        "\n",
        "# Format lại và chuyển kiểu dữ liệu\n",
        "df[\"Gia_xe\"] = df['Gia_xe'].apply(lambda x: x[:-1])\n",
        "df[\"Gia_xe\"] = df['Gia_xe'].apply(lambda x: x.replace('.', ''))\n",
        "df['Gia_xe'] = df['Gia_xe'].astype(float)\n",
        "\n",
        "\n",
        "df.head(10)"
      ]
    },
    {
      "cell_type": "markdown",
      "metadata": {
        "id": "WNiMo8luB6Tt"
      },
      "source": [
        "Ta xem lại số chiều của bộ dữ liệu sau khi làm sạch"
      ]
    },
    {
      "cell_type": "code",
      "execution_count": 139,
      "metadata": {
        "colab": {
          "base_uri": "https://localhost:8080/"
        },
        "id": "WQINymC8B_Au",
        "outputId": "89c0aa21-9e2d-4245-f792-0d29611693b2"
      },
      "outputs": [
        {
          "data": {
            "text/plain": [
              "(12216, 9)"
            ]
          },
          "execution_count": 139,
          "metadata": {},
          "output_type": "execute_result"
        }
      ],
      "source": [
        "df.shape"
      ]
    },
    {
      "cell_type": "markdown",
      "metadata": {
        "id": "l_-akYxfB5c-"
      },
      "source": [
        "## 10. Lưu lại dữ liệu đã được làm sạch vào một file mới"
      ]
    },
    {
      "cell_type": "code",
      "execution_count": 140,
      "metadata": {
        "id": "HAkfBbftCLgr"
      },
      "outputs": [],
      "source": [
        "\n",
        "\n",
        "df.to_csv(SAVE_PATH, index=False)"
      ]
    },
    {
      "cell_type": "markdown",
      "metadata": {
        "id": "i9UuA9LkCuZ5"
      },
      "source": [
        "Ta đã kết thúc quá trình làm sạch nguồn dữ liệu\n",
        "\n",
        "Quá trình làm sạch dữ liệu ở trên có thể được bổ sung ở các bước tiếp theo của dự án nếu cần thiết."
      ]
    }
  ],
  "metadata": {
    "accelerator": "GPU",
    "colab": {
      "provenance": []
    },
    "gpuClass": "standard",
    "kernelspec": {
      "display_name": "Python 3",
      "language": "python",
      "name": "python3"
    },
    "language_info": {
      "codemirror_mode": {
        "name": "ipython",
        "version": 3
      },
      "file_extension": ".py",
      "mimetype": "text/x-python",
      "name": "python",
      "nbconvert_exporter": "python",
      "pygments_lexer": "ipython3",
      "version": "3.10.6 (main, Nov 14 2022, 16:10:14) [GCC 11.3.0]"
    },
    "vscode": {
      "interpreter": {
        "hash": "916dbcbb3f70747c44a77c7bcd40155683ae19c65e1c03b4aa3499c5328201f1"
      }
    }
  },
  "nbformat": 4,
  "nbformat_minor": 0
}
